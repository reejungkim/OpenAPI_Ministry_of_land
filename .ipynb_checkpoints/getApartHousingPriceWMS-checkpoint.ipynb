{
 "cells": [
  {
   "cell_type": "markdown",
   "id": "2faa285a",
   "metadata": {},
   "source": [
    "https://www.data.go.kr/data/15057988/openapi.do\n",
    "\n",
    "국토교통부_공동주택가격정보서비스\n",
    "\n",
    "토지의 단위면적당 공시가격, 공동/개별 주택가격 등 전국의 부동산 관련 공부 정보를 제공"
   ]
  },
  {
   "cell_type": "code",
   "execution_count": 1,
   "id": "0dcb03f6",
   "metadata": {},
   "outputs": [
    {
     "name": "stdout",
     "output_type": "stream",
     "text": [
      "b'<OpenAPI_ServiceResponse>\\n\\t<cmmMsgHeader>\\n\\t\\t<errMsg>SERVICE ERROR</errMsg>\\n\\t\\t<returnAuthMsg>SERVICE_KEY_IS_NOT_REGISTERED_ERROR</returnAuthMsg>\\n\\t\\t<returnReasonCode>30</returnReasonCode>\\n\\t</cmmMsgHeader>\\n</OpenAPI_ServiceResponse>'\n"
     ]
    }
   ],
   "source": [
    "import requests\n",
    "\n",
    "url = 'http://apis.data.go.kr/1611000/nsdi/ApartHousingPriceService/wms/getApartHousingPriceWMS'\n",
    "params ={'serviceKey' : '서비스키', 'layers' : '163', 'crs' : 'EPSG:5174', 'bbox' : '191000.225,447240.534,191179.03,447423.308', 'width' : '915', 'height' : '700', 'format' : 'image/png', 'transparent' : 'false', 'bgcolor' : '0xFFFFFF', 'exceptions' : 'blank' }\n",
    "\n",
    "response = requests.get(url, params=params)\n",
    "print(response.content)"
   ]
  },
  {
   "cell_type": "code",
   "execution_count": null,
   "id": "b01cb0c3",
   "metadata": {},
   "outputs": [],
   "source": []
  }
 ],
 "metadata": {
  "kernelspec": {
   "display_name": "Python 3 (ipykernel)",
   "language": "python",
   "name": "python3"
  },
  "language_info": {
   "codemirror_mode": {
    "name": "ipython",
    "version": 3
   },
   "file_extension": ".py",
   "mimetype": "text/x-python",
   "name": "python",
   "nbconvert_exporter": "python",
   "pygments_lexer": "ipython3",
   "version": "3.7.11"
  }
 },
 "nbformat": 4,
 "nbformat_minor": 5
}
