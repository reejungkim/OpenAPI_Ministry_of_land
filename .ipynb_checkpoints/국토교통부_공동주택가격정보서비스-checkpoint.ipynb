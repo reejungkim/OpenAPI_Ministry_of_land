{
 "cells": [
  {
   "cell_type": "markdown",
   "id": "15b5949d",
   "metadata": {},
   "source": [
    "https://www.data.go.kr/iim/api/selectAPIAcountView.do\n",
    "\n",
    "\n",
    "https://www.data.go.kr/tcs/dss/selectApiDataDetailView.do?publicDataPk=15057988"
   ]
  },
  {
   "cell_type": "markdown",
   "id": "ac8998bd",
   "metadata": {},
   "source": [
    "### 요청변수(Request Parameter)\n",
    "\n",
    "| 항목명(국문) | 항목명(영문)   | 항목크기 | 항목구분 | 샘플데이터               | 항목설명                 |\n",
    "|---------|-----------|------|------|---------------------|----------------------|\n",
    "| 고유번호    | pnu       | 19   | 필수   | 1111010100100040007 | 고유번호(8자리 이상)         |\n",
    "| 기준년도    | stdrYear  | 4    | 옵션   | 2012                | 기준년도(YYYY: 4자리)      |\n",
    "| 응답결과 형식 | format    | 5    | 옵션   | xml                 | 응답결과 형식(xml 또는 json) |\n",
    "| 검색건수    | numOfRows | 4    | 옵션   | 10                  | 검색건수                 |\n",
    "| 페이지 번호  | pageNo    | 4    | 옵션   | 1                   | 페이지 번호               |\n"
   ]
  },
  {
   "cell_type": "markdown",
   "id": "418b6217",
   "metadata": {},
   "source": [
    "### 출력결과(Response Element)\n",
    "\n",
    "| 항목명(국문)  | 항목명(영문)        | 항목크기 | 항목구분 | 샘플데이터               | 항목설명     |\n",
    "|----------|----------------|------|------|---------------------|----------|\n",
    "| 고유번호     | pnu            | 19   | 필수   | 1111010100100040007 | 고유번호     |\n",
    "| 법정동코드    | ldCode         | 10   | 옵션   | 1111010100          | 법정동코드    |\n",
    "| 법정동명     | ldCodeNm       | 300  | 옵션   | 서울특별시 종로구 청운동       | 법정동명     |\n",
    "| 특수지구분코드  | regstrSeCode   | 1    | 옵션   | 1                   | 특수지구분코드  |\n",
    "| 특수지구분명   | regstrSeCodeNm | 300  | 옵션   | 일반                  | 특수지구분명   |\n",
    "| 지번       | mnnmSlno       | 9    | 옵션   | 1-1                 | 지번       |\n",
    "| 기준년도     | stdrYear       | 4    | 필수   | 2012                | 기준년도     |\n",
    "| 기준월      | stdrMt         | 2    | 필수   | 09                  | 기준월      |\n",
    "| 공동주택코드   | aphusCode      | 10   | 옵션   | 1                   | 공동주택코드   |\n",
    "| 공동주택구분코드 | aphusSeCode    | 1    | 옵션   | 5                   | 공동주택구분코드 |\n",
    "| 공동주택구분명  | aphusSeCodeNm  | 300  | 옵션   | 다세대                 | 공동주택구분명  |\n",
    "| 특수지명     | spclLandNm     | 150  | 옵션   | 상암택지개발사업지구 3-7블럭    | 특수지명     |\n",
    "| 공동주택명    | aphusNm        | 300  | 옵션   | 상암월드컵7단지            | 공동주택명    |\n",
    "| 전용면적(㎡)  | prvuseAr       | 20   | 옵션   | 84.45               | 전용면적(㎡)  |\n",
    "| 공시가격(원)  | pblntfPc       | 13   | 옵션   | 480000000           | 공시가격(원)  |\n",
    "| 데이터기준일자  | lastUpdtDt     | 10   | 옵션   | 2016-09-26          | 데이터기준일자  |\n"
   ]
  },
  {
   "cell_type": "code",
   "execution_count": 18,
   "id": "ccfcbef4",
   "metadata": {},
   "outputs": [],
   "source": [
    "filename = 'ServiceKey.txt'\n",
    "def get_file_contents(filename):\n",
    "    \"\"\" Given a filename,\n",
    "        return the contents of that file\n",
    "    \"\"\"\n",
    "    try:\n",
    "        with open(filename, 'r') as f:\n",
    "            # It's assumed our file contains a single line,\n",
    "            # with our API key\n",
    "            return f.read().strip()\n",
    "    except FileNotFoundError:\n",
    "        print(\"'%s' file not found\" % filename)\n",
    "api_key = get_file_contents(filename)\n",
    "#print(\"Our API key is: %s\" % (api_key))"
   ]
  },
  {
   "cell_type": "code",
   "execution_count": 19,
   "id": "4392d474",
   "metadata": {
    "scrolled": true
   },
   "outputs": [],
   "source": [
    "import requests\n",
    "\n",
    "\n",
    "url = 'http://apis.data.go.kr/1611000/nsdi/ApartHousingPriceService/attr/getApartHousingPriceAttr'\n",
    "\n",
    "\n",
    "params ={'serviceKey' : api_key,\n",
    "         'pnu' : '1111010100100040007', \n",
    "         'stdrYear' : '2012', \n",
    "         'format' : 'xml', \n",
    "         'numOfRows' : '10', \n",
    "         'pageNo' : '1' }\n",
    "\n",
    "response = requests.get(url, params=params).text.encode('utf-8')\n",
    "#response\n",
    "#print(response.content)\n"
   ]
  },
  {
   "cell_type": "code",
   "execution_count": 31,
   "id": "be770741",
   "metadata": {},
   "outputs": [],
   "source": [
    "import bs4 as bs\n",
    "import urllib.request\n",
    "import pandas as pd \n",
    "\n",
    "soup = bs.BeautifulSoup(response,'xml')\n"
   ]
  },
  {
   "cell_type": "markdown",
   "id": "5238597e",
   "metadata": {},
   "source": [
    "soup.find_all()"
   ]
  },
  {
   "cell_type": "code",
   "execution_count": 21,
   "id": "b2548e00",
   "metadata": {},
   "outputs": [],
   "source": [
    "import xmltodict\n",
    " \n",
    "data = xmltodict.parse(response)"
   ]
  },
  {
   "cell_type": "markdown",
   "id": "8310ad10",
   "metadata": {},
   "source": [
    "data"
   ]
  },
  {
   "cell_type": "code",
   "execution_count": 22,
   "id": "d3b6e9bc",
   "metadata": {},
   "outputs": [
    {
     "data": {
      "text/plain": [
       "[<field><pnu>1111010100100040007</pnu><ldCode>1111010100</ldCode><ldCodeNm>서울특별시 종로구 청운동</ldCodeNm><regstrSeCode>1</regstrSeCode><regstrSeCodeNm>일반</regstrSeCodeNm><mnnmSlno>4-7</mnnmSlno><stdrYear>2012</stdrYear><stdrMt>01</stdrMt><aphusCode>1</aphusCode><aphusSeCode>5</aphusSeCode><aphusSeCodeNm>다세대</aphusSeCodeNm><aphusNm>신구파인힐</aphusNm><floorNm>1</floorNm><hoNm>101</hoNm><prvuseAr>211.13</prvuseAr><pblntfPc>700000000</pblntfPc><lastUpdtDt>2016-11-09</lastUpdtDt></field>,\n",
       " <field><pnu>1111010100100040007</pnu><ldCode>1111010100</ldCode><ldCodeNm>서울특별시 종로구 청운동</ldCodeNm><regstrSeCode>1</regstrSeCode><regstrSeCodeNm>일반</regstrSeCodeNm><mnnmSlno>4-7</mnnmSlno><stdrYear>2012</stdrYear><stdrMt>01</stdrMt><aphusCode>1</aphusCode><aphusSeCode>5</aphusSeCode><aphusSeCodeNm>다세대</aphusSeCodeNm><aphusNm>신구파인힐</aphusNm><floorNm>1</floorNm><hoNm>102</hoNm><prvuseAr>209.21</prvuseAr><pblntfPc>691000000</pblntfPc><lastUpdtDt>2016-11-09</lastUpdtDt></field>,\n",
       " <field><pnu>1111010100100040007</pnu><ldCode>1111010100</ldCode><ldCodeNm>서울특별시 종로구 청운동</ldCodeNm><regstrSeCode>1</regstrSeCode><regstrSeCodeNm>일반</regstrSeCodeNm><mnnmSlno>4-7</mnnmSlno><stdrYear>2012</stdrYear><stdrMt>01</stdrMt><aphusCode>1</aphusCode><aphusSeCode>5</aphusSeCode><aphusSeCodeNm>다세대</aphusSeCodeNm><aphusNm>신구파인힐</aphusNm><floorNm>2</floorNm><hoNm>201</hoNm><prvuseAr>207.89</prvuseAr><pblntfPc>691000000</pblntfPc><lastUpdtDt>2016-11-09</lastUpdtDt></field>,\n",
       " <field><pnu>1111010100100040007</pnu><ldCode>1111010100</ldCode><ldCodeNm>서울특별시 종로구 청운동</ldCodeNm><regstrSeCode>1</regstrSeCode><regstrSeCodeNm>일반</regstrSeCodeNm><mnnmSlno>4-7</mnnmSlno><stdrYear>2012</stdrYear><stdrMt>01</stdrMt><aphusCode>1</aphusCode><aphusSeCode>5</aphusSeCode><aphusSeCodeNm>다세대</aphusSeCodeNm><aphusNm>신구파인힐</aphusNm><floorNm>2</floorNm><hoNm>202</hoNm><prvuseAr>215.09</prvuseAr><pblntfPc>700000000</pblntfPc><lastUpdtDt>2016-11-09</lastUpdtDt></field>,\n",
       " <field><pnu>1111010100100040007</pnu><ldCode>1111010100</ldCode><ldCodeNm>서울특별시 종로구 청운동</ldCodeNm><regstrSeCode>1</regstrSeCode><regstrSeCodeNm>일반</regstrSeCodeNm><mnnmSlno>4-7</mnnmSlno><stdrYear>2012</stdrYear><stdrMt>01</stdrMt><aphusCode>1</aphusCode><aphusSeCode>5</aphusSeCode><aphusSeCodeNm>다세대</aphusSeCodeNm><aphusNm>신구파인힐</aphusNm><floorNm>3</floorNm><hoNm>301</hoNm><prvuseAr>219.33</prvuseAr><pblntfPc>729000000</pblntfPc><lastUpdtDt>2016-11-09</lastUpdtDt></field>,\n",
       " <field><pnu>1111010100100040007</pnu><ldCode>1111010100</ldCode><ldCodeNm>서울특별시 종로구 청운동</ldCodeNm><regstrSeCode>1</regstrSeCode><regstrSeCodeNm>일반</regstrSeCodeNm><mnnmSlno>4-7</mnnmSlno><stdrYear>2012</stdrYear><stdrMt>01</stdrMt><aphusCode>1</aphusCode><aphusSeCode>5</aphusSeCode><aphusSeCodeNm>다세대</aphusSeCodeNm><aphusNm>신구파인힐</aphusNm><floorNm>3</floorNm><hoNm>302</hoNm><prvuseAr>212.57</prvuseAr><pblntfPc>700000000</pblntfPc><lastUpdtDt>2016-11-09</lastUpdtDt></field>,\n",
       " <field><pnu>1111010100100040007</pnu><ldCode>1111010100</ldCode><ldCodeNm>서울특별시 종로구 청운동</ldCodeNm><regstrSeCode>1</regstrSeCode><regstrSeCodeNm>일반</regstrSeCodeNm><mnnmSlno>4-7</mnnmSlno><stdrYear>2012</stdrYear><stdrMt>01</stdrMt><aphusCode>1</aphusCode><aphusSeCode>5</aphusSeCode><aphusSeCodeNm>다세대</aphusSeCodeNm><aphusNm>신구파인힐</aphusNm><floorNm>-1</floorNm><hoNm>B02</hoNm><prvuseAr>90.72</prvuseAr><pblntfPc>264000000</pblntfPc><lastUpdtDt>2016-11-09</lastUpdtDt></field>,\n",
       " <field><pnu>1111010100100040007</pnu><ldCode>1111010100</ldCode><ldCodeNm>서울특별시 종로구 청운동</ldCodeNm><regstrSeCode>1</regstrSeCode><regstrSeCodeNm>일반</regstrSeCodeNm><mnnmSlno>4-7</mnnmSlno><stdrYear>2012</stdrYear><stdrMt>01</stdrMt><aphusCode>1</aphusCode><aphusSeCode>5</aphusSeCode><aphusSeCodeNm>다세대</aphusSeCodeNm><aphusNm>신구파인힐</aphusNm><floorNm>-1</floorNm><hoNm>B01</hoNm><prvuseAr>118.77</prvuseAr><pblntfPc>360000000</pblntfPc><lastUpdtDt>2016-11-09</lastUpdtDt></field>]"
      ]
     },
     "execution_count": 22,
     "metadata": {},
     "output_type": "execute_result"
    }
   ],
   "source": [
    "rows = soup.find_all('field')\n",
    "rows"
   ]
  },
  {
   "cell_type": "code",
   "execution_count": 23,
   "id": "86c86c96",
   "metadata": {},
   "outputs": [
    {
     "data": {
      "text/plain": [
       "[<pnu>1111010100100040007</pnu>,\n",
       " <ldCode>1111010100</ldCode>,\n",
       " <ldCodeNm>서울특별시 종로구 청운동</ldCodeNm>,\n",
       " <regstrSeCode>1</regstrSeCode>,\n",
       " <regstrSeCodeNm>일반</regstrSeCodeNm>,\n",
       " <mnnmSlno>4-7</mnnmSlno>,\n",
       " <stdrYear>2012</stdrYear>,\n",
       " <stdrMt>01</stdrMt>,\n",
       " <aphusCode>1</aphusCode>,\n",
       " <aphusSeCode>5</aphusSeCode>,\n",
       " <aphusSeCodeNm>다세대</aphusSeCodeNm>,\n",
       " <aphusNm>신구파인힐</aphusNm>,\n",
       " <floorNm>1</floorNm>,\n",
       " <hoNm>101</hoNm>,\n",
       " <prvuseAr>211.13</prvuseAr>,\n",
       " <pblntfPc>700000000</pblntfPc>,\n",
       " <lastUpdtDt>2016-11-09</lastUpdtDt>]"
      ]
     },
     "execution_count": 23,
     "metadata": {},
     "output_type": "execute_result"
    }
   ],
   "source": [
    "columns = rows[0].find_all()\n",
    "columns"
   ]
  },
  {
   "cell_type": "code",
   "execution_count": 24,
   "id": "3fcf0ca9",
   "metadata": {},
   "outputs": [
    {
     "data": {
      "text/plain": [
       "('pnu', '1111010100100040007')"
      ]
     },
     "execution_count": 24,
     "metadata": {},
     "output_type": "execute_result"
    }
   ],
   "source": [
    "columns[0].name, columns[0].text"
   ]
  },
  {
   "cell_type": "code",
   "execution_count": 25,
   "id": "b175b4c0",
   "metadata": {},
   "outputs": [],
   "source": [
    "rowList = []\n",
    "nameList = []\n",
    "columnList = []\n",
    "\n",
    "columnsLen = len(columns)\n",
    "for j in range(0, columnsLen):\n",
    "    eachColumn = columns[j].text\n",
    "    columnList.append(eachColumn)\n",
    "rowList.append(columnList)"
   ]
  },
  {
   "cell_type": "code",
   "execution_count": 26,
   "id": "26a508f6",
   "metadata": {},
   "outputs": [
    {
     "data": {
      "text/plain": [
       "[['1111010100100040007',\n",
       "  '1111010100',\n",
       "  '서울특별시 종로구 청운동',\n",
       "  '1',\n",
       "  '일반',\n",
       "  '4-7',\n",
       "  '2012',\n",
       "  '01',\n",
       "  '1',\n",
       "  '5',\n",
       "  '다세대',\n",
       "  '신구파인힐',\n",
       "  '1',\n",
       "  '101',\n",
       "  '211.13',\n",
       "  '700000000',\n",
       "  '2016-11-09']]"
      ]
     },
     "execution_count": 26,
     "metadata": {},
     "output_type": "execute_result"
    }
   ],
   "source": [
    "rowList"
   ]
  },
  {
   "cell_type": "code",
   "execution_count": 32,
   "id": "e5f43f10",
   "metadata": {},
   "outputs": [
    {
     "data": {
      "text/html": [
       "<div>\n",
       "<style scoped>\n",
       "    .dataframe tbody tr th:only-of-type {\n",
       "        vertical-align: middle;\n",
       "    }\n",
       "\n",
       "    .dataframe tbody tr th {\n",
       "        vertical-align: top;\n",
       "    }\n",
       "\n",
       "    .dataframe thead th {\n",
       "        text-align: right;\n",
       "    }\n",
       "</style>\n",
       "<table border=\"1\" class=\"dataframe\">\n",
       "  <thead>\n",
       "    <tr style=\"text-align: right;\">\n",
       "      <th></th>\n",
       "      <th>pnu</th>\n",
       "      <th>ldCode</th>\n",
       "      <th>ldCodeNm</th>\n",
       "      <th>regstrSeCode</th>\n",
       "      <th>regstrSeCodeNm</th>\n",
       "      <th>mnnmSlno</th>\n",
       "      <th>stdrYear</th>\n",
       "      <th>stdrMt</th>\n",
       "      <th>aphusCode</th>\n",
       "      <th>aphusSeCode</th>\n",
       "      <th>aphusSeCodeNm</th>\n",
       "      <th>aphusNm</th>\n",
       "      <th>floorNm</th>\n",
       "      <th>hoNm</th>\n",
       "      <th>prvuseAr</th>\n",
       "      <th>pblntfPc</th>\n",
       "      <th>lastUpdtDt</th>\n",
       "    </tr>\n",
       "  </thead>\n",
       "  <tbody>\n",
       "    <tr>\n",
       "      <th>0</th>\n",
       "      <td>1111010100100040007</td>\n",
       "      <td>1111010100</td>\n",
       "      <td>서울특별시 종로구 청운동</td>\n",
       "      <td>1</td>\n",
       "      <td>일반</td>\n",
       "      <td>4-7</td>\n",
       "      <td>2012</td>\n",
       "      <td>01</td>\n",
       "      <td>1</td>\n",
       "      <td>5</td>\n",
       "      <td>다세대</td>\n",
       "      <td>신구파인힐</td>\n",
       "      <td>1</td>\n",
       "      <td>101</td>\n",
       "      <td>211.13</td>\n",
       "      <td>700000000</td>\n",
       "      <td>2016-11-09</td>\n",
       "    </tr>\n",
       "    <tr>\n",
       "      <th>1</th>\n",
       "      <td>1111010100100040007</td>\n",
       "      <td>1111010100</td>\n",
       "      <td>서울특별시 종로구 청운동</td>\n",
       "      <td>1</td>\n",
       "      <td>일반</td>\n",
       "      <td>4-7</td>\n",
       "      <td>2012</td>\n",
       "      <td>01</td>\n",
       "      <td>1</td>\n",
       "      <td>5</td>\n",
       "      <td>다세대</td>\n",
       "      <td>신구파인힐</td>\n",
       "      <td>1</td>\n",
       "      <td>102</td>\n",
       "      <td>209.21</td>\n",
       "      <td>691000000</td>\n",
       "      <td>2016-11-09</td>\n",
       "    </tr>\n",
       "    <tr>\n",
       "      <th>2</th>\n",
       "      <td>1111010100100040007</td>\n",
       "      <td>1111010100</td>\n",
       "      <td>서울특별시 종로구 청운동</td>\n",
       "      <td>1</td>\n",
       "      <td>일반</td>\n",
       "      <td>4-7</td>\n",
       "      <td>2012</td>\n",
       "      <td>01</td>\n",
       "      <td>1</td>\n",
       "      <td>5</td>\n",
       "      <td>다세대</td>\n",
       "      <td>신구파인힐</td>\n",
       "      <td>2</td>\n",
       "      <td>201</td>\n",
       "      <td>207.89</td>\n",
       "      <td>691000000</td>\n",
       "      <td>2016-11-09</td>\n",
       "    </tr>\n",
       "    <tr>\n",
       "      <th>3</th>\n",
       "      <td>1111010100100040007</td>\n",
       "      <td>1111010100</td>\n",
       "      <td>서울특별시 종로구 청운동</td>\n",
       "      <td>1</td>\n",
       "      <td>일반</td>\n",
       "      <td>4-7</td>\n",
       "      <td>2012</td>\n",
       "      <td>01</td>\n",
       "      <td>1</td>\n",
       "      <td>5</td>\n",
       "      <td>다세대</td>\n",
       "      <td>신구파인힐</td>\n",
       "      <td>2</td>\n",
       "      <td>202</td>\n",
       "      <td>215.09</td>\n",
       "      <td>700000000</td>\n",
       "      <td>2016-11-09</td>\n",
       "    </tr>\n",
       "    <tr>\n",
       "      <th>4</th>\n",
       "      <td>1111010100100040007</td>\n",
       "      <td>1111010100</td>\n",
       "      <td>서울특별시 종로구 청운동</td>\n",
       "      <td>1</td>\n",
       "      <td>일반</td>\n",
       "      <td>4-7</td>\n",
       "      <td>2012</td>\n",
       "      <td>01</td>\n",
       "      <td>1</td>\n",
       "      <td>5</td>\n",
       "      <td>다세대</td>\n",
       "      <td>신구파인힐</td>\n",
       "      <td>3</td>\n",
       "      <td>301</td>\n",
       "      <td>219.33</td>\n",
       "      <td>729000000</td>\n",
       "      <td>2016-11-09</td>\n",
       "    </tr>\n",
       "  </tbody>\n",
       "</table>\n",
       "</div>"
      ],
      "text/plain": [
       "                   pnu      ldCode       ldCodeNm regstrSeCode regstrSeCodeNm  \\\n",
       "0  1111010100100040007  1111010100  서울특별시 종로구 청운동            1             일반   \n",
       "1  1111010100100040007  1111010100  서울특별시 종로구 청운동            1             일반   \n",
       "2  1111010100100040007  1111010100  서울특별시 종로구 청운동            1             일반   \n",
       "3  1111010100100040007  1111010100  서울특별시 종로구 청운동            1             일반   \n",
       "4  1111010100100040007  1111010100  서울특별시 종로구 청운동            1             일반   \n",
       "\n",
       "  mnnmSlno stdrYear stdrMt aphusCode aphusSeCode aphusSeCodeNm aphusNm  \\\n",
       "0      4-7     2012     01         1           5           다세대   신구파인힐   \n",
       "1      4-7     2012     01         1           5           다세대   신구파인힐   \n",
       "2      4-7     2012     01         1           5           다세대   신구파인힐   \n",
       "3      4-7     2012     01         1           5           다세대   신구파인힐   \n",
       "4      4-7     2012     01         1           5           다세대   신구파인힐   \n",
       "\n",
       "  floorNm hoNm prvuseAr   pblntfPc  lastUpdtDt  \n",
       "0       1  101   211.13  700000000  2016-11-09  \n",
       "1       1  102   209.21  691000000  2016-11-09  \n",
       "2       2  201   207.89  691000000  2016-11-09  \n",
       "3       2  202   215.09  700000000  2016-11-09  \n",
       "4       3  301   219.33  729000000  2016-11-09  "
      ]
     },
     "execution_count": 32,
     "metadata": {},
     "output_type": "execute_result"
    }
   ],
   "source": [
    "\n",
    "rowList = []\n",
    "nameList = []\n",
    "columnList = []\n",
    "\n",
    "rowsLen = len(rows)\n",
    "for i in range(0, rowsLen):\n",
    "    columns = rows[i].find_all()\n",
    "    \n",
    "    columnsLen = len(columns)\n",
    "    for j in range(0, columnsLen):\n",
    "        # 첫 번째 행 데이터 값 수집 시에만 컬럼 값을 저장한다. (어차피 rows[0], rows[1], ... 모두 컬럼헤더는 동일한 값을 가지기 때문에 매번 반복할 필요가 없다.)\n",
    "        if i == 0:\n",
    "            nameList.append(columns[j].name)\n",
    "        # 컬럼값은 모든 행의 값을 저장해야한다.    \n",
    "        eachColumn = columns[j].text\n",
    "        columnList.append(eachColumn)\n",
    "    rowList.append(columnList)\n",
    "    columnList = []    # 다음 row의 값을 넣기 위해 비워준다. (매우 중요!!)\n",
    "    \n",
    "result = pd.DataFrame(rowList, columns=nameList)\n",
    "result.head()"
   ]
  },
  {
   "cell_type": "code",
   "execution_count": 33,
   "id": "0ed92c00",
   "metadata": {},
   "outputs": [
    {
     "data": {
      "text/html": [
       "<div>\n",
       "<style scoped>\n",
       "    .dataframe tbody tr th:only-of-type {\n",
       "        vertical-align: middle;\n",
       "    }\n",
       "\n",
       "    .dataframe tbody tr th {\n",
       "        vertical-align: top;\n",
       "    }\n",
       "\n",
       "    .dataframe thead th {\n",
       "        text-align: right;\n",
       "    }\n",
       "</style>\n",
       "<table border=\"1\" class=\"dataframe\">\n",
       "  <thead>\n",
       "    <tr style=\"text-align: right;\">\n",
       "      <th></th>\n",
       "      <th>pnu</th>\n",
       "      <th>ldCode</th>\n",
       "      <th>ldCodeNm</th>\n",
       "      <th>regstrSeCode</th>\n",
       "      <th>regstrSeCodeNm</th>\n",
       "      <th>mnnmSlno</th>\n",
       "      <th>stdrYear</th>\n",
       "      <th>stdrMt</th>\n",
       "      <th>aphusCode</th>\n",
       "      <th>aphusSeCode</th>\n",
       "      <th>aphusSeCodeNm</th>\n",
       "      <th>aphusNm</th>\n",
       "      <th>floorNm</th>\n",
       "      <th>hoNm</th>\n",
       "      <th>prvuseAr</th>\n",
       "      <th>pblntfPc</th>\n",
       "      <th>lastUpdtDt</th>\n",
       "    </tr>\n",
       "  </thead>\n",
       "  <tbody>\n",
       "    <tr>\n",
       "      <th>count</th>\n",
       "      <td>8</td>\n",
       "      <td>8</td>\n",
       "      <td>8</td>\n",
       "      <td>8</td>\n",
       "      <td>8</td>\n",
       "      <td>8</td>\n",
       "      <td>8</td>\n",
       "      <td>8</td>\n",
       "      <td>8</td>\n",
       "      <td>8</td>\n",
       "      <td>8</td>\n",
       "      <td>8</td>\n",
       "      <td>8</td>\n",
       "      <td>8</td>\n",
       "      <td>8</td>\n",
       "      <td>8</td>\n",
       "      <td>8</td>\n",
       "    </tr>\n",
       "    <tr>\n",
       "      <th>unique</th>\n",
       "      <td>1</td>\n",
       "      <td>1</td>\n",
       "      <td>1</td>\n",
       "      <td>1</td>\n",
       "      <td>1</td>\n",
       "      <td>1</td>\n",
       "      <td>1</td>\n",
       "      <td>1</td>\n",
       "      <td>1</td>\n",
       "      <td>1</td>\n",
       "      <td>1</td>\n",
       "      <td>1</td>\n",
       "      <td>4</td>\n",
       "      <td>8</td>\n",
       "      <td>8</td>\n",
       "      <td>5</td>\n",
       "      <td>1</td>\n",
       "    </tr>\n",
       "    <tr>\n",
       "      <th>top</th>\n",
       "      <td>1111010100100040007</td>\n",
       "      <td>1111010100</td>\n",
       "      <td>서울특별시 종로구 청운동</td>\n",
       "      <td>1</td>\n",
       "      <td>일반</td>\n",
       "      <td>4-7</td>\n",
       "      <td>2012</td>\n",
       "      <td>01</td>\n",
       "      <td>1</td>\n",
       "      <td>5</td>\n",
       "      <td>다세대</td>\n",
       "      <td>신구파인힐</td>\n",
       "      <td>2</td>\n",
       "      <td>201</td>\n",
       "      <td>211.13</td>\n",
       "      <td>700000000</td>\n",
       "      <td>2016-11-09</td>\n",
       "    </tr>\n",
       "    <tr>\n",
       "      <th>freq</th>\n",
       "      <td>8</td>\n",
       "      <td>8</td>\n",
       "      <td>8</td>\n",
       "      <td>8</td>\n",
       "      <td>8</td>\n",
       "      <td>8</td>\n",
       "      <td>8</td>\n",
       "      <td>8</td>\n",
       "      <td>8</td>\n",
       "      <td>8</td>\n",
       "      <td>8</td>\n",
       "      <td>8</td>\n",
       "      <td>2</td>\n",
       "      <td>1</td>\n",
       "      <td>1</td>\n",
       "      <td>3</td>\n",
       "      <td>8</td>\n",
       "    </tr>\n",
       "  </tbody>\n",
       "</table>\n",
       "</div>"
      ],
      "text/plain": [
       "                        pnu      ldCode       ldCodeNm regstrSeCode  \\\n",
       "count                     8           8              8            8   \n",
       "unique                    1           1              1            1   \n",
       "top     1111010100100040007  1111010100  서울특별시 종로구 청운동            1   \n",
       "freq                      8           8              8            8   \n",
       "\n",
       "       regstrSeCodeNm mnnmSlno stdrYear stdrMt aphusCode aphusSeCode  \\\n",
       "count               8        8        8      8         8           8   \n",
       "unique              1        1        1      1         1           1   \n",
       "top                일반      4-7     2012     01         1           5   \n",
       "freq                8        8        8      8         8           8   \n",
       "\n",
       "       aphusSeCodeNm aphusNm floorNm hoNm prvuseAr   pblntfPc  lastUpdtDt  \n",
       "count              8       8       8    8        8          8           8  \n",
       "unique             1       1       4    8        8          5           1  \n",
       "top              다세대   신구파인힐       2  201   211.13  700000000  2016-11-09  \n",
       "freq               8       8       2    1        1          3           8  "
      ]
     },
     "execution_count": 33,
     "metadata": {},
     "output_type": "execute_result"
    }
   ],
   "source": [
    "result.describe()"
   ]
  },
  {
   "cell_type": "code",
   "execution_count": 34,
   "id": "ec535fbc",
   "metadata": {},
   "outputs": [
    {
     "data": {
      "text/plain": [
       "(8, 17)"
      ]
     },
     "execution_count": 34,
     "metadata": {},
     "output_type": "execute_result"
    }
   ],
   "source": [
    "result.shape"
   ]
  },
  {
   "cell_type": "code",
   "execution_count": 35,
   "id": "7005305a",
   "metadata": {},
   "outputs": [
    {
     "data": {
      "text/plain": [
       "Index(['pnu', 'ldCode', 'ldCodeNm', 'regstrSeCode', 'regstrSeCodeNm',\n",
       "       'mnnmSlno', 'stdrYear', 'stdrMt', 'aphusCode', 'aphusSeCode',\n",
       "       'aphusSeCodeNm', 'aphusNm', 'floorNm', 'hoNm', 'prvuseAr', 'pblntfPc',\n",
       "       'lastUpdtDt'],\n",
       "      dtype='object')"
      ]
     },
     "execution_count": 35,
     "metadata": {},
     "output_type": "execute_result"
    }
   ],
   "source": [
    "result.columns"
   ]
  },
  {
   "cell_type": "markdown",
   "id": "b1758c17",
   "metadata": {},
   "source": [
    "import pandas as pd\n",
    "pd.DataFrame.from_dict(data)"
   ]
  },
  {
   "cell_type": "markdown",
   "id": "fbf910bc",
   "metadata": {
    "scrolled": true
   },
   "source": [
    "import xmltodict, json\n",
    "\n",
    "json.dumps(data) # '{\"e\": {\"a\": [\"text\", \"text\"]}}'"
   ]
  },
  {
   "cell_type": "markdown",
   "id": "39d69060",
   "metadata": {
    "scrolled": true
   },
   "source": [
    "from pandas import json_normalize\n",
    "info = json.loads(json.dumps(data))\n",
    "\n",
    "df = json_normalize(info['wfs:FeatureCollection']) #Results contain the required data\n",
    "print(df)"
   ]
  },
  {
   "cell_type": "code",
   "execution_count": null,
   "id": "0cdc492b",
   "metadata": {},
   "outputs": [],
   "source": []
  }
 ],
 "metadata": {
  "kernelspec": {
   "display_name": "Python 3 (ipykernel)",
   "language": "python",
   "name": "python3"
  },
  "language_info": {
   "codemirror_mode": {
    "name": "ipython",
    "version": 3
   },
   "file_extension": ".py",
   "mimetype": "text/x-python",
   "name": "python",
   "nbconvert_exporter": "python",
   "pygments_lexer": "ipython3",
   "version": "3.7.11"
  }
 },
 "nbformat": 4,
 "nbformat_minor": 5
}
