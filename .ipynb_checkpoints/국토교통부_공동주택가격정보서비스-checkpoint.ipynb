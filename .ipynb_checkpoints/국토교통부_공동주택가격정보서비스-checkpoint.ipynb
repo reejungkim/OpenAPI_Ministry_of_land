{
 "cells": [
  {
   "cell_type": "markdown",
   "id": "95e46ea0",
   "metadata": {},
   "source": [
    "https://www.data.go.kr/iim/api/selectAPIAcountView.do\n",
    "\n",
    "https://www.data.go.kr/tcs/dss/selectApiDataDetailView.do?publicDataPk=15057988"
   ]
  },
  {
   "cell_type": "code",
   "execution_count": 84,
   "id": "570d72ff",
   "metadata": {
    "scrolled": true
   },
   "outputs": [
    {
     "name": "stdout",
     "output_type": "stream",
     "text": [
      "b'<?xml version=\"1.0\" encoding=\"utf-8\" ?>\\n<wfs:FeatureCollection xmlns:xs=\"http://www.w3.org/2001/XMLSchema\" xmlns:wfs=\"http://www.opengis.net/wfs\" xmlns:gml=\"http://www.opengis.net/gml\" xmlns:NSDI=\"http://10.1.17.66:6080/arcgis/services/opend/EiosSpceServiceWFS/MapServer/WFSServer\" xmlns:xlink=\"http://www.w3.org/1999/xlink\" xmlns:xsi=\"http://www.w3.org/2001/XMLSchema-instance\" timeStamp=\"2022-04-21T14:05:21Z\" numberOfFeatures=\"unknown\" xsi:schemaLocation=\"http://www.opengis.net/wfs http://schemas.opengis.net/wfs/1.1.0/wfs.xsd http://www.opengis.net/gml http://schemas.opengis.net/gml/3.1.1/base/gml.xsd http://10.1.17.66:6080/arcgis/services/opend/EiosSpceServiceWFS/MapServer/WFSServer http://10.1.17.66:6080/arcgis/services/opendb/EiosSpceServiceWFS/MapServer/WFSServer?service=wfs%26version=1.1.0%26request=DescribeFeatureType\">\\n<gml:boundedBy>\\n  <gml:Envelope srsName=\"urn:ogc:def:crs:EPSG::5174\">\\n    <gml:lowerCorner>190697.5846999995 447478.6108999997</gml:lowerCorner>\\n    <gml:upperCorner>190816.2490999997 447570.9178999998</gml:upperCorner>\\n  </gml:Envelope>\\n</gml:boundedBy>\\n  <gml:featureMember>\\n    <NSDI:F163 gml:id=\"F163.1089736\">\\n      <NSDI:SHAPE><gml:Point><gml:pos>190816.2490999997 447511.0121999998</gml:pos></gml:Point></NSDI:SHAPE>\\n      <NSDI:X_CRDNT>190816.2491</NSDI:X_CRDNT>\\n      <NSDI:Y_CRDNT>447511.0122</NSDI:Y_CRDNT>\\n      <NSDI:PNU>1156011400100910000</NSDI:PNU>\\n      <NSDI:LD_CPSG_CODE>11560</NSDI:LD_CPSG_CODE>\\n      <NSDI:LD_EMD_LI_CODE>11400</NSDI:LD_EMD_LI_CODE>\\n      <NSDI:REGSTR_SE_CODE>1</NSDI:REGSTR_SE_CODE>\\n      <NSDI:MNNM>0091</NSDI:MNNM>\\n      <NSDI:SLNO>0000</NSDI:SLNO>\\n      <NSDI:STDR_YEAR>2021</NSDI:STDR_YEAR>\\n      <NSDI:STDR_MT>01</NSDI:STDR_MT>\\n      <NSDI:APHUS_CODE>982</NSDI:APHUS_CODE>\\n      <NSDI:APHUS_SE_CODE>1</NSDI:APHUS_SE_CODE>\\n      <NSDI:APHUS_NM>\\xec\\x9c\\xa0\\xec\\x9b\\x90\\xec\\xa0\\x9c\\xec\\x9d\\xbc</NSDI:APHUS_NM>\\n      <NSDI:DONG_NM>1</NSDI:DONG_NM>\\n      <NSDI:AVRG_PBLNTF_PC>551423729</NSDI:AVRG_PBLNTF_PC>\\n      <NSDI:ALL_PBLNTF_PC>32534000000</NSDI:ALL_PBLNTF_PC>\\n      <NSDI:UNIT_AR_PC>9890798</NSDI:UNIT_AR_PC>\\n      <NSDI:CALC_APHUS_HO_CO>59</NSDI:CALC_APHUS_HO_CO>\\n      <NSDI:PSTYR_1_AVRG_PBLNTF_PC>479881356</NSDI:PSTYR_1_AVRG_PBLNTF_PC>\\n      <NSDI:PSTYR_2_AVRG_PBLNTF_PC>406745763</NSDI:PSTYR_2_AVRG_PBLNTF_PC>\\n      <NSDI:PSTYR_3_AVRG_PBLNTF_PC>334610169</NSDI:PSTYR_3_AVRG_PBLNTF_PC>\\n      <NSDI:PSTYR_4_AVRG_PBLNTF_PC>280067797</NSDI:PSTYR_4_AVRG_PBLNTF_PC>\\n      <NSDI:FRST_REGIST_DT>2021-07-22T16:43:20</NSDI:FRST_REGIST_DT>\\n    </NSDI:F163>\\n  </gml:featureMember>\\n  <gml:featureMember>\\n    <NSDI:F163 gml:id=\"F163.1089735\">\\n      <NSDI:SHAPE><gml:Point><gml:pos>190770.4170000004 447539.6754000001</gml:pos></gml:Point></NSDI:SHAPE>\\n      <NSDI:X_CRDNT>190770.417</NSDI:X_CRDNT>\\n      <NSDI:Y_CRDNT>447539.6754</NSDI:Y_CRDNT>\\n      <NSDI:PNU>1156011400100910000</NSDI:PNU>\\n      <NSDI:LD_CPSG_CODE>11560</NSDI:LD_CPSG_CODE>\\n      <NSDI:LD_EMD_LI_CODE>11400</NSDI:LD_EMD_LI_CODE>\\n      <NSDI:REGSTR_SE_CODE>1</NSDI:REGSTR_SE_CODE>\\n      <NSDI:MNNM>0091</NSDI:MNNM>\\n      <NSDI:SLNO>0000</NSDI:SLNO>\\n      <NSDI:STDR_YEAR>2021</NSDI:STDR_YEAR>\\n      <NSDI:STDR_MT>01</NSDI:STDR_MT>\\n      <NSDI:APHUS_CODE>982</NSDI:APHUS_CODE>\\n      <NSDI:APHUS_SE_CODE>1</NSDI:APHUS_SE_CODE>\\n      <NSDI:APHUS_NM>\\xec\\x9c\\xa0\\xec\\x9b\\x90\\xec\\xa0\\x9c\\xec\\x9d\\xbc</NSDI:APHUS_NM>\\n      <NSDI:DONG_NM>2</NSDI:DONG_NM>\\n      <NSDI:AVRG_PBLNTF_PC>546794118</NSDI:AVRG_PBLNTF_PC>\\n      <NSDI:ALL_PBLNTF_PC>37182000000</NSDI:ALL_PBLNTF_PC>\\n      <NSDI:UNIT_AR_PC>9941605</NSDI:UNIT_AR_PC>\\n      <NSDI:CALC_APHUS_HO_CO>68</NSDI:CALC_APHUS_HO_CO>\\n      <NSDI:PSTYR_1_AVRG_PBLNTF_PC>475529412</NSDI:PSTYR_1_AVRG_PBLNTF_PC>\\n      <NSDI:PSTYR_2_AVRG_PBLNTF_PC>401411765</NSDI:PSTYR_2_AVRG_PBLNTF_PC>\\n      <NSDI:PSTYR_3_AVRG_PBLNTF_PC>329617647</NSDI:PSTYR_3_AVRG_PBLNTF_PC>\\n      <NSDI:PSTYR_4_AVRG_PBLNTF_PC>276014706</NSDI:PSTYR_4_AVRG_PBLNTF_PC>\\n      <NSDI:FRST_REGIST_DT>2021-07-22T16:43:20</NSDI:FRST_REGIST_DT>\\n    </NSDI:F163>\\n  </gml:featureMember>\\n  <gml:featureMember>\\n    <NSDI:F163 gml:id=\"F163.1089911\">\\n      <NSDI:SHAPE><gml:Point><gml:pos>190720.3931999998 447570.9178999998</gml:pos></gml:Point></NSDI:SHAPE>\\n      <NSDI:X_CRDNT>190720.3932</NSDI:X_CRDNT>\\n      <NSDI:Y_CRDNT>447570.9179</NSDI:Y_CRDNT>\\n      <NSDI:PNU>1156011400100910000</NSDI:PNU>\\n      <NSDI:LD_CPSG_CODE>11560</NSDI:LD_CPSG_CODE>\\n      <NSDI:LD_EMD_LI_CODE>11400</NSDI:LD_EMD_LI_CODE>\\n      <NSDI:REGSTR_SE_CODE>1</NSDI:REGSTR_SE_CODE>\\n      <NSDI:MNNM>0091</NSDI:MNNM>\\n      <NSDI:SLNO>0000</NSDI:SLNO>\\n      <NSDI:STDR_YEAR>2021</NSDI:STDR_YEAR>\\n      <NSDI:STDR_MT>01</NSDI:STDR_MT>\\n      <NSDI:APHUS_CODE>982</NSDI:APHUS_CODE>\\n      <NSDI:APHUS_SE_CODE>1</NSDI:APHUS_SE_CODE>\\n      <NSDI:APHUS_NM>\\xec\\x9c\\xa0\\xec\\x9b\\x90\\xec\\xa0\\x9c\\xec\\x9d\\xbc</NSDI:APHUS_NM>\\n      <NSDI:DONG_NM>3</NSDI:DONG_NM>\\n      <NSDI:AVRG_PBLNTF_PC>550433333</NSDI:AVRG_PBLNTF_PC>\\n      <NSDI:ALL_PBLNTF_PC>66052000000</NSDI:ALL_PBLNTF_PC>\\n      <NSDI:UNIT_AR_PC>9885656</NSDI:UNIT_AR_PC>\\n      <NSDI:CALC_APHUS_HO_CO>120</NSDI:CALC_APHUS_HO_CO>\\n      <NSDI:PSTYR_1_AVRG_PBLNTF_PC>479000000</NSDI:PSTYR_1_AVRG_PBLNTF_PC>\\n      <NSDI:PSTYR_2_AVRG_PBLNTF_PC>405733333</NSDI:PSTYR_2_AVRG_PBLNTF_PC>\\n      <NSDI:PSTYR_3_AVRG_PBLNTF_PC>333733333</NSDI:PSTYR_3_AVRG_PBLNTF_PC>\\n      <NSDI:PSTYR_4_AVRG_PBLNTF_PC>279333333</NSDI:PSTYR_4_AVRG_PBLNTF_PC>\\n      <NSDI:FRST_REGIST_DT>2021-07-22T16:43:20</NSDI:FRST_REGIST_DT>\\n    </NSDI:F163>\\n  </gml:featureMember>\\n  <gml:featureMember>\\n    <NSDI:F163 gml:id=\"F163.1089910\">\\n      <NSDI:SHAPE><gml:Point><gml:pos>190697.5846999995 447521.7205999997</gml:pos></gml:Point></NSDI:SHAPE>\\n      <NSDI:X_CRDNT>190697.5847</NSDI:X_CRDNT>\\n      <NSDI:Y_CRDNT>447521.7206</NSDI:Y_CRDNT>\\n      <NSDI:PNU>1156011400100910000</NSDI:PNU>\\n      <NSDI:LD_CPSG_CODE>11560</NSDI:LD_CPSG_CODE>\\n      <NSDI:LD_EMD_LI_CODE>11400</NSDI:LD_EMD_LI_CODE>\\n      <NSDI:REGSTR_SE_CODE>1</NSDI:REGSTR_SE_CODE>\\n      <NSDI:MNNM>0091</NSDI:MNNM>\\n      <NSDI:SLNO>0000</NSDI:SLNO>\\n      <NSDI:STDR_YEAR>2021</NSDI:STDR_YEAR>\\n      <NSDI:STDR_MT>01</NSDI:STDR_MT>\\n      <NSDI:APHUS_CODE>982</NSDI:APHUS_CODE>\\n      <NSDI:APHUS_SE_CODE>1</NSDI:APHUS_SE_CODE>\\n      <NSDI:APHUS_NM>\\xec\\x9c\\xa0\\xec\\x9b\\x90\\xec\\xa0\\x9c\\xec\\x9d\\xbc</NSDI:APHUS_NM>\\n      <NSDI:DONG_NM>4</NSDI:DONG_NM>\\n      <NSDI:AVRG_PBLNTF_PC>818727273</NSDI:AVRG_PBLNTF_PC>\\n      <NSDI:ALL_PBLNTF_PC>45030000000</NSDI:ALL_PBLNTF_PC>\\n      <NSDI:UNIT_AR_PC>9657080</NSDI:UNIT_AR_PC>\\n      <NSDI:CALC_APHUS_HO_CO>55</NSDI:CALC_APHUS_HO_CO>\\n      <NSDI:PSTYR_1_AVRG_PBLNTF_PC>583272727</NSDI:PSTYR_1_AVRG_PBLNTF_PC>\\n      <NSDI:PSTYR_2_AVRG_PBLNTF_PC>472000000</NSDI:PSTYR_2_AVRG_PBLNTF_PC>\\n      <NSDI:PSTYR_3_AVRG_PBLNTF_PC>410090909</NSDI:PSTYR_3_AVRG_PBLNTF_PC>\\n      <NSDI:PSTYR_4_AVRG_PBLNTF_PC>355181818</NSDI:PSTYR_4_AVRG_PBLNTF_PC>\\n      <NSDI:FRST_REGIST_DT>2021-07-22T16:43:20</NSDI:FRST_REGIST_DT>\\n    </NSDI:F163>\\n  </gml:featureMember>\\n  <gml:featureMember>\\n    <NSDI:F163 gml:id=\"F163.1089740\">\\n      <NSDI:SHAPE><gml:Point><gml:pos>190767.4666999998 447478.6108999997</gml:pos></gml:Point></NSDI:SHAPE>\\n      <NSDI:X_CRDNT>190767.4667</NSDI:X_CRDNT>\\n      <NSDI:Y_CRDNT>447478.6109</NSDI:Y_CRDNT>\\n      <NSDI:PNU>1156011400100910000</NSDI:PNU>\\n      <NSDI:LD_CPSG_CODE>11560</NSDI:LD_CPSG_CODE>\\n      <NSDI:LD_EMD_LI_CODE>11400</NSDI:LD_EMD_LI_CODE>\\n      <NSDI:REGSTR_SE_CODE>1</NSDI:REGSTR_SE_CODE>\\n      <NSDI:MNNM>0091</NSDI:MNNM>\\n      <NSDI:SLNO>0000</NSDI:SLNO>\\n      <NSDI:STDR_YEAR>2021</NSDI:STDR_YEAR>\\n      <NSDI:STDR_MT>01</NSDI:STDR_MT>\\n      <NSDI:APHUS_CODE>982</NSDI:APHUS_CODE>\\n      <NSDI:APHUS_SE_CODE>1</NSDI:APHUS_SE_CODE>\\n      <NSDI:APHUS_NM>\\xec\\x9c\\xa0\\xec\\x9b\\x90\\xec\\xa0\\x9c\\xec\\x9d\\xbc</NSDI:APHUS_NM>\\n      <NSDI:DONG_NM>5</NSDI:DONG_NM>\\n      <NSDI:AVRG_PBLNTF_PC>722111111</NSDI:AVRG_PBLNTF_PC>\\n      <NSDI:ALL_PBLNTF_PC>38994000000</NSDI:ALL_PBLNTF_PC>\\n      <NSDI:UNIT_AR_PC>9760896</NSDI:UNIT_AR_PC>\\n      <NSDI:CALC_APHUS_HO_CO>54</NSDI:CALC_APHUS_HO_CO>\\n      <NSDI:PSTYR_1_AVRG_PBLNTF_PC>551629630</NSDI:PSTYR_1_AVRG_PBLNTF_PC>\\n      <NSDI:PSTYR_2_AVRG_PBLNTF_PC>470796296</NSDI:PSTYR_2_AVRG_PBLNTF_PC>\\n      <NSDI:PSTYR_3_AVRG_PBLNTF_PC>402000000</NSDI:PSTYR_3_AVRG_PBLNTF_PC>\\n      <NSDI:PSTYR_4_AVRG_PBLNTF_PC>345666667</NSDI:PSTYR_4_AVRG_PBLNTF_PC>\\n      <NSDI:FRST_REGIST_DT>2021-07-22T16:43:20</NSDI:FRST_REGIST_DT>\\n    </NSDI:F163>\\n  </gml:featureMember>\\n</wfs:FeatureCollection>'\n",
      "b'<OpenAPI_ServiceResponse>\\n\\t<cmmMsgHeader>\\n\\t\\t<errMsg>SERVICE ERROR</errMsg>\\n\\t\\t<returnAuthMsg>SERVICE_KEY_IS_NOT_REGISTERED_ERROR</returnAuthMsg>\\n\\t\\t<returnReasonCode>30</returnReasonCode>\\n\\t</cmmMsgHeader>\\n</OpenAPI_ServiceResponse>'\n"
     ]
    }
   ],
   "source": [
    "import requests\n",
    "\n",
    "\n",
    "url = 'http://apis.data.go.kr/1611000/nsdi/ApartHousingPriceService/wfs/getApartHousingPriceWFS'\n",
    "\n",
    "params ={'serviceKey' : 'zaeHKUd+udWXYAS90iNFVdplnQ58mV0a++SuSZrKRVhjD2cJOhRSDZ9xzMmrxmd5S0TnN8Jg2UZCJLH8Y6oZQg==', \n",
    "         'typename' : 'F163', \n",
    "         'bbox' : '191000.225,447240.534,191279.03,447523.308,EPSG:5174', \n",
    "         'pnu' : '1156011400100910000', \n",
    "         'maxFeatures' : '10', \n",
    "         'resultType' : 'results', \n",
    "         'srsName' : 'EPSG:5174' }\n",
    "\n",
    "response = requests.get(url, params=params)\n",
    "print(response.content)\n",
    "\n",
    "response = requests.get(url) #, params=params)\n",
    "print(response.content)\n",
    "\n"
   ]
  },
  {
   "cell_type": "code",
   "execution_count": 82,
   "id": "27ad5492",
   "metadata": {},
   "outputs": [
    {
     "ename": "JSONDecodeError",
     "evalue": "Expecting value: line 1 column 1 (char 0)",
     "output_type": "error",
     "traceback": [
      "\u001b[0;31m---------------------------------------------------------------------------\u001b[0m",
      "\u001b[0;31mJSONDecodeError\u001b[0m                           Traceback (most recent call last)",
      "\u001b[0;32m/var/folders/l6/22wjv97x2yq_lzg77lp74ml40000gn/T/ipykernel_3572/189500321.py\u001b[0m in \u001b[0;36m<module>\u001b[0;34m\u001b[0m\n\u001b[1;32m      1\u001b[0m \u001b[0;32mimport\u001b[0m \u001b[0mjson\u001b[0m\u001b[0;34m\u001b[0m\u001b[0;34m\u001b[0m\u001b[0m\n\u001b[1;32m      2\u001b[0m \u001b[0;34m\u001b[0m\u001b[0m\n\u001b[0;32m----> 3\u001b[0;31m \u001b[0mjson\u001b[0m\u001b[0;34m.\u001b[0m\u001b[0mloads\u001b[0m\u001b[0;34m(\u001b[0m\u001b[0mresponse\u001b[0m\u001b[0;34m.\u001b[0m\u001b[0mcontent\u001b[0m\u001b[0;34m)\u001b[0m\u001b[0;34m\u001b[0m\u001b[0;34m\u001b[0m\u001b[0m\n\u001b[0m",
      "\u001b[0;32m/opt/anaconda3/envs/myenv/lib/python3.7/json/__init__.py\u001b[0m in \u001b[0;36mloads\u001b[0;34m(s, encoding, cls, object_hook, parse_float, parse_int, parse_constant, object_pairs_hook, **kw)\u001b[0m\n\u001b[1;32m    346\u001b[0m             \u001b[0mparse_int\u001b[0m \u001b[0;32mis\u001b[0m \u001b[0;32mNone\u001b[0m \u001b[0;32mand\u001b[0m \u001b[0mparse_float\u001b[0m \u001b[0;32mis\u001b[0m \u001b[0;32mNone\u001b[0m \u001b[0;32mand\u001b[0m\u001b[0;34m\u001b[0m\u001b[0;34m\u001b[0m\u001b[0m\n\u001b[1;32m    347\u001b[0m             parse_constant is None and object_pairs_hook is None and not kw):\n\u001b[0;32m--> 348\u001b[0;31m         \u001b[0;32mreturn\u001b[0m \u001b[0m_default_decoder\u001b[0m\u001b[0;34m.\u001b[0m\u001b[0mdecode\u001b[0m\u001b[0;34m(\u001b[0m\u001b[0ms\u001b[0m\u001b[0;34m)\u001b[0m\u001b[0;34m\u001b[0m\u001b[0;34m\u001b[0m\u001b[0m\n\u001b[0m\u001b[1;32m    349\u001b[0m     \u001b[0;32mif\u001b[0m \u001b[0mcls\u001b[0m \u001b[0;32mis\u001b[0m \u001b[0;32mNone\u001b[0m\u001b[0;34m:\u001b[0m\u001b[0;34m\u001b[0m\u001b[0;34m\u001b[0m\u001b[0m\n\u001b[1;32m    350\u001b[0m         \u001b[0mcls\u001b[0m \u001b[0;34m=\u001b[0m \u001b[0mJSONDecoder\u001b[0m\u001b[0;34m\u001b[0m\u001b[0;34m\u001b[0m\u001b[0m\n",
      "\u001b[0;32m/opt/anaconda3/envs/myenv/lib/python3.7/json/decoder.py\u001b[0m in \u001b[0;36mdecode\u001b[0;34m(self, s, _w)\u001b[0m\n\u001b[1;32m    335\u001b[0m \u001b[0;34m\u001b[0m\u001b[0m\n\u001b[1;32m    336\u001b[0m         \"\"\"\n\u001b[0;32m--> 337\u001b[0;31m         \u001b[0mobj\u001b[0m\u001b[0;34m,\u001b[0m \u001b[0mend\u001b[0m \u001b[0;34m=\u001b[0m \u001b[0mself\u001b[0m\u001b[0;34m.\u001b[0m\u001b[0mraw_decode\u001b[0m\u001b[0;34m(\u001b[0m\u001b[0ms\u001b[0m\u001b[0;34m,\u001b[0m \u001b[0midx\u001b[0m\u001b[0;34m=\u001b[0m\u001b[0m_w\u001b[0m\u001b[0;34m(\u001b[0m\u001b[0ms\u001b[0m\u001b[0;34m,\u001b[0m \u001b[0;36m0\u001b[0m\u001b[0;34m)\u001b[0m\u001b[0;34m.\u001b[0m\u001b[0mend\u001b[0m\u001b[0;34m(\u001b[0m\u001b[0;34m)\u001b[0m\u001b[0;34m)\u001b[0m\u001b[0;34m\u001b[0m\u001b[0;34m\u001b[0m\u001b[0m\n\u001b[0m\u001b[1;32m    338\u001b[0m         \u001b[0mend\u001b[0m \u001b[0;34m=\u001b[0m \u001b[0m_w\u001b[0m\u001b[0;34m(\u001b[0m\u001b[0ms\u001b[0m\u001b[0;34m,\u001b[0m \u001b[0mend\u001b[0m\u001b[0;34m)\u001b[0m\u001b[0;34m.\u001b[0m\u001b[0mend\u001b[0m\u001b[0;34m(\u001b[0m\u001b[0;34m)\u001b[0m\u001b[0;34m\u001b[0m\u001b[0;34m\u001b[0m\u001b[0m\n\u001b[1;32m    339\u001b[0m         \u001b[0;32mif\u001b[0m \u001b[0mend\u001b[0m \u001b[0;34m!=\u001b[0m \u001b[0mlen\u001b[0m\u001b[0;34m(\u001b[0m\u001b[0ms\u001b[0m\u001b[0;34m)\u001b[0m\u001b[0;34m:\u001b[0m\u001b[0;34m\u001b[0m\u001b[0;34m\u001b[0m\u001b[0m\n",
      "\u001b[0;32m/opt/anaconda3/envs/myenv/lib/python3.7/json/decoder.py\u001b[0m in \u001b[0;36mraw_decode\u001b[0;34m(self, s, idx)\u001b[0m\n\u001b[1;32m    353\u001b[0m             \u001b[0mobj\u001b[0m\u001b[0;34m,\u001b[0m \u001b[0mend\u001b[0m \u001b[0;34m=\u001b[0m \u001b[0mself\u001b[0m\u001b[0;34m.\u001b[0m\u001b[0mscan_once\u001b[0m\u001b[0;34m(\u001b[0m\u001b[0ms\u001b[0m\u001b[0;34m,\u001b[0m \u001b[0midx\u001b[0m\u001b[0;34m)\u001b[0m\u001b[0;34m\u001b[0m\u001b[0;34m\u001b[0m\u001b[0m\n\u001b[1;32m    354\u001b[0m         \u001b[0;32mexcept\u001b[0m \u001b[0mStopIteration\u001b[0m \u001b[0;32mas\u001b[0m \u001b[0merr\u001b[0m\u001b[0;34m:\u001b[0m\u001b[0;34m\u001b[0m\u001b[0;34m\u001b[0m\u001b[0m\n\u001b[0;32m--> 355\u001b[0;31m             \u001b[0;32mraise\u001b[0m \u001b[0mJSONDecodeError\u001b[0m\u001b[0;34m(\u001b[0m\u001b[0;34m\"Expecting value\"\u001b[0m\u001b[0;34m,\u001b[0m \u001b[0ms\u001b[0m\u001b[0;34m,\u001b[0m \u001b[0merr\u001b[0m\u001b[0;34m.\u001b[0m\u001b[0mvalue\u001b[0m\u001b[0;34m)\u001b[0m \u001b[0;32mfrom\u001b[0m \u001b[0;32mNone\u001b[0m\u001b[0;34m\u001b[0m\u001b[0;34m\u001b[0m\u001b[0m\n\u001b[0m\u001b[1;32m    356\u001b[0m         \u001b[0;32mreturn\u001b[0m \u001b[0mobj\u001b[0m\u001b[0;34m,\u001b[0m \u001b[0mend\u001b[0m\u001b[0;34m\u001b[0m\u001b[0;34m\u001b[0m\u001b[0m\n",
      "\u001b[0;31mJSONDecodeError\u001b[0m: Expecting value: line 1 column 1 (char 0)"
     ]
    }
   ],
   "source": [
    "import json\n",
    "\n",
    "json.loads(response.content)"
   ]
  },
  {
   "cell_type": "code",
   "execution_count": 73,
   "id": "0809003c",
   "metadata": {},
   "outputs": [],
   "source": [
    "#url을 불러오고 이것을 인코딩을 utf-8로 전환하여 결과를 받자.\n",
    "import urllib.request \n",
    "import json \n",
    "import pandas as pd \n",
    "from pandas.io.json import json_normalize \n",
    "\n",
    "response = urllib.request.urlopen(url) \n",
    "json_str = response.read().decode(\"utf-8\")"
   ]
  },
  {
   "cell_type": "code",
   "execution_count": 74,
   "id": "568db0ea",
   "metadata": {},
   "outputs": [
    {
     "data": {
      "text/plain": [
       "'<OpenAPI_ServiceResponse>\\n\\t<cmmMsgHeader>\\n\\t\\t<errMsg>SERVICE ERROR</errMsg>\\n\\t\\t<returnAuthMsg>SERVICE_KEY_IS_NOT_REGISTERED_ERROR</returnAuthMsg>\\n\\t\\t<returnReasonCode>30</returnReasonCode>\\n\\t</cmmMsgHeader>\\n</OpenAPI_ServiceResponse>'"
      ]
     },
     "execution_count": 74,
     "metadata": {},
     "output_type": "execute_result"
    }
   ],
   "source": [
    "json_str"
   ]
  },
  {
   "cell_type": "code",
   "execution_count": 75,
   "id": "55f87aba",
   "metadata": {},
   "outputs": [
    {
     "ename": "AttributeError",
     "evalue": "'HTTPResponse' object has no attribute 'json'",
     "output_type": "error",
     "traceback": [
      "\u001b[0;31m---------------------------------------------------------------------------\u001b[0m",
      "\u001b[0;31mAttributeError\u001b[0m                            Traceback (most recent call last)",
      "\u001b[0;32m/var/folders/l6/22wjv97x2yq_lzg77lp74ml40000gn/T/ipykernel_3572/2039760581.py\u001b[0m in \u001b[0;36m<module>\u001b[0;34m\u001b[0m\n\u001b[1;32m      1\u001b[0m \u001b[0;32mimport\u001b[0m \u001b[0mpprint\u001b[0m\u001b[0;34m\u001b[0m\u001b[0;34m\u001b[0m\u001b[0m\n\u001b[1;32m      2\u001b[0m \u001b[0;34m\u001b[0m\u001b[0m\n\u001b[0;32m----> 3\u001b[0;31m \u001b[0mpprint\u001b[0m\u001b[0;34m.\u001b[0m\u001b[0mpprint\u001b[0m\u001b[0;34m(\u001b[0m\u001b[0mresponse\u001b[0m\u001b[0;34m.\u001b[0m\u001b[0mjson\u001b[0m\u001b[0;34m(\u001b[0m\u001b[0;34m)\u001b[0m\u001b[0;34m)\u001b[0m\u001b[0;34m\u001b[0m\u001b[0;34m\u001b[0m\u001b[0m\n\u001b[0m",
      "\u001b[0;31mAttributeError\u001b[0m: 'HTTPResponse' object has no attribute 'json'"
     ]
    }
   ],
   "source": [
    "import pprint\n",
    "\n",
    "pprint.pprint(response.json())"
   ]
  },
  {
   "cell_type": "markdown",
   "id": "e45532fb",
   "metadata": {},
   "source": [
    "json_ob = json.loads(contents)\n",
    "print(json_ob)\n",
    "print(type(json_ob))\n",
    "\n",
    "body = json_ob['response']['body']['items']\n",
    "print(body)"
   ]
  },
  {
   "cell_type": "code",
   "execution_count": null,
   "id": "0794d043",
   "metadata": {},
   "outputs": [],
   "source": []
  }
 ],
 "metadata": {
  "kernelspec": {
   "display_name": "Python 3 (ipykernel)",
   "language": "python",
   "name": "python3"
  },
  "language_info": {
   "codemirror_mode": {
    "name": "ipython",
    "version": 3
   },
   "file_extension": ".py",
   "mimetype": "text/x-python",
   "name": "python",
   "nbconvert_exporter": "python",
   "pygments_lexer": "ipython3",
   "version": "3.7.11"
  }
 },
 "nbformat": 4,
 "nbformat_minor": 5
}
