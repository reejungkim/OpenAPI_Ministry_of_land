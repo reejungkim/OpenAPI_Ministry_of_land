{
 "cells": [
  {
   "cell_type": "markdown",
   "id": "f5ec1d8e",
   "metadata": {},
   "source": [
    "https://www.data.go.kr/iim/api/selectAPIAcountView.do\n",
    "\n",
    "\n",
    "https://www.data.go.kr/tcs/dss/selectApiDataDetailView.do?publicDataPk=15057988"
   ]
  },
  {
   "cell_type": "markdown",
   "id": "6191ec63",
   "metadata": {},
   "source": [
    "#### 요청변수(Request Parameter)\n",
    "\n",
    "| 항목명(국문) | 항목명(영문)   | 항목크기 | 항목구분 | 샘플데이터               | 항목설명                 |\n",
    "|---------|-----------|------|------|---------------------|----------------------|\n",
    "| 고유번호    | pnu       | 19   | 필수   | 1111010100100040007 | 고유번호(8자리 이상)         |\n",
    "| 기준년도    | stdrYear  | 4    | 옵션   | 2012                | 기준년도(YYYY: 4자리)      |\n",
    "| 응답결과 형식 | format    | 5    | 옵션   | xml                 | 응답결과 형식(xml 또는 json) |\n",
    "| 검색건수    | numOfRows | 4    | 옵션   | 10                  | 검색건수                 |\n",
    "| 페이지 번호  | pageNo    | 4    | 옵션   | 1                   | 페이지 번호               |\n"
   ]
  },
  {
   "cell_type": "markdown",
   "id": "f0b8a71a",
   "metadata": {},
   "source": [
    "#### 출력결과(Response Element)\n",
    "\n",
    "| 항목명(국문)  | 항목명(영문)        | 항목크기 | 항목구분 | 샘플데이터               | 항목설명     |\n",
    "|----------|----------------|------|------|---------------------|----------|\n",
    "| 고유번호     | pnu            | 19   | 필수   | 1111010100100040007 | 고유번호     |\n",
    "| 법정동코드    | ldCode         | 10   | 옵션   | 1111010100          | 법정동코드    |\n",
    "| 법정동명     | ldCodeNm       | 300  | 옵션   | 서울특별시 종로구 청운동       | 법정동명     |\n",
    "| 특수지구분코드  | regstrSeCode   | 1    | 옵션   | 1                   | 특수지구분코드  |\n",
    "| 특수지구분명   | regstrSeCodeNm | 300  | 옵션   | 일반                  | 특수지구분명   |\n",
    "| 지번       | mnnmSlno       | 9    | 옵션   | 1-1                 | 지번       |\n",
    "| 기준년도     | stdrYear       | 4    | 필수   | 2012                | 기준년도     |\n",
    "| 기준월      | stdrMt         | 2    | 필수   | 09                  | 기준월      |\n",
    "| 공동주택코드   | aphusCode      | 10   | 옵션   | 1                   | 공동주택코드   |\n",
    "| 공동주택구분코드 | aphusSeCode    | 1    | 옵션   | 5                   | 공동주택구분코드 |\n",
    "| 공동주택구분명  | aphusSeCodeNm  | 300  | 옵션   | 다세대                 | 공동주택구분명  |\n",
    "| 특수지명     | spclLandNm     | 150  | 옵션   | 상암택지개발사업지구 3-7블럭    | 특수지명     |\n",
    "| 공동주택명    | aphusNm        | 300  | 옵션   | 상암월드컵7단지            | 공동주택명    |\n",
    "| 전용면적(㎡)  | prvuseAr       | 20   | 옵션   | 84.45               | 전용면적(㎡)  |\n",
    "| 공시가격(원)  | pblntfPc       | 13   | 옵션   | 480000000           | 공시가격(원)  |\n",
    "| 데이터기준일자  | lastUpdtDt     | 10   | 옵션   | 2016-09-26          | 데이터기준일자  |\n"
   ]
  },
  {
   "cell_type": "code",
   "execution_count": 1,
   "id": "45bc6eb6",
   "metadata": {},
   "outputs": [],
   "source": [
    "filename = 'ServiceKey.txt'\n",
    "def get_file_contents(filename):\n",
    "    \"\"\" Given a filename,\n",
    "        return the contents of that file\n",
    "    \"\"\"\n",
    "    try:\n",
    "        with open(filename, 'r') as f:\n",
    "            # It's assumed our file contains a single line,\n",
    "            # with our API key\n",
    "            return f.read().strip()\n",
    "    except FileNotFoundError:\n",
    "        print(\"'%s' file not found\" % filename)\n",
    "        \n",
    "api_key = get_file_contents(filename)\n",
    "#print(\"Our API key is: %s\" % (api_key))"
   ]
  },
  {
   "cell_type": "code",
   "execution_count": 2,
   "id": "8a0b9851",
   "metadata": {
    "scrolled": true
   },
   "outputs": [],
   "source": [
    "import requests\n",
    "\n",
    "\n",
    "url = 'http://apis.data.go.kr/1611000/nsdi/ApartHousingPriceService/attr/getApartHousingPriceAttr'\n",
    "\n",
    "\n",
    "params ={'serviceKey' : api_key,\n",
    "         'pnu' : '1111010100100040007', \n",
    "         'stdrYear' : '2012', \n",
    "         'format' : 'xml', \n",
    "         'numOfRows' : '10', \n",
    "         'pageNo' : '1' }\n",
    "\n",
    "response = requests.get(url, params=params).text.encode('utf-8')\n",
    "#response\n",
    "#print(response.content)\n"
   ]
  },
  {
   "cell_type": "code",
   "execution_count": 3,
   "id": "0923d9d0",
   "metadata": {},
   "outputs": [],
   "source": [
    "import bs4 as bs\n",
    "import urllib.request\n",
    "import pandas as pd \n",
    "\n",
    "soup = bs.BeautifulSoup(response,'xml')\n"
   ]
  },
  {
   "cell_type": "markdown",
   "id": "71f6a56b",
   "metadata": {},
   "source": [
    "soup.find_all()"
   ]
  },
  {
   "cell_type": "code",
   "execution_count": 4,
   "id": "f6e4788e",
   "metadata": {},
   "outputs": [],
   "source": [
    "import xmltodict\n",
    " \n",
    "data = xmltodict.parse(response)"
   ]
  },
  {
   "cell_type": "code",
   "execution_count": 5,
   "id": "3a4e4a31",
   "metadata": {},
   "outputs": [
    {
     "data": {
      "text/plain": [
       "[<field><pnu>1111010100100040007</pnu><ldCode>1111010100</ldCode><ldCodeNm>서울특별시 종로구 청운동</ldCodeNm><regstrSeCode>1</regstrSeCode><regstrSeCodeNm>일반</regstrSeCodeNm><mnnmSlno>4-7</mnnmSlno><stdrYear>2012</stdrYear><stdrMt>01</stdrMt><aphusCode>1</aphusCode><aphusSeCode>5</aphusSeCode><aphusSeCodeNm>다세대</aphusSeCodeNm><aphusNm>신구파인힐</aphusNm><floorNm>1</floorNm><hoNm>101</hoNm><prvuseAr>211.13</prvuseAr><pblntfPc>700000000</pblntfPc><lastUpdtDt>2016-11-09</lastUpdtDt></field>,\n",
       " <field><pnu>1111010100100040007</pnu><ldCode>1111010100</ldCode><ldCodeNm>서울특별시 종로구 청운동</ldCodeNm><regstrSeCode>1</regstrSeCode><regstrSeCodeNm>일반</regstrSeCodeNm><mnnmSlno>4-7</mnnmSlno><stdrYear>2012</stdrYear><stdrMt>01</stdrMt><aphusCode>1</aphusCode><aphusSeCode>5</aphusSeCode><aphusSeCodeNm>다세대</aphusSeCodeNm><aphusNm>신구파인힐</aphusNm><floorNm>1</floorNm><hoNm>102</hoNm><prvuseAr>209.21</prvuseAr><pblntfPc>691000000</pblntfPc><lastUpdtDt>2016-11-09</lastUpdtDt></field>,\n",
       " <field><pnu>1111010100100040007</pnu><ldCode>1111010100</ldCode><ldCodeNm>서울특별시 종로구 청운동</ldCodeNm><regstrSeCode>1</regstrSeCode><regstrSeCodeNm>일반</regstrSeCodeNm><mnnmSlno>4-7</mnnmSlno><stdrYear>2012</stdrYear><stdrMt>01</stdrMt><aphusCode>1</aphusCode><aphusSeCode>5</aphusSeCode><aphusSeCodeNm>다세대</aphusSeCodeNm><aphusNm>신구파인힐</aphusNm><floorNm>2</floorNm><hoNm>201</hoNm><prvuseAr>207.89</prvuseAr><pblntfPc>691000000</pblntfPc><lastUpdtDt>2016-11-09</lastUpdtDt></field>,\n",
       " <field><pnu>1111010100100040007</pnu><ldCode>1111010100</ldCode><ldCodeNm>서울특별시 종로구 청운동</ldCodeNm><regstrSeCode>1</regstrSeCode><regstrSeCodeNm>일반</regstrSeCodeNm><mnnmSlno>4-7</mnnmSlno><stdrYear>2012</stdrYear><stdrMt>01</stdrMt><aphusCode>1</aphusCode><aphusSeCode>5</aphusSeCode><aphusSeCodeNm>다세대</aphusSeCodeNm><aphusNm>신구파인힐</aphusNm><floorNm>2</floorNm><hoNm>202</hoNm><prvuseAr>215.09</prvuseAr><pblntfPc>700000000</pblntfPc><lastUpdtDt>2016-11-09</lastUpdtDt></field>,\n",
       " <field><pnu>1111010100100040007</pnu><ldCode>1111010100</ldCode><ldCodeNm>서울특별시 종로구 청운동</ldCodeNm><regstrSeCode>1</regstrSeCode><regstrSeCodeNm>일반</regstrSeCodeNm><mnnmSlno>4-7</mnnmSlno><stdrYear>2012</stdrYear><stdrMt>01</stdrMt><aphusCode>1</aphusCode><aphusSeCode>5</aphusSeCode><aphusSeCodeNm>다세대</aphusSeCodeNm><aphusNm>신구파인힐</aphusNm><floorNm>3</floorNm><hoNm>301</hoNm><prvuseAr>219.33</prvuseAr><pblntfPc>729000000</pblntfPc><lastUpdtDt>2016-11-09</lastUpdtDt></field>,\n",
       " <field><pnu>1111010100100040007</pnu><ldCode>1111010100</ldCode><ldCodeNm>서울특별시 종로구 청운동</ldCodeNm><regstrSeCode>1</regstrSeCode><regstrSeCodeNm>일반</regstrSeCodeNm><mnnmSlno>4-7</mnnmSlno><stdrYear>2012</stdrYear><stdrMt>01</stdrMt><aphusCode>1</aphusCode><aphusSeCode>5</aphusSeCode><aphusSeCodeNm>다세대</aphusSeCodeNm><aphusNm>신구파인힐</aphusNm><floorNm>3</floorNm><hoNm>302</hoNm><prvuseAr>212.57</prvuseAr><pblntfPc>700000000</pblntfPc><lastUpdtDt>2016-11-09</lastUpdtDt></field>,\n",
       " <field><pnu>1111010100100040007</pnu><ldCode>1111010100</ldCode><ldCodeNm>서울특별시 종로구 청운동</ldCodeNm><regstrSeCode>1</regstrSeCode><regstrSeCodeNm>일반</regstrSeCodeNm><mnnmSlno>4-7</mnnmSlno><stdrYear>2012</stdrYear><stdrMt>01</stdrMt><aphusCode>1</aphusCode><aphusSeCode>5</aphusSeCode><aphusSeCodeNm>다세대</aphusSeCodeNm><aphusNm>신구파인힐</aphusNm><floorNm>-1</floorNm><hoNm>B02</hoNm><prvuseAr>90.72</prvuseAr><pblntfPc>264000000</pblntfPc><lastUpdtDt>2016-11-09</lastUpdtDt></field>,\n",
       " <field><pnu>1111010100100040007</pnu><ldCode>1111010100</ldCode><ldCodeNm>서울특별시 종로구 청운동</ldCodeNm><regstrSeCode>1</regstrSeCode><regstrSeCodeNm>일반</regstrSeCodeNm><mnnmSlno>4-7</mnnmSlno><stdrYear>2012</stdrYear><stdrMt>01</stdrMt><aphusCode>1</aphusCode><aphusSeCode>5</aphusSeCode><aphusSeCodeNm>다세대</aphusSeCodeNm><aphusNm>신구파인힐</aphusNm><floorNm>-1</floorNm><hoNm>B01</hoNm><prvuseAr>118.77</prvuseAr><pblntfPc>360000000</pblntfPc><lastUpdtDt>2016-11-09</lastUpdtDt></field>]"
      ]
     },
     "execution_count": 5,
     "metadata": {},
     "output_type": "execute_result"
    }
   ],
   "source": [
    "rows = soup.find_all('field')\n",
    "rows"
   ]
  },
  {
   "cell_type": "code",
   "execution_count": 6,
   "id": "172af7e4",
   "metadata": {},
   "outputs": [
    {
     "data": {
      "text/plain": [
       "[<pnu>1111010100100040007</pnu>,\n",
       " <ldCode>1111010100</ldCode>,\n",
       " <ldCodeNm>서울특별시 종로구 청운동</ldCodeNm>,\n",
       " <regstrSeCode>1</regstrSeCode>,\n",
       " <regstrSeCodeNm>일반</regstrSeCodeNm>,\n",
       " <mnnmSlno>4-7</mnnmSlno>,\n",
       " <stdrYear>2012</stdrYear>,\n",
       " <stdrMt>01</stdrMt>,\n",
       " <aphusCode>1</aphusCode>,\n",
       " <aphusSeCode>5</aphusSeCode>,\n",
       " <aphusSeCodeNm>다세대</aphusSeCodeNm>,\n",
       " <aphusNm>신구파인힐</aphusNm>,\n",
       " <floorNm>1</floorNm>,\n",
       " <hoNm>101</hoNm>,\n",
       " <prvuseAr>211.13</prvuseAr>,\n",
       " <pblntfPc>700000000</pblntfPc>,\n",
       " <lastUpdtDt>2016-11-09</lastUpdtDt>]"
      ]
     },
     "execution_count": 6,
     "metadata": {},
     "output_type": "execute_result"
    }
   ],
   "source": [
    "columns = rows[0].find_all()\n",
    "columns"
   ]
  },
  {
   "cell_type": "code",
   "execution_count": 7,
   "id": "ed3bba20",
   "metadata": {},
   "outputs": [
    {
     "data": {
      "text/plain": [
       "('pnu', '1111010100100040007')"
      ]
     },
     "execution_count": 7,
     "metadata": {},
     "output_type": "execute_result"
    }
   ],
   "source": [
    "columns[0].name, columns[0].text"
   ]
  },
  {
   "cell_type": "code",
   "execution_count": 8,
   "id": "82b75762",
   "metadata": {},
   "outputs": [],
   "source": [
    "rowList = []\n",
    "nameList = []\n",
    "columnList = []\n",
    "\n",
    "columnsLen = len(columns)\n",
    "for j in range(0, columnsLen):\n",
    "    eachColumn = columns[j].text\n",
    "    columnList.append(eachColumn)\n",
    "rowList.append(columnList)"
   ]
  },
  {
   "cell_type": "code",
   "execution_count": 9,
   "id": "e8661330",
   "metadata": {},
   "outputs": [
    {
     "data": {
      "text/plain": [
       "[['1111010100100040007',\n",
       "  '1111010100',\n",
       "  '서울특별시 종로구 청운동',\n",
       "  '1',\n",
       "  '일반',\n",
       "  '4-7',\n",
       "  '2012',\n",
       "  '01',\n",
       "  '1',\n",
       "  '5',\n",
       "  '다세대',\n",
       "  '신구파인힐',\n",
       "  '1',\n",
       "  '101',\n",
       "  '211.13',\n",
       "  '700000000',\n",
       "  '2016-11-09']]"
      ]
     },
     "execution_count": 9,
     "metadata": {},
     "output_type": "execute_result"
    }
   ],
   "source": [
    "rowList"
   ]
  },
  {
   "cell_type": "code",
   "execution_count": 10,
   "id": "e903fb57",
   "metadata": {},
   "outputs": [
    {
     "data": {
      "text/html": [
       "<div>\n",
       "<style scoped>\n",
       "    .dataframe tbody tr th:only-of-type {\n",
       "        vertical-align: middle;\n",
       "    }\n",
       "\n",
       "    .dataframe tbody tr th {\n",
       "        vertical-align: top;\n",
       "    }\n",
       "\n",
       "    .dataframe thead th {\n",
       "        text-align: right;\n",
       "    }\n",
       "</style>\n",
       "<table border=\"1\" class=\"dataframe\">\n",
       "  <thead>\n",
       "    <tr style=\"text-align: right;\">\n",
       "      <th></th>\n",
       "      <th>pnu</th>\n",
       "      <th>ldCode</th>\n",
       "      <th>ldCodeNm</th>\n",
       "      <th>regstrSeCode</th>\n",
       "      <th>regstrSeCodeNm</th>\n",
       "      <th>mnnmSlno</th>\n",
       "      <th>stdrYear</th>\n",
       "      <th>stdrMt</th>\n",
       "      <th>aphusCode</th>\n",
       "      <th>aphusSeCode</th>\n",
       "      <th>aphusSeCodeNm</th>\n",
       "      <th>aphusNm</th>\n",
       "      <th>floorNm</th>\n",
       "      <th>hoNm</th>\n",
       "      <th>prvuseAr</th>\n",
       "      <th>pblntfPc</th>\n",
       "      <th>lastUpdtDt</th>\n",
       "    </tr>\n",
       "  </thead>\n",
       "  <tbody>\n",
       "    <tr>\n",
       "      <th>0</th>\n",
       "      <td>1111010100100040007</td>\n",
       "      <td>1111010100</td>\n",
       "      <td>서울특별시 종로구 청운동</td>\n",
       "      <td>1</td>\n",
       "      <td>일반</td>\n",
       "      <td>4-7</td>\n",
       "      <td>2012</td>\n",
       "      <td>01</td>\n",
       "      <td>1</td>\n",
       "      <td>5</td>\n",
       "      <td>다세대</td>\n",
       "      <td>신구파인힐</td>\n",
       "      <td>1</td>\n",
       "      <td>101</td>\n",
       "      <td>211.13</td>\n",
       "      <td>700000000</td>\n",
       "      <td>2016-11-09</td>\n",
       "    </tr>\n",
       "    <tr>\n",
       "      <th>1</th>\n",
       "      <td>1111010100100040007</td>\n",
       "      <td>1111010100</td>\n",
       "      <td>서울특별시 종로구 청운동</td>\n",
       "      <td>1</td>\n",
       "      <td>일반</td>\n",
       "      <td>4-7</td>\n",
       "      <td>2012</td>\n",
       "      <td>01</td>\n",
       "      <td>1</td>\n",
       "      <td>5</td>\n",
       "      <td>다세대</td>\n",
       "      <td>신구파인힐</td>\n",
       "      <td>1</td>\n",
       "      <td>102</td>\n",
       "      <td>209.21</td>\n",
       "      <td>691000000</td>\n",
       "      <td>2016-11-09</td>\n",
       "    </tr>\n",
       "    <tr>\n",
       "      <th>2</th>\n",
       "      <td>1111010100100040007</td>\n",
       "      <td>1111010100</td>\n",
       "      <td>서울특별시 종로구 청운동</td>\n",
       "      <td>1</td>\n",
       "      <td>일반</td>\n",
       "      <td>4-7</td>\n",
       "      <td>2012</td>\n",
       "      <td>01</td>\n",
       "      <td>1</td>\n",
       "      <td>5</td>\n",
       "      <td>다세대</td>\n",
       "      <td>신구파인힐</td>\n",
       "      <td>2</td>\n",
       "      <td>201</td>\n",
       "      <td>207.89</td>\n",
       "      <td>691000000</td>\n",
       "      <td>2016-11-09</td>\n",
       "    </tr>\n",
       "    <tr>\n",
       "      <th>3</th>\n",
       "      <td>1111010100100040007</td>\n",
       "      <td>1111010100</td>\n",
       "      <td>서울특별시 종로구 청운동</td>\n",
       "      <td>1</td>\n",
       "      <td>일반</td>\n",
       "      <td>4-7</td>\n",
       "      <td>2012</td>\n",
       "      <td>01</td>\n",
       "      <td>1</td>\n",
       "      <td>5</td>\n",
       "      <td>다세대</td>\n",
       "      <td>신구파인힐</td>\n",
       "      <td>2</td>\n",
       "      <td>202</td>\n",
       "      <td>215.09</td>\n",
       "      <td>700000000</td>\n",
       "      <td>2016-11-09</td>\n",
       "    </tr>\n",
       "    <tr>\n",
       "      <th>4</th>\n",
       "      <td>1111010100100040007</td>\n",
       "      <td>1111010100</td>\n",
       "      <td>서울특별시 종로구 청운동</td>\n",
       "      <td>1</td>\n",
       "      <td>일반</td>\n",
       "      <td>4-7</td>\n",
       "      <td>2012</td>\n",
       "      <td>01</td>\n",
       "      <td>1</td>\n",
       "      <td>5</td>\n",
       "      <td>다세대</td>\n",
       "      <td>신구파인힐</td>\n",
       "      <td>3</td>\n",
       "      <td>301</td>\n",
       "      <td>219.33</td>\n",
       "      <td>729000000</td>\n",
       "      <td>2016-11-09</td>\n",
       "    </tr>\n",
       "  </tbody>\n",
       "</table>\n",
       "</div>"
      ],
      "text/plain": [
       "                   pnu      ldCode       ldCodeNm regstrSeCode regstrSeCodeNm  \\\n",
       "0  1111010100100040007  1111010100  서울특별시 종로구 청운동            1             일반   \n",
       "1  1111010100100040007  1111010100  서울특별시 종로구 청운동            1             일반   \n",
       "2  1111010100100040007  1111010100  서울특별시 종로구 청운동            1             일반   \n",
       "3  1111010100100040007  1111010100  서울특별시 종로구 청운동            1             일반   \n",
       "4  1111010100100040007  1111010100  서울특별시 종로구 청운동            1             일반   \n",
       "\n",
       "  mnnmSlno stdrYear stdrMt aphusCode aphusSeCode aphusSeCodeNm aphusNm  \\\n",
       "0      4-7     2012     01         1           5           다세대   신구파인힐   \n",
       "1      4-7     2012     01         1           5           다세대   신구파인힐   \n",
       "2      4-7     2012     01         1           5           다세대   신구파인힐   \n",
       "3      4-7     2012     01         1           5           다세대   신구파인힐   \n",
       "4      4-7     2012     01         1           5           다세대   신구파인힐   \n",
       "\n",
       "  floorNm hoNm prvuseAr   pblntfPc  lastUpdtDt  \n",
       "0       1  101   211.13  700000000  2016-11-09  \n",
       "1       1  102   209.21  691000000  2016-11-09  \n",
       "2       2  201   207.89  691000000  2016-11-09  \n",
       "3       2  202   215.09  700000000  2016-11-09  \n",
       "4       3  301   219.33  729000000  2016-11-09  "
      ]
     },
     "execution_count": 10,
     "metadata": {},
     "output_type": "execute_result"
    }
   ],
   "source": [
    "\n",
    "rowList = []\n",
    "nameList = []\n",
    "columnList = []\n",
    "\n",
    "rowsLen = len(rows)\n",
    "columnsLen = len(columns)\n",
    "\n",
    "for i in range(0, rowsLen):\n",
    "    columns = rows[i].find_all()\n",
    "    \n",
    "    for j in range(0, columnsLen):\n",
    "        if i == 0:\n",
    "            nameList.append(columns[j].name) #header\n",
    "        eachColumn = columns[j].text #value\n",
    "        columnList.append(eachColumn)\n",
    "    rowList.append(columnList)\n",
    "    columnList = []    # 다음 row의 값을 넣기 위해 비워준다. (매우 중요!!)\n",
    "    \n",
    "result = pd.DataFrame(rowList, columns=nameList)\n",
    "result.head()\n"
   ]
  },
  {
   "cell_type": "code",
   "execution_count": 11,
   "id": "7d2c5588",
   "metadata": {},
   "outputs": [
    {
     "data": {
      "text/html": [
       "<div>\n",
       "<style scoped>\n",
       "    .dataframe tbody tr th:only-of-type {\n",
       "        vertical-align: middle;\n",
       "    }\n",
       "\n",
       "    .dataframe tbody tr th {\n",
       "        vertical-align: top;\n",
       "    }\n",
       "\n",
       "    .dataframe thead th {\n",
       "        text-align: right;\n",
       "    }\n",
       "</style>\n",
       "<table border=\"1\" class=\"dataframe\">\n",
       "  <thead>\n",
       "    <tr style=\"text-align: right;\">\n",
       "      <th></th>\n",
       "      <th>pnu</th>\n",
       "      <th>ldCode</th>\n",
       "      <th>ldCodeNm</th>\n",
       "      <th>regstrSeCode</th>\n",
       "      <th>regstrSeCodeNm</th>\n",
       "      <th>mnnmSlno</th>\n",
       "      <th>stdrYear</th>\n",
       "      <th>stdrMt</th>\n",
       "      <th>aphusCode</th>\n",
       "      <th>aphusSeCode</th>\n",
       "      <th>aphusSeCodeNm</th>\n",
       "      <th>aphusNm</th>\n",
       "      <th>floorNm</th>\n",
       "      <th>hoNm</th>\n",
       "      <th>prvuseAr</th>\n",
       "      <th>pblntfPc</th>\n",
       "      <th>lastUpdtDt</th>\n",
       "    </tr>\n",
       "  </thead>\n",
       "  <tbody>\n",
       "    <tr>\n",
       "      <th>count</th>\n",
       "      <td>8</td>\n",
       "      <td>8</td>\n",
       "      <td>8</td>\n",
       "      <td>8</td>\n",
       "      <td>8</td>\n",
       "      <td>8</td>\n",
       "      <td>8</td>\n",
       "      <td>8</td>\n",
       "      <td>8</td>\n",
       "      <td>8</td>\n",
       "      <td>8</td>\n",
       "      <td>8</td>\n",
       "      <td>8</td>\n",
       "      <td>8</td>\n",
       "      <td>8</td>\n",
       "      <td>8</td>\n",
       "      <td>8</td>\n",
       "    </tr>\n",
       "    <tr>\n",
       "      <th>unique</th>\n",
       "      <td>1</td>\n",
       "      <td>1</td>\n",
       "      <td>1</td>\n",
       "      <td>1</td>\n",
       "      <td>1</td>\n",
       "      <td>1</td>\n",
       "      <td>1</td>\n",
       "      <td>1</td>\n",
       "      <td>1</td>\n",
       "      <td>1</td>\n",
       "      <td>1</td>\n",
       "      <td>1</td>\n",
       "      <td>4</td>\n",
       "      <td>8</td>\n",
       "      <td>8</td>\n",
       "      <td>5</td>\n",
       "      <td>1</td>\n",
       "    </tr>\n",
       "    <tr>\n",
       "      <th>top</th>\n",
       "      <td>1111010100100040007</td>\n",
       "      <td>1111010100</td>\n",
       "      <td>서울특별시 종로구 청운동</td>\n",
       "      <td>1</td>\n",
       "      <td>일반</td>\n",
       "      <td>4-7</td>\n",
       "      <td>2012</td>\n",
       "      <td>01</td>\n",
       "      <td>1</td>\n",
       "      <td>5</td>\n",
       "      <td>다세대</td>\n",
       "      <td>신구파인힐</td>\n",
       "      <td>-1</td>\n",
       "      <td>101</td>\n",
       "      <td>211.13</td>\n",
       "      <td>700000000</td>\n",
       "      <td>2016-11-09</td>\n",
       "    </tr>\n",
       "    <tr>\n",
       "      <th>freq</th>\n",
       "      <td>8</td>\n",
       "      <td>8</td>\n",
       "      <td>8</td>\n",
       "      <td>8</td>\n",
       "      <td>8</td>\n",
       "      <td>8</td>\n",
       "      <td>8</td>\n",
       "      <td>8</td>\n",
       "      <td>8</td>\n",
       "      <td>8</td>\n",
       "      <td>8</td>\n",
       "      <td>8</td>\n",
       "      <td>2</td>\n",
       "      <td>1</td>\n",
       "      <td>1</td>\n",
       "      <td>3</td>\n",
       "      <td>8</td>\n",
       "    </tr>\n",
       "  </tbody>\n",
       "</table>\n",
       "</div>"
      ],
      "text/plain": [
       "                        pnu      ldCode       ldCodeNm regstrSeCode  \\\n",
       "count                     8           8              8            8   \n",
       "unique                    1           1              1            1   \n",
       "top     1111010100100040007  1111010100  서울특별시 종로구 청운동            1   \n",
       "freq                      8           8              8            8   \n",
       "\n",
       "       regstrSeCodeNm mnnmSlno stdrYear stdrMt aphusCode aphusSeCode  \\\n",
       "count               8        8        8      8         8           8   \n",
       "unique              1        1        1      1         1           1   \n",
       "top                일반      4-7     2012     01         1           5   \n",
       "freq                8        8        8      8         8           8   \n",
       "\n",
       "       aphusSeCodeNm aphusNm floorNm hoNm prvuseAr   pblntfPc  lastUpdtDt  \n",
       "count              8       8       8    8        8          8           8  \n",
       "unique             1       1       4    8        8          5           1  \n",
       "top              다세대   신구파인힐      -1  101   211.13  700000000  2016-11-09  \n",
       "freq               8       8       2    1        1          3           8  "
      ]
     },
     "execution_count": 11,
     "metadata": {},
     "output_type": "execute_result"
    }
   ],
   "source": [
    "result.describe()"
   ]
  },
  {
   "cell_type": "code",
   "execution_count": 12,
   "id": "e6fb19df",
   "metadata": {},
   "outputs": [
    {
     "data": {
      "text/plain": [
       "(8, 17)"
      ]
     },
     "execution_count": 12,
     "metadata": {},
     "output_type": "execute_result"
    }
   ],
   "source": [
    "result.shape"
   ]
  },
  {
   "cell_type": "code",
   "execution_count": 13,
   "id": "99e8e411",
   "metadata": {},
   "outputs": [
    {
     "data": {
      "text/plain": [
       "Index(['pnu', 'ldCode', 'ldCodeNm', 'regstrSeCode', 'regstrSeCodeNm',\n",
       "       'mnnmSlno', 'stdrYear', 'stdrMt', 'aphusCode', 'aphusSeCode',\n",
       "       'aphusSeCodeNm', 'aphusNm', 'floorNm', 'hoNm', 'prvuseAr', 'pblntfPc',\n",
       "       'lastUpdtDt'],\n",
       "      dtype='object')"
      ]
     },
     "execution_count": 13,
     "metadata": {},
     "output_type": "execute_result"
    }
   ],
   "source": [
    "result.columns"
   ]
  },
  {
   "cell_type": "code",
   "execution_count": 14,
   "id": "6a06615f",
   "metadata": {},
   "outputs": [
    {
     "name": "stderr",
     "output_type": "stream",
     "text": [
      "/opt/anaconda3/envs/myenv/lib/python3.7/site-packages/ipykernel_launcher.py:2: FutureWarning: Your version of xlrd is 1.2.0. In xlrd >= 2.0, only the xls format is supported. As a result, the openpyxl engine will be used if it is installed and the engine argument is not specified. Install openpyxl instead.\n",
      "  \n"
     ]
    },
    {
     "data": {
      "text/html": [
       "<div>\n",
       "<style scoped>\n",
       "    .dataframe tbody tr th:only-of-type {\n",
       "        vertical-align: middle;\n",
       "    }\n",
       "\n",
       "    .dataframe tbody tr th {\n",
       "        vertical-align: top;\n",
       "    }\n",
       "\n",
       "    .dataframe thead th {\n",
       "        text-align: right;\n",
       "    }\n",
       "</style>\n",
       "<table border=\"1\" class=\"dataframe\">\n",
       "  <thead>\n",
       "    <tr style=\"text-align: right;\">\n",
       "      <th></th>\n",
       "      <th>항목명(영문)</th>\n",
       "      <th>항목명(국문)</th>\n",
       "    </tr>\n",
       "  </thead>\n",
       "  <tbody>\n",
       "    <tr>\n",
       "      <th>0</th>\n",
       "      <td>pnu</td>\n",
       "      <td>고유번호</td>\n",
       "    </tr>\n",
       "    <tr>\n",
       "      <th>1</th>\n",
       "      <td>ldCode</td>\n",
       "      <td>법정동코드</td>\n",
       "    </tr>\n",
       "    <tr>\n",
       "      <th>2</th>\n",
       "      <td>ldCodeNm</td>\n",
       "      <td>법정동명</td>\n",
       "    </tr>\n",
       "    <tr>\n",
       "      <th>3</th>\n",
       "      <td>regstrSeCode</td>\n",
       "      <td>특수지구분코드</td>\n",
       "    </tr>\n",
       "    <tr>\n",
       "      <th>4</th>\n",
       "      <td>regstrSeCodeNm</td>\n",
       "      <td>특수지구분명</td>\n",
       "    </tr>\n",
       "    <tr>\n",
       "      <th>5</th>\n",
       "      <td>mnnmSlno</td>\n",
       "      <td>지번</td>\n",
       "    </tr>\n",
       "    <tr>\n",
       "      <th>6</th>\n",
       "      <td>stdrYear</td>\n",
       "      <td>기준년도</td>\n",
       "    </tr>\n",
       "    <tr>\n",
       "      <th>7</th>\n",
       "      <td>stdrMt</td>\n",
       "      <td>기준월</td>\n",
       "    </tr>\n",
       "    <tr>\n",
       "      <th>8</th>\n",
       "      <td>aphusCode</td>\n",
       "      <td>공동주택코드</td>\n",
       "    </tr>\n",
       "    <tr>\n",
       "      <th>9</th>\n",
       "      <td>aphusSeCode</td>\n",
       "      <td>공동주택구분코드</td>\n",
       "    </tr>\n",
       "    <tr>\n",
       "      <th>10</th>\n",
       "      <td>aphusSeCodeNm</td>\n",
       "      <td>공동주택구분명</td>\n",
       "    </tr>\n",
       "    <tr>\n",
       "      <th>11</th>\n",
       "      <td>spclLandNm</td>\n",
       "      <td>특수지명</td>\n",
       "    </tr>\n",
       "    <tr>\n",
       "      <th>12</th>\n",
       "      <td>aphusNm</td>\n",
       "      <td>공동주택명</td>\n",
       "    </tr>\n",
       "    <tr>\n",
       "      <th>13</th>\n",
       "      <td>prvuseAr</td>\n",
       "      <td>전용면적(㎡)</td>\n",
       "    </tr>\n",
       "    <tr>\n",
       "      <th>14</th>\n",
       "      <td>pblntfPc</td>\n",
       "      <td>공시가격(원)</td>\n",
       "    </tr>\n",
       "    <tr>\n",
       "      <th>15</th>\n",
       "      <td>lastUpdtDt</td>\n",
       "      <td>데이터기준일자</td>\n",
       "    </tr>\n",
       "  </tbody>\n",
       "</table>\n",
       "</div>"
      ],
      "text/plain": [
       "           항목명(영문)   항목명(국문)\n",
       "0              pnu      고유번호\n",
       "1           ldCode     법정동코드\n",
       "2         ldCodeNm      법정동명\n",
       "3     regstrSeCode   특수지구분코드\n",
       "4   regstrSeCodeNm    특수지구분명\n",
       "5         mnnmSlno        지번\n",
       "6         stdrYear      기준년도\n",
       "7           stdrMt       기준월\n",
       "8        aphusCode    공동주택코드\n",
       "9      aphusSeCode  공동주택구분코드\n",
       "10   aphusSeCodeNm   공동주택구분명\n",
       "11      spclLandNm      특수지명\n",
       "12         aphusNm     공동주택명\n",
       "13        prvuseAr   전용면적(㎡)\n",
       "14        pblntfPc   공시가격(원)\n",
       "15      lastUpdtDt   데이터기준일자"
      ]
     },
     "execution_count": 14,
     "metadata": {},
     "output_type": "execute_result"
    }
   ],
   "source": [
    "cols = pd.read_excel('/Users/reejungkim/Documents/Git/OpenAPI_Ministry_of_land/출력결과(Response Element).xlsx',\n",
    "             header=1)[['항목명(영문)', '항목명(국문)']]\n",
    "\n",
    "cols"
   ]
  },
  {
   "cell_type": "code",
   "execution_count": 15,
   "id": "a4afd222",
   "metadata": {},
   "outputs": [
    {
     "data": {
      "text/plain": [
       "16"
      ]
     },
     "execution_count": 15,
     "metadata": {},
     "output_type": "execute_result"
    }
   ],
   "source": [
    "cols.shape[0]"
   ]
  },
  {
   "cell_type": "code",
   "execution_count": 16,
   "id": "54615427",
   "metadata": {},
   "outputs": [
    {
     "data": {
      "text/plain": [
       "항목명(영문)     pnu\n",
       "항목명(국문)    고유번호\n",
       "Name: 0, dtype: object"
      ]
     },
     "execution_count": 16,
     "metadata": {},
     "output_type": "execute_result"
    }
   ],
   "source": [
    "cols.loc[0]"
   ]
  },
  {
   "cell_type": "code",
   "execution_count": 17,
   "id": "78bba72d",
   "metadata": {},
   "outputs": [
    {
     "data": {
      "text/plain": [
       "'pnu'"
      ]
     },
     "execution_count": 17,
     "metadata": {},
     "output_type": "execute_result"
    }
   ],
   "source": [
    "cols.loc[0][0]"
   ]
  },
  {
   "cell_type": "code",
   "execution_count": 18,
   "id": "9ead855f",
   "metadata": {},
   "outputs": [],
   "source": [
    "for i in range(0, cols.shape[0]):\n",
    "    result.rename(columns={cols.loc[i][0]: cols.loc[i][1]}, inplace=True)"
   ]
  },
  {
   "cell_type": "code",
   "execution_count": 49,
   "id": "bdee9037",
   "metadata": {},
   "outputs": [],
   "source": [
    "result['lng']=126.969069\n",
    "result['lat']=37.587111"
   ]
  },
  {
   "cell_type": "code",
   "execution_count": 50,
   "id": "cd93c309",
   "metadata": {},
   "outputs": [],
   "source": [
    "\n",
    "import pydeck #as pdk\n",
    "import streamlit as st\n"
   ]
  },
  {
   "cell_type": "markdown",
   "id": "8ad76994",
   "metadata": {},
   "source": [
    "     \n",
    "mapbox_api_key = get_file_contents('ServiceKey MapBox.txt')"
   ]
  },
  {
   "cell_type": "code",
   "execution_count": 51,
   "id": "9283e8f9",
   "metadata": {},
   "outputs": [],
   "source": [
    "import os\n",
    "from dotenv import load_dotenv\n",
    "#.env file to environment\n",
    "#load_dotenv()\n",
    "load_dotenv(verbose=True)\n",
    "token = os.getenv('MAPBOX_API_KEY')\n"
   ]
  },
  {
   "cell_type": "code",
   "execution_count": 54,
   "id": "4fa81962",
   "metadata": {},
   "outputs": [
    {
     "data": {
      "application/vnd.jupyter.widget-view+json": {
       "model_id": "6f787e0b4d5747c98944b660072d427b",
       "version_major": 2,
       "version_minor": 0
      },
      "text/plain": [
       "DeckGLWidget(google_maps_key=None, json_input='{\"initialViewState\": {\"bearing\": -27.36, \"latitude\": 37.587111,…"
      ]
     },
     "metadata": {},
     "output_type": "display_data"
    }
   ],
   "source": [
    "# Define a layer to display on a map\n",
    "layer = pydeck.Layer(\n",
    "    'HexagonLayer',\n",
    "    result,\n",
    "    get_position='[lng, lat]',\n",
    "    auto_highlight=True,\n",
    "    elevation_scale=50,\n",
    "    pickable=True,\n",
    "    elevation_range=[0, 30],\n",
    "    extruded=True,                 \n",
    "    coverage=1)\n",
    "\n",
    "# Set the viewport location\n",
    "view_state = pydeck.ViewState(\n",
    "    longitude=126.969069,\n",
    "    latitude=37.587111,\n",
    "    zoom=10,\n",
    "    min_zoom=5,\n",
    "    max_zoom=15,\n",
    "    pitch=40.5,\n",
    "    bearing=-27.36)\n",
    "\n",
    "# Render\n",
    "r = pydeck.Deck(layers=[layer], initial_view_state=view_state)\n",
    "r.to_html('demo.html')\n",
    "r.show()"
   ]
  },
  {
   "cell_type": "code",
   "execution_count": 59,
   "id": "b8a396a5",
   "metadata": {},
   "outputs": [
    {
     "data": {
      "text/html": [
       "<iframe src=\"about:blank\" frameborder=\"0\" srcdoc=\"&lt;html&gt;\n",
       "  &lt;head&gt;\n",
       "    &lt;meta http-equiv=&quot;content-type&quot; content=&quot;text/html; charset=UTF-8&quot; /&gt;\n",
       "    &lt;title&gt;pydeck&lt;/title&gt;\n",
       "    &lt;link rel=&quot;stylesheet&quot; href=&quot;https://maxcdn.bootstrapcdn.com/bootstrap/3.2.0/css/bootstrap-theme.min.css&quot; /&gt;\n",
       "    &lt;link rel=&quot;stylesheet&quot; href=&quot;https://maxcdn.bootstrapcdn.com/font-awesome/4.6.3/css/font-awesome.min.css&quot; /&gt;\n",
       "    &lt;script src=&#x27;https://cdn.jsdelivr.net/npm/@deck.gl/jupyter-widget@~8.3.*/dist/index.js&#x27;&gt;&lt;/script&gt;\n",
       "    &lt;style&gt;\n",
       "    body {\n",
       "      margin: 0;\n",
       "      padding: 0;\n",
       "      overflow: hidden;\n",
       "    }\n",
       "\n",
       "    #deck-map-container {\n",
       "      width: 100%;\n",
       "      height: 100%;\n",
       "      background-color: black;\n",
       "    }\n",
       "\n",
       "    #map {\n",
       "      pointer-events: none;\n",
       "      height: 100%;\n",
       "      width: 100%;\n",
       "      position: absolute;\n",
       "      z-index: 1;\n",
       "    }\n",
       "\n",
       "    #deckgl-overlay {\n",
       "      z-index: 2;\n",
       "      background: none;\n",
       "    }\n",
       "\n",
       "    #deck-map-wrapper {\n",
       "      width: 100%;\n",
       "      height: 100%;\n",
       "    }\n",
       "\n",
       "    #deck-container {\n",
       "      width: 100vw;\n",
       "      height: 100vh;\n",
       "    }\n",
       "    &lt;/style&gt;\n",
       "  &lt;/head&gt;\n",
       "  &lt;body&gt;\n",
       "    &lt;div id=&quot;deck-container&quot;&gt;\n",
       "    &lt;/div&gt;\n",
       "  &lt;/body&gt;\n",
       "  &lt;script&gt;\n",
       "    const jsonInput = {&quot;initialViewState&quot;: {&quot;bearing&quot;: 60, &quot;latitude&quot;: 37.587111, &quot;longitude&quot;: 126.969069, &quot;pitch&quot;: 75, &quot;zoom&quot;: 21}, &quot;layers&quot;: [{&quot;@@type&quot;: &quot;ColumnLayer&quot;, &quot;autoHighlight&quot;: true, &quot;data&quot;: [{&quot;floorNm&quot;: &quot;1&quot;, &quot;hoNm&quot;: &quot;101&quot;, &quot;lat&quot;: 37.587111, &quot;lng&quot;: 126.969069, &quot;\\uace0\\uc720\\ubc88\\ud638&quot;: &quot;1111010100100040007&quot;, &quot;\\uacf5\\ub3d9\\uc8fc\\ud0dd\\uad6c\\ubd84\\uba85&quot;: &quot;\\ub2e4\\uc138\\ub300&quot;, &quot;\\uacf5\\ub3d9\\uc8fc\\ud0dd\\uad6c\\ubd84\\ucf54\\ub4dc&quot;: &quot;5&quot;, &quot;\\uacf5\\ub3d9\\uc8fc\\ud0dd\\uba85&quot;: &quot;\\uc2e0\\uad6c\\ud30c\\uc778\\ud790&quot;, &quot;\\uacf5\\ub3d9\\uc8fc\\ud0dd\\ucf54\\ub4dc&quot;: &quot;1&quot;, &quot;\\uacf5\\uc2dc\\uac00\\uaca9(\\uc6d0)&quot;: &quot;700000000&quot;, &quot;\\uae30\\uc900\\ub144\\ub3c4&quot;: &quot;2012&quot;, &quot;\\uae30\\uc900\\uc6d4&quot;: &quot;01&quot;, &quot;\\ub370\\uc774\\ud130\\uae30\\uc900\\uc77c\\uc790&quot;: &quot;2016-11-09&quot;, &quot;\\ubc95\\uc815\\ub3d9\\uba85&quot;: &quot;\\uc11c\\uc6b8\\ud2b9\\ubcc4\\uc2dc \\uc885\\ub85c\\uad6c \\uccad\\uc6b4\\ub3d9&quot;, &quot;\\ubc95\\uc815\\ub3d9\\ucf54\\ub4dc&quot;: &quot;1111010100&quot;, &quot;\\uc804\\uc6a9\\uba74\\uc801(\\u33a1)&quot;: &quot;211.13&quot;, &quot;\\uc9c0\\ubc88&quot;: &quot;4-7&quot;, &quot;\\ud2b9\\uc218\\uc9c0\\uad6c\\ubd84\\uba85&quot;: &quot;\\uc77c\\ubc18&quot;, &quot;\\ud2b9\\uc218\\uc9c0\\uad6c\\ubd84\\ucf54\\ub4dc&quot;: &quot;1&quot;}, {&quot;floorNm&quot;: &quot;1&quot;, &quot;hoNm&quot;: &quot;102&quot;, &quot;lat&quot;: 37.587111, &quot;lng&quot;: 126.969069, &quot;\\uace0\\uc720\\ubc88\\ud638&quot;: &quot;1111010100100040007&quot;, &quot;\\uacf5\\ub3d9\\uc8fc\\ud0dd\\uad6c\\ubd84\\uba85&quot;: &quot;\\ub2e4\\uc138\\ub300&quot;, &quot;\\uacf5\\ub3d9\\uc8fc\\ud0dd\\uad6c\\ubd84\\ucf54\\ub4dc&quot;: &quot;5&quot;, &quot;\\uacf5\\ub3d9\\uc8fc\\ud0dd\\uba85&quot;: &quot;\\uc2e0\\uad6c\\ud30c\\uc778\\ud790&quot;, &quot;\\uacf5\\ub3d9\\uc8fc\\ud0dd\\ucf54\\ub4dc&quot;: &quot;1&quot;, &quot;\\uacf5\\uc2dc\\uac00\\uaca9(\\uc6d0)&quot;: &quot;691000000&quot;, &quot;\\uae30\\uc900\\ub144\\ub3c4&quot;: &quot;2012&quot;, &quot;\\uae30\\uc900\\uc6d4&quot;: &quot;01&quot;, &quot;\\ub370\\uc774\\ud130\\uae30\\uc900\\uc77c\\uc790&quot;: &quot;2016-11-09&quot;, &quot;\\ubc95\\uc815\\ub3d9\\uba85&quot;: &quot;\\uc11c\\uc6b8\\ud2b9\\ubcc4\\uc2dc \\uc885\\ub85c\\uad6c \\uccad\\uc6b4\\ub3d9&quot;, &quot;\\ubc95\\uc815\\ub3d9\\ucf54\\ub4dc&quot;: &quot;1111010100&quot;, &quot;\\uc804\\uc6a9\\uba74\\uc801(\\u33a1)&quot;: &quot;209.21&quot;, &quot;\\uc9c0\\ubc88&quot;: &quot;4-7&quot;, &quot;\\ud2b9\\uc218\\uc9c0\\uad6c\\ubd84\\uba85&quot;: &quot;\\uc77c\\ubc18&quot;, &quot;\\ud2b9\\uc218\\uc9c0\\uad6c\\ubd84\\ucf54\\ub4dc&quot;: &quot;1&quot;}, {&quot;floorNm&quot;: &quot;2&quot;, &quot;hoNm&quot;: &quot;201&quot;, &quot;lat&quot;: 37.587111, &quot;lng&quot;: 126.969069, &quot;\\uace0\\uc720\\ubc88\\ud638&quot;: &quot;1111010100100040007&quot;, &quot;\\uacf5\\ub3d9\\uc8fc\\ud0dd\\uad6c\\ubd84\\uba85&quot;: &quot;\\ub2e4\\uc138\\ub300&quot;, &quot;\\uacf5\\ub3d9\\uc8fc\\ud0dd\\uad6c\\ubd84\\ucf54\\ub4dc&quot;: &quot;5&quot;, &quot;\\uacf5\\ub3d9\\uc8fc\\ud0dd\\uba85&quot;: &quot;\\uc2e0\\uad6c\\ud30c\\uc778\\ud790&quot;, &quot;\\uacf5\\ub3d9\\uc8fc\\ud0dd\\ucf54\\ub4dc&quot;: &quot;1&quot;, &quot;\\uacf5\\uc2dc\\uac00\\uaca9(\\uc6d0)&quot;: &quot;691000000&quot;, &quot;\\uae30\\uc900\\ub144\\ub3c4&quot;: &quot;2012&quot;, &quot;\\uae30\\uc900\\uc6d4&quot;: &quot;01&quot;, &quot;\\ub370\\uc774\\ud130\\uae30\\uc900\\uc77c\\uc790&quot;: &quot;2016-11-09&quot;, &quot;\\ubc95\\uc815\\ub3d9\\uba85&quot;: &quot;\\uc11c\\uc6b8\\ud2b9\\ubcc4\\uc2dc \\uc885\\ub85c\\uad6c \\uccad\\uc6b4\\ub3d9&quot;, &quot;\\ubc95\\uc815\\ub3d9\\ucf54\\ub4dc&quot;: &quot;1111010100&quot;, &quot;\\uc804\\uc6a9\\uba74\\uc801(\\u33a1)&quot;: &quot;207.89&quot;, &quot;\\uc9c0\\ubc88&quot;: &quot;4-7&quot;, &quot;\\ud2b9\\uc218\\uc9c0\\uad6c\\ubd84\\uba85&quot;: &quot;\\uc77c\\ubc18&quot;, &quot;\\ud2b9\\uc218\\uc9c0\\uad6c\\ubd84\\ucf54\\ub4dc&quot;: &quot;1&quot;}, {&quot;floorNm&quot;: &quot;2&quot;, &quot;hoNm&quot;: &quot;202&quot;, &quot;lat&quot;: 37.587111, &quot;lng&quot;: 126.969069, &quot;\\uace0\\uc720\\ubc88\\ud638&quot;: &quot;1111010100100040007&quot;, &quot;\\uacf5\\ub3d9\\uc8fc\\ud0dd\\uad6c\\ubd84\\uba85&quot;: &quot;\\ub2e4\\uc138\\ub300&quot;, &quot;\\uacf5\\ub3d9\\uc8fc\\ud0dd\\uad6c\\ubd84\\ucf54\\ub4dc&quot;: &quot;5&quot;, &quot;\\uacf5\\ub3d9\\uc8fc\\ud0dd\\uba85&quot;: &quot;\\uc2e0\\uad6c\\ud30c\\uc778\\ud790&quot;, &quot;\\uacf5\\ub3d9\\uc8fc\\ud0dd\\ucf54\\ub4dc&quot;: &quot;1&quot;, &quot;\\uacf5\\uc2dc\\uac00\\uaca9(\\uc6d0)&quot;: &quot;700000000&quot;, &quot;\\uae30\\uc900\\ub144\\ub3c4&quot;: &quot;2012&quot;, &quot;\\uae30\\uc900\\uc6d4&quot;: &quot;01&quot;, &quot;\\ub370\\uc774\\ud130\\uae30\\uc900\\uc77c\\uc790&quot;: &quot;2016-11-09&quot;, &quot;\\ubc95\\uc815\\ub3d9\\uba85&quot;: &quot;\\uc11c\\uc6b8\\ud2b9\\ubcc4\\uc2dc \\uc885\\ub85c\\uad6c \\uccad\\uc6b4\\ub3d9&quot;, &quot;\\ubc95\\uc815\\ub3d9\\ucf54\\ub4dc&quot;: &quot;1111010100&quot;, &quot;\\uc804\\uc6a9\\uba74\\uc801(\\u33a1)&quot;: &quot;215.09&quot;, &quot;\\uc9c0\\ubc88&quot;: &quot;4-7&quot;, &quot;\\ud2b9\\uc218\\uc9c0\\uad6c\\ubd84\\uba85&quot;: &quot;\\uc77c\\ubc18&quot;, &quot;\\ud2b9\\uc218\\uc9c0\\uad6c\\ubd84\\ucf54\\ub4dc&quot;: &quot;1&quot;}, {&quot;floorNm&quot;: &quot;3&quot;, &quot;hoNm&quot;: &quot;301&quot;, &quot;lat&quot;: 37.587111, &quot;lng&quot;: 126.969069, &quot;\\uace0\\uc720\\ubc88\\ud638&quot;: &quot;1111010100100040007&quot;, &quot;\\uacf5\\ub3d9\\uc8fc\\ud0dd\\uad6c\\ubd84\\uba85&quot;: &quot;\\ub2e4\\uc138\\ub300&quot;, &quot;\\uacf5\\ub3d9\\uc8fc\\ud0dd\\uad6c\\ubd84\\ucf54\\ub4dc&quot;: &quot;5&quot;, &quot;\\uacf5\\ub3d9\\uc8fc\\ud0dd\\uba85&quot;: &quot;\\uc2e0\\uad6c\\ud30c\\uc778\\ud790&quot;, &quot;\\uacf5\\ub3d9\\uc8fc\\ud0dd\\ucf54\\ub4dc&quot;: &quot;1&quot;, &quot;\\uacf5\\uc2dc\\uac00\\uaca9(\\uc6d0)&quot;: &quot;729000000&quot;, &quot;\\uae30\\uc900\\ub144\\ub3c4&quot;: &quot;2012&quot;, &quot;\\uae30\\uc900\\uc6d4&quot;: &quot;01&quot;, &quot;\\ub370\\uc774\\ud130\\uae30\\uc900\\uc77c\\uc790&quot;: &quot;2016-11-09&quot;, &quot;\\ubc95\\uc815\\ub3d9\\uba85&quot;: &quot;\\uc11c\\uc6b8\\ud2b9\\ubcc4\\uc2dc \\uc885\\ub85c\\uad6c \\uccad\\uc6b4\\ub3d9&quot;, &quot;\\ubc95\\uc815\\ub3d9\\ucf54\\ub4dc&quot;: &quot;1111010100&quot;, &quot;\\uc804\\uc6a9\\uba74\\uc801(\\u33a1)&quot;: &quot;219.33&quot;, &quot;\\uc9c0\\ubc88&quot;: &quot;4-7&quot;, &quot;\\ud2b9\\uc218\\uc9c0\\uad6c\\ubd84\\uba85&quot;: &quot;\\uc77c\\ubc18&quot;, &quot;\\ud2b9\\uc218\\uc9c0\\uad6c\\ubd84\\ucf54\\ub4dc&quot;: &quot;1&quot;}, {&quot;floorNm&quot;: &quot;3&quot;, &quot;hoNm&quot;: &quot;302&quot;, &quot;lat&quot;: 37.587111, &quot;lng&quot;: 126.969069, &quot;\\uace0\\uc720\\ubc88\\ud638&quot;: &quot;1111010100100040007&quot;, &quot;\\uacf5\\ub3d9\\uc8fc\\ud0dd\\uad6c\\ubd84\\uba85&quot;: &quot;\\ub2e4\\uc138\\ub300&quot;, &quot;\\uacf5\\ub3d9\\uc8fc\\ud0dd\\uad6c\\ubd84\\ucf54\\ub4dc&quot;: &quot;5&quot;, &quot;\\uacf5\\ub3d9\\uc8fc\\ud0dd\\uba85&quot;: &quot;\\uc2e0\\uad6c\\ud30c\\uc778\\ud790&quot;, &quot;\\uacf5\\ub3d9\\uc8fc\\ud0dd\\ucf54\\ub4dc&quot;: &quot;1&quot;, &quot;\\uacf5\\uc2dc\\uac00\\uaca9(\\uc6d0)&quot;: &quot;700000000&quot;, &quot;\\uae30\\uc900\\ub144\\ub3c4&quot;: &quot;2012&quot;, &quot;\\uae30\\uc900\\uc6d4&quot;: &quot;01&quot;, &quot;\\ub370\\uc774\\ud130\\uae30\\uc900\\uc77c\\uc790&quot;: &quot;2016-11-09&quot;, &quot;\\ubc95\\uc815\\ub3d9\\uba85&quot;: &quot;\\uc11c\\uc6b8\\ud2b9\\ubcc4\\uc2dc \\uc885\\ub85c\\uad6c \\uccad\\uc6b4\\ub3d9&quot;, &quot;\\ubc95\\uc815\\ub3d9\\ucf54\\ub4dc&quot;: &quot;1111010100&quot;, &quot;\\uc804\\uc6a9\\uba74\\uc801(\\u33a1)&quot;: &quot;212.57&quot;, &quot;\\uc9c0\\ubc88&quot;: &quot;4-7&quot;, &quot;\\ud2b9\\uc218\\uc9c0\\uad6c\\ubd84\\uba85&quot;: &quot;\\uc77c\\ubc18&quot;, &quot;\\ud2b9\\uc218\\uc9c0\\uad6c\\ubd84\\ucf54\\ub4dc&quot;: &quot;1&quot;}, {&quot;floorNm&quot;: &quot;-1&quot;, &quot;hoNm&quot;: &quot;B02&quot;, &quot;lat&quot;: 37.587111, &quot;lng&quot;: 126.969069, &quot;\\uace0\\uc720\\ubc88\\ud638&quot;: &quot;1111010100100040007&quot;, &quot;\\uacf5\\ub3d9\\uc8fc\\ud0dd\\uad6c\\ubd84\\uba85&quot;: &quot;\\ub2e4\\uc138\\ub300&quot;, &quot;\\uacf5\\ub3d9\\uc8fc\\ud0dd\\uad6c\\ubd84\\ucf54\\ub4dc&quot;: &quot;5&quot;, &quot;\\uacf5\\ub3d9\\uc8fc\\ud0dd\\uba85&quot;: &quot;\\uc2e0\\uad6c\\ud30c\\uc778\\ud790&quot;, &quot;\\uacf5\\ub3d9\\uc8fc\\ud0dd\\ucf54\\ub4dc&quot;: &quot;1&quot;, &quot;\\uacf5\\uc2dc\\uac00\\uaca9(\\uc6d0)&quot;: &quot;264000000&quot;, &quot;\\uae30\\uc900\\ub144\\ub3c4&quot;: &quot;2012&quot;, &quot;\\uae30\\uc900\\uc6d4&quot;: &quot;01&quot;, &quot;\\ub370\\uc774\\ud130\\uae30\\uc900\\uc77c\\uc790&quot;: &quot;2016-11-09&quot;, &quot;\\ubc95\\uc815\\ub3d9\\uba85&quot;: &quot;\\uc11c\\uc6b8\\ud2b9\\ubcc4\\uc2dc \\uc885\\ub85c\\uad6c \\uccad\\uc6b4\\ub3d9&quot;, &quot;\\ubc95\\uc815\\ub3d9\\ucf54\\ub4dc&quot;: &quot;1111010100&quot;, &quot;\\uc804\\uc6a9\\uba74\\uc801(\\u33a1)&quot;: &quot;90.72&quot;, &quot;\\uc9c0\\ubc88&quot;: &quot;4-7&quot;, &quot;\\ud2b9\\uc218\\uc9c0\\uad6c\\ubd84\\uba85&quot;: &quot;\\uc77c\\ubc18&quot;, &quot;\\ud2b9\\uc218\\uc9c0\\uad6c\\ubd84\\ucf54\\ub4dc&quot;: &quot;1&quot;}, {&quot;floorNm&quot;: &quot;-1&quot;, &quot;hoNm&quot;: &quot;B01&quot;, &quot;lat&quot;: 37.587111, &quot;lng&quot;: 126.969069, &quot;\\uace0\\uc720\\ubc88\\ud638&quot;: &quot;1111010100100040007&quot;, &quot;\\uacf5\\ub3d9\\uc8fc\\ud0dd\\uad6c\\ubd84\\uba85&quot;: &quot;\\ub2e4\\uc138\\ub300&quot;, &quot;\\uacf5\\ub3d9\\uc8fc\\ud0dd\\uad6c\\ubd84\\ucf54\\ub4dc&quot;: &quot;5&quot;, &quot;\\uacf5\\ub3d9\\uc8fc\\ud0dd\\uba85&quot;: &quot;\\uc2e0\\uad6c\\ud30c\\uc778\\ud790&quot;, &quot;\\uacf5\\ub3d9\\uc8fc\\ud0dd\\ucf54\\ub4dc&quot;: &quot;1&quot;, &quot;\\uacf5\\uc2dc\\uac00\\uaca9(\\uc6d0)&quot;: &quot;360000000&quot;, &quot;\\uae30\\uc900\\ub144\\ub3c4&quot;: &quot;2012&quot;, &quot;\\uae30\\uc900\\uc6d4&quot;: &quot;01&quot;, &quot;\\ub370\\uc774\\ud130\\uae30\\uc900\\uc77c\\uc790&quot;: &quot;2016-11-09&quot;, &quot;\\ubc95\\uc815\\ub3d9\\uba85&quot;: &quot;\\uc11c\\uc6b8\\ud2b9\\ubcc4\\uc2dc \\uc885\\ub85c\\uad6c \\uccad\\uc6b4\\ub3d9&quot;, &quot;\\ubc95\\uc815\\ub3d9\\ucf54\\ub4dc&quot;: &quot;1111010100&quot;, &quot;\\uc804\\uc6a9\\uba74\\uc801(\\u33a1)&quot;: &quot;118.77&quot;, &quot;\\uc9c0\\ubc88&quot;: &quot;4-7&quot;, &quot;\\ud2b9\\uc218\\uc9c0\\uad6c\\ubd84\\uba85&quot;: &quot;\\uc77c\\ubc18&quot;, &quot;\\ud2b9\\uc218\\uc9c0\\uad6c\\ubd84\\ucf54\\ub4dc&quot;: &quot;1&quot;}], &quot;elevationScale&quot;: 10, &quot;getElevation&quot;: &quot;@@=\\uacf5\\uc2dc\\uac00\\uaca9(\\uc6d0)&quot;, &quot;getFillColor&quot;: &quot;@@=[mrt_distance * 10, mrt_distance, mrt_distance * 10, 140]&quot;, &quot;getPosition&quot;: &quot;@@=[lng, lat]&quot;, &quot;id&quot;: &quot;931b3e7e-4e8c-4069-9887-6d099ab423a3&quot;, &quot;pickable&quot;: true, &quot;radius&quot;: 10}], &quot;mapProvider&quot;: &quot;mapbox&quot;, &quot;mapStyle&quot;: &quot;mapbox://styles/mapbox/satellite-v9&quot;, &quot;views&quot;: [{&quot;@@type&quot;: &quot;MapView&quot;, &quot;controller&quot;: true}]};\n",
       "    const MAPBOX_API_KEY = &#x27;pk.eyJ1IjoicmVlanVuZyIsImEiOiJja2lrdWhsZXIwMHg4MzBtYTRmNzBrdWFnIn0.EAYt2tmwMGSQktEO7KkewA&#x27;;\n",
       "    const GOOGLE_MAPS_API_KEY = &#x27;None&#x27;;\n",
       "    const tooltip = {&#x27;html&#x27;: &#x27;&lt;b&gt;{mrt_distance}&lt;/b&gt; meters away from an MRT station, costs &lt;b&gt;{공시가격(원)}&lt;/b&gt; NTD/sqm&#x27;, &#x27;style&#x27;: {&#x27;background&#x27;: &#x27;grey&#x27;, &#x27;color&#x27;: &#x27;white&#x27;, &#x27;font-family&#x27;: &#x27;&quot;Helvetica Neue&quot;, Arial&#x27;, &#x27;z-index&#x27;: &#x27;10000&#x27;}};\n",
       "    const customLibraries = null;\n",
       "\n",
       "    const deck = createDeck({\n",
       "      mapboxApiKey: MAPBOX_API_KEY,\n",
       "      googleMapsKey: GOOGLE_MAPS_API_KEY,\n",
       "      container: document.getElementById(&#x27;deck-container&#x27;),\n",
       "      jsonInput,\n",
       "      tooltip,\n",
       "      customLibraries\n",
       "    });\n",
       "\n",
       "  &lt;/script&gt;\n",
       "&lt;/html&gt;\" width=\"100%\" height=500></iframe>"
      ],
      "text/plain": [
       "<IPython.core.display.HTML object>"
      ]
     },
     "execution_count": 59,
     "metadata": {},
     "output_type": "execute_result"
    }
   ],
   "source": [
    "\n",
    "view = pdk.data_utils.compute_view(result[[\"lng\", \"lat\"]])\n",
    "view.pitch = 75\n",
    "view.bearing = 60\n",
    "\n",
    "column_layer = pdk.Layer(\n",
    "    \"ColumnLayer\",\n",
    "    data=result,\n",
    "    get_position=[\"lng\", \"lat\"],\n",
    "    get_elevation=\"공시가격(원)\",\n",
    "    elevation_scale=10,\n",
    "    radius=10,\n",
    "    get_fill_color=[\"mrt_distance * 10\", \"mrt_distance\", \"mrt_distance * 10\", 140],\n",
    "    pickable=True,\n",
    "    auto_highlight=True,\n",
    ")\n",
    "\n",
    "tooltip = {\n",
    "    \"html\": \"<b>{mrt_distance}</b> meters away from an MRT station, costs <b>{공시가격(원)}</b> NTD/sqm\",\n",
    "    \"style\": {\"background\": \"grey\", \"color\": \"white\", \"font-family\": '\"Helvetica Neue\", Arial', \"z-index\": \"10000\"},\n",
    "}\n",
    "\n",
    "r = pdk.Deck(\n",
    "    column_layer,\n",
    "    initial_view_state=view,\n",
    "    tooltip=tooltip,\n",
    "    map_provider=\"mapbox\",\n",
    "    map_style=pdk.map_styles.SATELLITE,\n",
    ")\n",
    "\n",
    "r.to_html(\"column_layer.html\")"
   ]
  },
  {
   "cell_type": "code",
   "execution_count": null,
   "id": "d712178c",
   "metadata": {},
   "outputs": [],
   "source": []
  }
 ],
 "metadata": {
  "kernelspec": {
   "display_name": "Python 3 (ipykernel)",
   "language": "python",
   "name": "python3"
  },
  "language_info": {
   "codemirror_mode": {
    "name": "ipython",
    "version": 3
   },
   "file_extension": ".py",
   "mimetype": "text/x-python",
   "name": "python",
   "nbconvert_exporter": "python",
   "pygments_lexer": "ipython3",
   "version": "3.7.11"
  }
 },
 "nbformat": 4,
 "nbformat_minor": 5
}
