{
 "cells": [
  {
   "cell_type": "code",
   "execution_count": 111,
   "metadata": {},
   "outputs": [],
   "source": [
    "import pandas as pd \n",
    "\n",
    "from general_functions import get_file_contents\n",
    "\n",
    "key = 'zaeHKUd+udWXYAS90iNFVdplnQ58mV0a++SuSZrKRVhjD2cJOhRSDZ9xzMmrxmd5S0TnN8Jg2UZCJLH8Y6oZQg=='\n",
    "#filename = 'ServiceKey.txt'\n",
    "#api_key = get_file_contents(filename)\n",
    "\n",
    "import requests\n"
   ]
  },
  {
   "cell_type": "code",
   "execution_count": 16,
   "metadata": {},
   "outputs": [],
   "source": [
    "def load_xml_to_dataframe(response, keyword):\n",
    "    import bs4 as bs\n",
    "    import urllib.request\n",
    "    soup = bs.BeautifulSoup(response_xml,'xml')\n",
    "    \n",
    "    rows = soup.find_all(keyword)\n",
    "    columns = rows[0].find_all()\n",
    "    \n",
    "    rowList = []\n",
    "    nameList = []\n",
    "    columnList = []\n",
    "\n",
    "    rowsLen = len(rows)\n",
    "    columnsLen = len(columns)\n",
    "\n",
    "    for i in range(0, rowsLen):\n",
    "        columns = rows[i].find_all()\n",
    "\n",
    "        for j in range(0, columnsLen):\n",
    "            if i == 0:\n",
    "                nameList.append(columns[j].name) #header\n",
    "            eachColumn = columns[j].text #value\n",
    "            columnList.append(eachColumn)\n",
    "        rowList.append(columnList)\n",
    "        columnList = []    # 다음 row의 값을 넣기 위해 비워준다\n",
    "\n",
    "    result = pd.DataFrame(rowList, columns=nameList)\n",
    "    return result"
   ]
  },
  {
   "cell_type": "markdown",
   "metadata": {},
   "source": [
    "### 계열회사조회\n"
   ]
  },
  {
   "cell_type": "code",
   "execution_count": 154,
   "metadata": {},
   "outputs": [],
   "source": [
    "#xml\n",
    "params ={'serviceKey' : key, \n",
    "         'pageNo' : '1', \n",
    "         'numOfRows' : '10', \n",
    "         'resultType' : 'xml', \n",
    "         'basDt' : '20220701' , \n",
    "         'crno' : '1101110028939', #계열회사법인등록번호\n",
    "         'afilCmpyNm' : '케이비아이알로이(주)' }\n",
    "\n",
    "url = 'http://apis.data.go.kr/1160100/service/GetCorpBasicInfoService/getAffiliate'\n",
    "response_xml = requests.get(url, params=params).text.encode('utf-8')\n"
   ]
  },
  {
   "cell_type": "markdown",
   "metadata": {},
   "source": [
    "import xmltodict\n",
    "xmltodict.parse(response_xml)"
   ]
  },
  {
   "cell_type": "markdown",
   "metadata": {},
   "source": []
  },
  {
   "cell_type": "code",
   "execution_count": 155,
   "metadata": {},
   "outputs": [
    {
     "data": {
      "text/html": [
       "<div>\n",
       "<style scoped>\n",
       "    .dataframe tbody tr th:only-of-type {\n",
       "        vertical-align: middle;\n",
       "    }\n",
       "\n",
       "    .dataframe tbody tr th {\n",
       "        vertical-align: top;\n",
       "    }\n",
       "\n",
       "    .dataframe thead th {\n",
       "        text-align: right;\n",
       "    }\n",
       "</style>\n",
       "<table border=\"1\" class=\"dataframe\">\n",
       "  <thead>\n",
       "    <tr style=\"text-align: right;\">\n",
       "      <th></th>\n",
       "      <th>afilCmpyCrno</th>\n",
       "      <th>afilCmpyNm</th>\n",
       "      <th>basDt</th>\n",
       "      <th>crno</th>\n",
       "      <th>lstgYn</th>\n",
       "    </tr>\n",
       "  </thead>\n",
       "  <tbody>\n",
       "    <tr>\n",
       "      <th>0</th>\n",
       "      <td>1244110014077</td>\n",
       "      <td>케이비아이알로이(주)</td>\n",
       "      <td>20220701</td>\n",
       "      <td>1101110028939</td>\n",
       "      <td></td>\n",
       "    </tr>\n",
       "  </tbody>\n",
       "</table>\n",
       "</div>"
      ],
      "text/plain": [
       "    afilCmpyCrno   afilCmpyNm     basDt           crno lstgYn\n",
       "0  1244110014077  케이비아이알로이(주)  20220701  1101110028939       "
      ]
     },
     "execution_count": 155,
     "metadata": {},
     "output_type": "execute_result"
    }
   ],
   "source": [
    "load_xml_to_dataframe(response_xml, 'item') #.to_excel('계열사회사조회.xlsx')"
   ]
  },
  {
   "cell_type": "markdown",
   "metadata": {},
   "source": [
    "### 기업개요 조회"
   ]
  },
  {
   "cell_type": "code",
   "execution_count": 149,
   "metadata": {},
   "outputs": [],
   "source": [
    "url = 'http://apis.data.go.kr/1160100/service/GetCorpBasicInfoService/getCorpOutline'\n",
    "#params ={'serviceKey' : key, 'pageNo' : '1', 'numOfRows' : '10', 'resultType' : 'xml', \n",
    "#         'basDt' : '20200509', 'crno' : '1101113892240', 'corpNm' : '메리츠자산운용' }\n",
    "\n",
    "\n",
    "params ={'serviceKey' : key, 'pageNo' : '1', 'numOfRows' : '10', 'resultType' : 'xml', \n",
    "         'basDt' : '20220701'}\n",
    "response_xml = requests.get(url, params=params).content #.text.encode('utf-8')\n",
    "\n",
    "load_xml_to_dataframe(response_xml, 'item').to_excel('기업개요조회.xlsx')"
   ]
  },
  {
   "cell_type": "markdown",
   "metadata": {},
   "source": [
    "### 연결 대상 종속 기업조회"
   ]
  },
  {
   "cell_type": "code",
   "execution_count": 150,
   "metadata": {},
   "outputs": [
    {
     "data": {
      "text/html": [
       "<div>\n",
       "<style scoped>\n",
       "    .dataframe tbody tr th:only-of-type {\n",
       "        vertical-align: middle;\n",
       "    }\n",
       "\n",
       "    .dataframe tbody tr th {\n",
       "        vertical-align: top;\n",
       "    }\n",
       "\n",
       "    .dataframe thead th {\n",
       "        text-align: right;\n",
       "    }\n",
       "</style>\n",
       "<table border=\"1\" class=\"dataframe\">\n",
       "  <thead>\n",
       "    <tr style=\"text-align: right;\">\n",
       "      <th></th>\n",
       "      <th>resultCode</th>\n",
       "      <th>resultMsg</th>\n",
       "    </tr>\n",
       "  </thead>\n",
       "  <tbody>\n",
       "    <tr>\n",
       "      <th>0</th>\n",
       "      <td>00</td>\n",
       "      <td>NORMAL SERVICE.</td>\n",
       "    </tr>\n",
       "  </tbody>\n",
       "</table>\n",
       "</div>"
      ],
      "text/plain": [
       "  resultCode        resultMsg\n",
       "0         00  NORMAL SERVICE."
      ]
     },
     "execution_count": 150,
     "metadata": {},
     "output_type": "execute_result"
    }
   ],
   "source": [
    "url = 'http://apis.data.go.kr/1160100/service/GetCorpBasicInfoService/getConsSubsComp'\n",
    "params ={'serviceKey' : key, 'pageNo' : '1', 'numOfRows' : '10', 'resultType' : 'xml', \n",
    "         'basDt' : '20200327' }#, 'crno' : '1101110035835', 'sbrdEnpNm' : 'Saudi-Taihan Co. Ltd.' }\n",
    "\n",
    "\n",
    "response_xml = requests.get(url, params=params).text.encode('utf-8')\n",
    "load_xml_to_dataframe(response_xml, 'header')"
   ]
  },
  {
   "cell_type": "code",
   "execution_count": 142,
   "metadata": {},
   "outputs": [
    {
     "data": {
      "text/plain": [
       "b'<?xml version=\"1.0\" encoding=\"UTF-8\" standalone=\"yes\"?>\\n<response>\\n    <header>\\n        <resultCode>00</resultCode>\\n        <resultMsg>NORMAL SERVICE.</resultMsg>\\n    </header>\\n    <body>\\n        <numOfRows>10</numOfRows>\\n        <pageNo>1</pageNo>\\n        <totalCount>0</totalCount>\\n        <items/>\\n    </body>\\n</response>\\n'"
      ]
     },
     "execution_count": 142,
     "metadata": {},
     "output_type": "execute_result"
    }
   ],
   "source": [
    "response_xml\n"
   ]
  },
  {
   "cell_type": "code",
   "execution_count": null,
   "metadata": {},
   "outputs": [],
   "source": []
  }
 ],
 "metadata": {
  "interpreter": {
   "hash": "e47b1a34c05c1e3b83a62d7885c9d1b5ef8a0522d3be0182d0a008ec409b2b3d"
  },
  "kernelspec": {
   "display_name": "Python 3.7.11 ('myenv')",
   "language": "python",
   "name": "python3"
  },
  "language_info": {
   "codemirror_mode": {
    "name": "ipython",
    "version": 3
   },
   "file_extension": ".py",
   "mimetype": "text/x-python",
   "name": "python",
   "nbconvert_exporter": "python",
   "pygments_lexer": "ipython3",
   "version": "3.7.11"
  },
  "orig_nbformat": 4
 },
 "nbformat": 4,
 "nbformat_minor": 2
}
