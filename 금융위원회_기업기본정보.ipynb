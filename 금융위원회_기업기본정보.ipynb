{
 "cells": [
  {
   "cell_type": "code",
   "execution_count": 2,
   "metadata": {},
   "outputs": [],
   "source": [
    "import pandas as pd \n",
    "\n",
    "from general_functions import get_file_contents\n",
    "\n",
    "key = 'zaeHKUd+udWXYAS90iNFVdplnQ58mV0a++SuSZrKRVhjD2cJOhRSDZ9xzMmrxmd5S0TnN8Jg2UZCJLH8Y6oZQg=='\n",
    "#filename = 'ServiceKey.txt'\n",
    "#api_key = get_file_contents(filename)\n",
    "\n",
    "import requests\n"
   ]
  },
  {
   "cell_type": "code",
   "execution_count": 3,
   "metadata": {},
   "outputs": [],
   "source": [
    "def load_xml_to_dataframe(response, keyword):\n",
    "    import bs4 as bs\n",
    "    import urllib.request\n",
    "    soup = bs.BeautifulSoup(response_xml,'xml')\n",
    "    \n",
    "    rows = soup.find_all(keyword)\n",
    "    columns = rows[0].find_all()\n",
    "    \n",
    "    rowList = []\n",
    "    nameList = []\n",
    "    columnList = []\n",
    "\n",
    "    rowsLen = len(rows)\n",
    "    columnsLen = len(columns)\n",
    "\n",
    "    for i in range(0, rowsLen):\n",
    "        columns = rows[i].find_all()\n",
    "\n",
    "        for j in range(0, columnsLen):\n",
    "            if i == 0:\n",
    "                nameList.append(columns[j].name) #header\n",
    "            eachColumn = columns[j].text #value\n",
    "            columnList.append(eachColumn)\n",
    "        rowList.append(columnList)\n",
    "        columnList = []    # 다음 row의 값을 넣기 위해 비워준다\n",
    "\n",
    "    result = pd.DataFrame(rowList, columns=nameList)\n",
    "    return result"
   ]
  },
  {
   "cell_type": "markdown",
   "metadata": {},
   "source": [
    "### 계열회사조회\n"
   ]
  },
  {
   "cell_type": "code",
   "execution_count": 4,
   "metadata": {},
   "outputs": [],
   "source": [
    "#xml\n",
    "params ={'serviceKey' : key, \n",
    "         'pageNo' : '1', \n",
    "         'numOfRows' : '10', \n",
    "         'resultType' : 'xml', \n",
    "         'basDt' : '20220701' }#, \n",
    "         #'crno' : '1101110028939', #계열회사법인등록번호\n",
    "         #'afilCmpyNm' : '케이비아이알로이(주)' }\n",
    "\n",
    "url = 'http://apis.data.go.kr/1160100/service/GetCorpBasicInfoService/getAffiliate'\n",
    "response_xml = requests.get(url, params=params).text.encode('utf-8')\n"
   ]
  },
  {
   "cell_type": "markdown",
   "metadata": {},
   "source": [
    "import xmltodict\n",
    "xmltodict.parse(response_xml)"
   ]
  },
  {
   "cell_type": "markdown",
   "metadata": {},
   "source": []
  },
  {
   "cell_type": "code",
   "execution_count": 5,
   "metadata": {},
   "outputs": [
    {
     "data": {
      "text/html": [
       "<div>\n",
       "<style scoped>\n",
       "    .dataframe tbody tr th:only-of-type {\n",
       "        vertical-align: middle;\n",
       "    }\n",
       "\n",
       "    .dataframe tbody tr th {\n",
       "        vertical-align: top;\n",
       "    }\n",
       "\n",
       "    .dataframe thead th {\n",
       "        text-align: right;\n",
       "    }\n",
       "</style>\n",
       "<table border=\"1\" class=\"dataframe\">\n",
       "  <thead>\n",
       "    <tr style=\"text-align: right;\">\n",
       "      <th></th>\n",
       "      <th>afilCmpyCrno</th>\n",
       "      <th>afilCmpyNm</th>\n",
       "      <th>basDt</th>\n",
       "      <th>crno</th>\n",
       "      <th>lstgYn</th>\n",
       "    </tr>\n",
       "  </thead>\n",
       "  <tbody>\n",
       "    <tr>\n",
       "      <th>0</th>\n",
       "      <td>Z</td>\n",
       "      <td></td>\n",
       "      <td>20220701</td>\n",
       "      <td>0004108280449</td>\n",
       "      <td>N</td>\n",
       "    </tr>\n",
       "    <tr>\n",
       "      <th>1</th>\n",
       "      <td>1101110014764</td>\n",
       "      <td>롯데건설(주)</td>\n",
       "      <td>20220701</td>\n",
       "      <td>1101110000086</td>\n",
       "      <td></td>\n",
       "    </tr>\n",
       "    <tr>\n",
       "      <th>2</th>\n",
       "      <td>1101110033722</td>\n",
       "      <td>(주)롯데푸드</td>\n",
       "      <td>20220701</td>\n",
       "      <td>1101110000086</td>\n",
       "      <td></td>\n",
       "    </tr>\n",
       "    <tr>\n",
       "      <th>3</th>\n",
       "      <td>1101110076300</td>\n",
       "      <td>롯데지주(주)</td>\n",
       "      <td>20220701</td>\n",
       "      <td>1101110000086</td>\n",
       "      <td></td>\n",
       "    </tr>\n",
       "    <tr>\n",
       "      <th>4</th>\n",
       "      <td>1101110145410</td>\n",
       "      <td>호텔롯데(주)</td>\n",
       "      <td>20220701</td>\n",
       "      <td>1101110000086</td>\n",
       "      <td></td>\n",
       "    </tr>\n",
       "    <tr>\n",
       "      <th>5</th>\n",
       "      <td>1101110159099</td>\n",
       "      <td>롯데상사(주)</td>\n",
       "      <td>20220701</td>\n",
       "      <td>1101110000086</td>\n",
       "      <td></td>\n",
       "    </tr>\n",
       "    <tr>\n",
       "      <th>6</th>\n",
       "      <td>1101110193196</td>\n",
       "      <td>롯데케미칼(주)</td>\n",
       "      <td>20220701</td>\n",
       "      <td>1101110000086</td>\n",
       "      <td></td>\n",
       "    </tr>\n",
       "    <tr>\n",
       "      <th>7</th>\n",
       "      <td>1101110578231</td>\n",
       "      <td>롯데글로벌로지스(주)</td>\n",
       "      <td>20220701</td>\n",
       "      <td>1101110000086</td>\n",
       "      <td></td>\n",
       "    </tr>\n",
       "    <tr>\n",
       "      <th>8</th>\n",
       "      <td>1101111217416</td>\n",
       "      <td>롯데캐피탈(주)</td>\n",
       "      <td>20220701</td>\n",
       "      <td>1101110000086</td>\n",
       "      <td></td>\n",
       "    </tr>\n",
       "    <tr>\n",
       "      <th>9</th>\n",
       "      <td>1101113326588</td>\n",
       "      <td>롯데렌탈(주)</td>\n",
       "      <td>20220701</td>\n",
       "      <td>1101110000086</td>\n",
       "      <td></td>\n",
       "    </tr>\n",
       "  </tbody>\n",
       "</table>\n",
       "</div>"
      ],
      "text/plain": [
       "    afilCmpyCrno   afilCmpyNm     basDt           crno lstgYn\n",
       "0              Z               20220701  0004108280449      N\n",
       "1  1101110014764      롯데건설(주)  20220701  1101110000086       \n",
       "2  1101110033722      (주)롯데푸드  20220701  1101110000086       \n",
       "3  1101110076300      롯데지주(주)  20220701  1101110000086       \n",
       "4  1101110145410      호텔롯데(주)  20220701  1101110000086       \n",
       "5  1101110159099      롯데상사(주)  20220701  1101110000086       \n",
       "6  1101110193196     롯데케미칼(주)  20220701  1101110000086       \n",
       "7  1101110578231  롯데글로벌로지스(주)  20220701  1101110000086       \n",
       "8  1101111217416     롯데캐피탈(주)  20220701  1101110000086       \n",
       "9  1101113326588      롯데렌탈(주)  20220701  1101110000086       "
      ]
     },
     "execution_count": 5,
     "metadata": {},
     "output_type": "execute_result"
    }
   ],
   "source": [
    "load_xml_to_dataframe(response_xml, 'item') #.to_excel('계열사회사조회.xlsx')"
   ]
  },
  {
   "cell_type": "markdown",
   "metadata": {},
   "source": [
    "### 기업개요 조회"
   ]
  },
  {
   "cell_type": "code",
   "execution_count": 28,
   "metadata": {},
   "outputs": [
    {
     "data": {
      "text/plain": [
       "0    0000000000000\n",
       "Name: crno, dtype: object"
      ]
     },
     "execution_count": 28,
     "metadata": {},
     "output_type": "execute_result"
    }
   ],
   "source": [
    "url = 'http://apis.data.go.kr/1160100/service/GetCorpBasicInfoService/getCorpOutline'\n",
    "#params ={'serviceKey' : key, 'pageNo' : '1', 'numOfRows' : '10', 'resultType' : 'xml', \n",
    "#         'basDt' : '20200509', 'crno' : '1101113892240', 'corpNm' : '메리츠자산운용' }\n",
    "\n",
    "params ={'serviceKey' : key, 'pageNo' : '1', 'numOfRows' : '10', 'resultType' : 'xml', \n",
    "         'basDt' : '20200509', 'corpNm' : '리만 브라더스' }\n",
    "#params ={'serviceKey' : key, 'pageNo' : '1', 'numOfRows' : '10', 'resultType' : 'xml', \n",
    "#         'basDt' : '20220701'}\n",
    "response_xml = requests.get(url, params=params).content #.text.encode('utf-8')\n",
    "\n",
    "load_xml_to_dataframe(response_xml, 'item')['crno'] #.to_excel('기업개요조회.xlsx')"
   ]
  },
  {
   "cell_type": "markdown",
   "metadata": {},
   "source": [
    "### 연결 대상 종속 기업조회"
   ]
  },
  {
   "cell_type": "code",
   "execution_count": 18,
   "metadata": {},
   "outputs": [],
   "source": [
    "url = 'http://apis.data.go.kr/1160100/service/GetCorpBasicInfoService/getConsSubsComp'\n",
    "params ={'serviceKey' : key, 'pageNo' : '1', 'numOfRows' : '10', 'resultType' : 'xml', \n",
    "         'basDt' : '20220707' }#, 'crno' : '1101110035835', 'sbrdEnpNm' : 'Saudi-Taihan Co. Ltd.' }\n",
    "\n",
    "\n",
    "response_xml = requests.get(url, params=params).text.encode('utf-8')\n",
    "#import xmltodict\n",
    "#xmltodict.parse(response_xml)"
   ]
  },
  {
   "cell_type": "code",
   "execution_count": 21,
   "metadata": {},
   "outputs": [
    {
     "data": {
      "text/html": [
       "<div>\n",
       "<style scoped>\n",
       "    .dataframe tbody tr th:only-of-type {\n",
       "        vertical-align: middle;\n",
       "    }\n",
       "\n",
       "    .dataframe tbody tr th {\n",
       "        vertical-align: top;\n",
       "    }\n",
       "\n",
       "    .dataframe thead th {\n",
       "        text-align: right;\n",
       "    }\n",
       "</style>\n",
       "<table border=\"1\" class=\"dataframe\">\n",
       "  <thead>\n",
       "    <tr style=\"text-align: right;\">\n",
       "      <th></th>\n",
       "      <th>basDt</th>\n",
       "      <th>crno</th>\n",
       "      <th>dntRltBsisCtt</th>\n",
       "      <th>mainSbrdEnpYnCtt</th>\n",
       "      <th>sbrdEnpEstbDt</th>\n",
       "      <th>sbrdEnpLtstEbzyrTastAmt</th>\n",
       "      <th>sbrdEnpMainBizCtt</th>\n",
       "      <th>sbrdEnpNm</th>\n",
       "      <th>sbrdEnpadr</th>\n",
       "    </tr>\n",
       "  </thead>\n",
       "  <tbody>\n",
       "    <tr>\n",
       "      <th>0</th>\n",
       "      <td>20220707</td>\n",
       "      <td>1101110548771</td>\n",
       "      <td>기업 의결권의 과반수 소유&amp;amp;cr;(기업회계기준서 1027호 13)</td>\n",
       "      <td>미해당</td>\n",
       "      <td>20070924</td>\n",
       "      <td>3663035</td>\n",
       "      <td>고온전지&amp;amp;cr;판매</td>\n",
       "      <td>VITZROCELL USA Inc..</td>\n",
       "      <td>10055 Regal Row Ste 180&amp;amp;cr;Houston TX 77040</td>\n",
       "    </tr>\n",
       "    <tr>\n",
       "      <th>1</th>\n",
       "      <td>20220707</td>\n",
       "      <td>1101117417458</td>\n",
       "      <td>지분율43.58%</td>\n",
       "      <td>-</td>\n",
       "      <td>20190627</td>\n",
       "      <td>12973242</td>\n",
       "      <td>배터리&amp;amp;cr;소재</td>\n",
       "      <td>(주)에코케미칼</td>\n",
       "      <td>울산광역시 남구 신두왕로 39</td>\n",
       "    </tr>\n",
       "    <tr>\n",
       "      <th>2</th>\n",
       "      <td>20220707</td>\n",
       "      <td>1101117417458</td>\n",
       "      <td>지분율100%</td>\n",
       "      <td>-</td>\n",
       "      <td>20150708</td>\n",
       "      <td>274972</td>\n",
       "      <td>ESS&amp;amp;cr;사업</td>\n",
       "      <td>SAT USA LLC</td>\n",
       "      <td>115 STRYKER LANE&amp;amp;cr;HILLSBOROUGH TOWNSHIP ...</td>\n",
       "    </tr>\n",
       "    <tr>\n",
       "      <th>3</th>\n",
       "      <td>20220707</td>\n",
       "      <td>1311110558163</td>\n",
       "      <td>-</td>\n",
       "      <td>-</td>\n",
       "      <td></td>\n",
       "      <td>0</td>\n",
       "      <td>-</td>\n",
       "      <td>-</td>\n",
       "      <td>-</td>\n",
       "    </tr>\n",
       "  </tbody>\n",
       "</table>\n",
       "</div>"
      ],
      "text/plain": [
       "      basDt           crno                             dntRltBsisCtt  \\\n",
       "0  20220707  1101110548771  기업 의결권의 과반수 소유&amp;cr;(기업회계기준서 1027호 13)   \n",
       "1  20220707  1101117417458                                 지분율43.58%   \n",
       "2  20220707  1101117417458                                   지분율100%   \n",
       "3  20220707  1311110558163                                         -   \n",
       "\n",
       "  mainSbrdEnpYnCtt sbrdEnpEstbDt sbrdEnpLtstEbzyrTastAmt sbrdEnpMainBizCtt  \\\n",
       "0              미해당      20070924                 3663035    고온전지&amp;cr;판매   \n",
       "1                -      20190627                12973242     배터리&amp;cr;소재   \n",
       "2                -      20150708                  274972     ESS&amp;cr;사업   \n",
       "3                -                                     0                 -   \n",
       "\n",
       "               sbrdEnpNm                                         sbrdEnpadr  \n",
       "0  VITZROCELL USA Inc..     10055 Regal Row Ste 180&amp;cr;Houston TX 77040  \n",
       "1               (주)에코케미칼                                   울산광역시 남구 신두왕로 39  \n",
       "2            SAT USA LLC  115 STRYKER LANE&amp;cr;HILLSBOROUGH TOWNSHIP ...  \n",
       "3                      -                                                  -  "
      ]
     },
     "execution_count": 21,
     "metadata": {},
     "output_type": "execute_result"
    }
   ],
   "source": [
    "load_xml_to_dataframe(response_xml, 'item')#.to_excel('연결 대상 종속 기업 조회.xlsx')"
   ]
  },
  {
   "cell_type": "code",
   "execution_count": null,
   "metadata": {},
   "outputs": [],
   "source": []
  }
 ],
 "metadata": {
  "interpreter": {
   "hash": "e47b1a34c05c1e3b83a62d7885c9d1b5ef8a0522d3be0182d0a008ec409b2b3d"
  },
  "kernelspec": {
   "display_name": "Python 3.7.11 ('myenv')",
   "language": "python",
   "name": "python3"
  },
  "language_info": {
   "codemirror_mode": {
    "name": "ipython",
    "version": 3
   },
   "file_extension": ".py",
   "mimetype": "text/x-python",
   "name": "python",
   "nbconvert_exporter": "python",
   "pygments_lexer": "ipython3",
   "version": "3.7.11"
  },
  "orig_nbformat": 4
 },
 "nbformat": 4,
 "nbformat_minor": 2
}
