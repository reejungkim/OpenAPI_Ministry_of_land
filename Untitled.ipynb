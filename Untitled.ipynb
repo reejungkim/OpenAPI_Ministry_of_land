{
 "cells": [
  {
   "cell_type": "code",
   "execution_count": 1,
   "id": "ddfaee50",
   "metadata": {},
   "outputs": [],
   "source": [
    "import pandas as pd\n",
    "import matplotlib.pyplot as plt\n",
    "from bs4 import BeautifulSoup\n",
    "from urllib.request import urlopen"
   ]
  },
  {
   "cell_type": "markdown",
   "id": "e6506995",
   "metadata": {},
   "source": [
    "#나눔 폰트 설치 \n",
    "!sudo apt-get install -y fonts-nanum\n",
    "!sudo fc-cache -fv\n",
    "!rm ~/.cache/matplotlib -rf"
   ]
  },
  {
   "cell_type": "code",
   "execution_count": 2,
   "id": "c9871f7b",
   "metadata": {},
   "outputs": [
    {
     "ename": "SyntaxError",
     "evalue": "invalid syntax (3703260841.py, line 3)",
     "output_type": "error",
     "traceback": [
      "\u001b[0;36m  File \u001b[0;32m\"/var/folders/l6/22wjv97x2yq_lzg77lp74ml40000gn/T/ipykernel_8804/3703260841.py\"\u001b[0;36m, line \u001b[0;32m3\u001b[0m\n\u001b[0;31m    service_key = # 당신의 인증키를 삽입하시오\u001b[0m\n\u001b[0m                                  ^\u001b[0m\n\u001b[0;31mSyntaxError\u001b[0m\u001b[0;31m:\u001b[0m invalid syntax\n"
     ]
    }
   ],
   "source": [
    "date = 202201\n",
    "gu_code = 11305\n",
    "service_key = # 당신의 인증키를 삽입하시오\n",
    "url = f'http://openapi.molit.go.kr:8081/OpenAPI_ToolInstallPackage/service/rest/RTMSOBJSvc/'\\\n",
    "    f'getRTMSDataSvcAptRent?LAWD_CD={gu_code}&DEAL_YMD={date}&'\\\n",
    "    f'serviceKey={service_key}'\n",
    "\n",
    "result = urlopen(url)\n",
    "house = BeautifulSoup(result, 'lxml-xml')\n",
    "te = house.find_all('item')"
   ]
  },
  {
   "cell_type": "code",
   "execution_count": null,
   "id": "bdcb6678",
   "metadata": {},
   "outputs": [],
   "source": []
  }
 ],
 "metadata": {
  "kernelspec": {
   "display_name": "Python 3 (ipykernel)",
   "language": "python",
   "name": "python3"
  },
  "language_info": {
   "codemirror_mode": {
    "name": "ipython",
    "version": 3
   },
   "file_extension": ".py",
   "mimetype": "text/x-python",
   "name": "python",
   "nbconvert_exporter": "python",
   "pygments_lexer": "ipython3",
   "version": "3.7.11"
  }
 },
 "nbformat": 4,
 "nbformat_minor": 5
}
