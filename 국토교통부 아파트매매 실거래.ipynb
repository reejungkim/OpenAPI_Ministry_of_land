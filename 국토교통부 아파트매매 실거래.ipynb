{
 "cells": [
  {
   "cell_type": "markdown",
   "id": "a1be9ee1",
   "metadata": {},
   "source": [
    "https://www.data.go.kr/data/15058747/openapi.do\n",
    "\n",
    "https://www.code.go.kr/stdcode/regCodeL.do\n",
    "\n",
    "https://shiningyouandme.tistory.com/11"
   ]
  },
  {
   "cell_type": "code",
   "execution_count": 1,
   "id": "7e08108e",
   "metadata": {},
   "outputs": [],
   "source": [
    "from urllib.parse import urlencode, quote_plus\n",
    "import requests\n",
    "import pandas as pd\n",
    "from bs4 import BeautifulSoup\n",
    "import bs4\n",
    "\n",
    "url =\"http://openapi.molit.go.kr:8081/OpenAPI_ToolInstallPackage/service/rest/RTMSOBJSvc/getRTMSDataSvcAptRent?\"\n",
    "service_key = \"서비스키\"\n",
    "\n",
    "\n",
    "base_date = [\"202007\",\"202008\",\"202009\"]\n"
   ]
  },
  {
   "cell_type": "code",
   "execution_count": 2,
   "id": "db797853",
   "metadata": {},
   "outputs": [],
   "source": [
    "for i in range(len(base_date)):\n",
    "\n",
    "    gu_code = '11545' ##구 단위로 데이터를 확보하는 것. ex)11545 = 금천구\n",
    "    payload = \"serviceKey=\" + service_key + \"&\"+\"LAWD_CD=\" + gu_code + \"&\"+\"DEAL_YMD=\" + base_date[i]+ \"&\" \n",
    "\n",
    "    res = requests.get(url + payload).text\n",
    "    xmlobj = bs4.BeautifulSoup(res, 'lxml-xml')\n",
    "    rows = xmlobj.findAll('item')\n",
    "\n",
    "    rowList = []\n",
    "    nameList = []\n",
    "    columnList = []\n",
    "\n",
    "    rowsLen = len(rows)\n",
    "    for i in range(0, rowsLen):\n",
    "        columns = rows[i].find_all()\n",
    "\n",
    "        columnsLen = len(columns)\n",
    "        for j in range(0, columnsLen):\n",
    "            if i == 0:\n",
    "                nameList.append(columns[j].name)\n",
    "            eachColumn = columns[j].text\n",
    "            columnList.append(eachColumn)\n",
    "        rowList.append(columnList)\n",
    "        columnList = []    \n",
    "result = pd.DataFrame(rowList, columns=nameList)"
   ]
  },
  {
   "cell_type": "code",
   "execution_count": 3,
   "id": "99953e75",
   "metadata": {},
   "outputs": [
    {
     "data": {
      "text/html": [
       "<div>\n",
       "<style scoped>\n",
       "    .dataframe tbody tr th:only-of-type {\n",
       "        vertical-align: middle;\n",
       "    }\n",
       "\n",
       "    .dataframe tbody tr th {\n",
       "        vertical-align: top;\n",
       "    }\n",
       "\n",
       "    .dataframe thead th {\n",
       "        text-align: right;\n",
       "    }\n",
       "</style>\n",
       "<table border=\"1\" class=\"dataframe\">\n",
       "  <thead>\n",
       "    <tr style=\"text-align: right;\">\n",
       "      <th></th>\n",
       "    </tr>\n",
       "  </thead>\n",
       "  <tbody>\n",
       "  </tbody>\n",
       "</table>\n",
       "</div>"
      ],
      "text/plain": [
       "Empty DataFrame\n",
       "Columns: []\n",
       "Index: []"
      ]
     },
     "execution_count": 3,
     "metadata": {},
     "output_type": "execute_result"
    }
   ],
   "source": [
    "result"
   ]
  },
  {
   "cell_type": "markdown",
   "id": "dbfb5e23",
   "metadata": {},
   "source": [
    "http://www.code.go.kr/stdcode/regCodeL.do"
   ]
  }
 ],
 "metadata": {
  "kernelspec": {
   "display_name": "Python 3 (ipykernel)",
   "language": "python",
   "name": "python3"
  },
  "language_info": {
   "codemirror_mode": {
    "name": "ipython",
    "version": 3
   },
   "file_extension": ".py",
   "mimetype": "text/x-python",
   "name": "python",
   "nbconvert_exporter": "python",
   "pygments_lexer": "ipython3",
   "version": "3.7.11"
  }
 },
 "nbformat": 4,
 "nbformat_minor": 5
}
