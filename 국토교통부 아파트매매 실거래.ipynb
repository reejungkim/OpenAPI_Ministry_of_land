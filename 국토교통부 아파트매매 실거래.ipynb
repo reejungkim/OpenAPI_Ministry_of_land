{
 "cells": [
  {
   "cell_type": "markdown",
   "id": "a277478f",
   "metadata": {},
   "source": [
    "https://www.data.go.kr/data/15058747/openapi.do\n",
    "\n",
    "https://www.code.go.kr/stdcode/regCodeL.do\n",
    "\n",
    "https://shiningyouandme.tistory.com/11"
   ]
  },
  {
   "cell_type": "code",
   "execution_count": 20,
   "id": "a10e2665",
   "metadata": {},
   "outputs": [],
   "source": [
    "filename = 'ServiceKey 국토교통부 아파트매매 실거래.txt'\n",
    "def get_file_contents(filename):\n",
    "    \"\"\" Given a filename,\n",
    "        return the contents of that file\n",
    "    \"\"\"\n",
    "    try:\n",
    "        with open(filename, 'r') as f:\n",
    "            # It's assumed our file contains a single line,\n",
    "            # with our API key\n",
    "            return f.read().strip()\n",
    "    except FileNotFoundError:\n",
    "        print(\"'%s' file not found\" % filename)\n",
    "api_key = get_file_contents(filename)\n",
    "#print(\"Our API key is: %s\" % (api_key))"
   ]
  },
  {
   "cell_type": "markdown",
   "id": "899ef5f5",
   "metadata": {},
   "source": [
    "from urllib.parse import urlencode, quote_plus\n",
    "import requests\n",
    "import pandas as pd\n",
    "from bs4 import BeautifulSoup\n",
    "import bs4\n",
    "\n",
    "url =\"http://openapi.molit.go.kr:8081/OpenAPI_ToolInstallPackage/service/rest/RTMSOBJSvc/getRTMSDataSvcAptRent?\"\n",
    "service_key = \n",
    "\n",
    "\n",
    "base_date = [\"202007\",\"202008\",\"202009\"]\n"
   ]
  },
  {
   "cell_type": "code",
   "execution_count": 23,
   "id": "8c9ef8e7",
   "metadata": {},
   "outputs": [
    {
     "name": "stdout",
     "output_type": "stream",
     "text": [
      "b'<?xml version=\"1.0\" encoding=\"UTF-8\" standalone=\"yes\"?><response><header><resultCode>99</resultCode><resultMsg>SERVICE KEY IS NOT REGISTERED ERROR.</resultMsg></header></response>'\n"
     ]
    }
   ],
   "source": [
    "\n",
    "import requests\n",
    "\n",
    "url = 'http://openapi.molit.go.kr:8081/OpenAPI_ToolInstallPackage/service/rest/RTMSOBJSvc/getRTMSDataSvcAptTrade'\n",
    "params ={'serviceKey' : api_key, 'LAWD_CD' : '11110', 'DEAL_YMD' : '20201212' }\n",
    "\n",
    "response = requests.get(url, params=params)\n",
    "print(response.content)"
   ]
  },
  {
   "cell_type": "code",
   "execution_count": 15,
   "id": "9b8603ca",
   "metadata": {},
   "outputs": [
    {
     "ename": "TypeError",
     "evalue": "object of type 'Response' has no len()",
     "output_type": "error",
     "traceback": [
      "\u001b[0;31m---------------------------------------------------------------------------\u001b[0m",
      "\u001b[0;31mTypeError\u001b[0m                                 Traceback (most recent call last)",
      "\u001b[0;32m/var/folders/l6/22wjv97x2yq_lzg77lp74ml40000gn/T/ipykernel_12952/2758492334.py\u001b[0m in \u001b[0;36m<module>\u001b[0;34m\u001b[0m\n\u001b[1;32m      3\u001b[0m \u001b[0;32mimport\u001b[0m \u001b[0mpandas\u001b[0m \u001b[0;32mas\u001b[0m \u001b[0mpd\u001b[0m\u001b[0;34m\u001b[0m\u001b[0;34m\u001b[0m\u001b[0m\n\u001b[1;32m      4\u001b[0m \u001b[0;34m\u001b[0m\u001b[0m\n\u001b[0;32m----> 5\u001b[0;31m \u001b[0msoup\u001b[0m \u001b[0;34m=\u001b[0m \u001b[0mbs\u001b[0m\u001b[0;34m.\u001b[0m\u001b[0mBeautifulSoup\u001b[0m\u001b[0;34m(\u001b[0m\u001b[0mresponse\u001b[0m\u001b[0;34m,\u001b[0m\u001b[0;34m'xml'\u001b[0m\u001b[0;34m)\u001b[0m\u001b[0;34m\u001b[0m\u001b[0;34m\u001b[0m\u001b[0m\n\u001b[0m",
      "\u001b[0;32m/opt/anaconda3/envs/myenv/lib/python3.7/site-packages/bs4/__init__.py\u001b[0m in \u001b[0;36m__init__\u001b[0;34m(self, markup, features, builder, parse_only, from_encoding, exclude_encodings, **kwargs)\u001b[0m\n\u001b[1;32m    190\u001b[0m         \u001b[0;32mif\u001b[0m \u001b[0mhasattr\u001b[0m\u001b[0;34m(\u001b[0m\u001b[0mmarkup\u001b[0m\u001b[0;34m,\u001b[0m \u001b[0;34m'read'\u001b[0m\u001b[0;34m)\u001b[0m\u001b[0;34m:\u001b[0m        \u001b[0;31m# It's a file-type object.\u001b[0m\u001b[0;34m\u001b[0m\u001b[0;34m\u001b[0m\u001b[0m\n\u001b[1;32m    191\u001b[0m             \u001b[0mmarkup\u001b[0m \u001b[0;34m=\u001b[0m \u001b[0mmarkup\u001b[0m\u001b[0;34m.\u001b[0m\u001b[0mread\u001b[0m\u001b[0;34m(\u001b[0m\u001b[0;34m)\u001b[0m\u001b[0;34m\u001b[0m\u001b[0;34m\u001b[0m\u001b[0m\n\u001b[0;32m--> 192\u001b[0;31m         elif len(markup) <= 256 and (\n\u001b[0m\u001b[1;32m    193\u001b[0m                 \u001b[0;34m(\u001b[0m\u001b[0misinstance\u001b[0m\u001b[0;34m(\u001b[0m\u001b[0mmarkup\u001b[0m\u001b[0;34m,\u001b[0m \u001b[0mbytes\u001b[0m\u001b[0;34m)\u001b[0m \u001b[0;32mand\u001b[0m \u001b[0;32mnot\u001b[0m \u001b[0;34mb'<'\u001b[0m \u001b[0;32min\u001b[0m \u001b[0mmarkup\u001b[0m\u001b[0;34m)\u001b[0m\u001b[0;34m\u001b[0m\u001b[0;34m\u001b[0m\u001b[0m\n\u001b[1;32m    194\u001b[0m                 \u001b[0;32mor\u001b[0m \u001b[0;34m(\u001b[0m\u001b[0misinstance\u001b[0m\u001b[0;34m(\u001b[0m\u001b[0mmarkup\u001b[0m\u001b[0;34m,\u001b[0m \u001b[0mstr\u001b[0m\u001b[0;34m)\u001b[0m \u001b[0;32mand\u001b[0m \u001b[0;32mnot\u001b[0m \u001b[0;34m'<'\u001b[0m \u001b[0;32min\u001b[0m \u001b[0mmarkup\u001b[0m\u001b[0;34m)\u001b[0m\u001b[0;34m\u001b[0m\u001b[0;34m\u001b[0m\u001b[0m\n",
      "\u001b[0;31mTypeError\u001b[0m: object of type 'Response' has no len()"
     ]
    }
   ],
   "source": [
    "import bs4 as bs\n",
    "import urllib.request\n",
    "import pandas as pd \n",
    "\n",
    "soup = bs.BeautifulSoup(response,'xml')\n"
   ]
  },
  {
   "cell_type": "markdown",
   "id": "50435f39",
   "metadata": {},
   "source": [
    "for i in range(len(base_date)):\n",
    "\n",
    "    gu_code = '11545' ##구 단위로 데이터를 확보하는 것. ex)11545 = 금천구\n",
    "    payload = \"serviceKey=\" + service_key + \"&\"+\"LAWD_CD=\" + gu_code + \"&\"+\"DEAL_YMD=\" + base_date[i]+ \"&\" \n",
    "\n",
    "    res = requests.get(url + payload).text\n",
    "    xmlobj = bs4.BeautifulSoup(res, 'lxml-xml')\n",
    "    rows = xmlobj.findAll('item')\n",
    "\n",
    "    rowList = []\n",
    "    nameList = []\n",
    "    columnList = []\n",
    "\n",
    "    rowsLen = len(rows)\n",
    "    for i in range(0, rowsLen):\n",
    "        columns = rows[i].find_all()\n",
    "\n",
    "        columnsLen = len(columns)\n",
    "        for j in range(0, columnsLen):\n",
    "            if i == 0:\n",
    "                nameList.append(columns[j].nmame)\n",
    "            eachColumn = columns[j].text\n",
    "            columnList.append(eachColumn)\n",
    "        rowList.append(columnList)\n",
    "        columnList = []    \n",
    "result = pd.DataFrame(rowList, columns=nameList)"
   ]
  },
  {
   "cell_type": "markdown",
   "id": "518670ec",
   "metadata": {},
   "source": [
    "result"
   ]
  },
  {
   "cell_type": "markdown",
   "id": "c6291925",
   "metadata": {},
   "source": [
    "http://www.code.go.kr/stdcode/regCodeL.do"
   ]
  }
 ],
 "metadata": {
  "kernelspec": {
   "display_name": "Python 3 (ipykernel)",
   "language": "python",
   "name": "python3"
  },
  "language_info": {
   "codemirror_mode": {
    "name": "ipython",
    "version": 3
   },
   "file_extension": ".py",
   "mimetype": "text/x-python",
   "name": "python",
   "nbconvert_exporter": "python",
   "pygments_lexer": "ipython3",
   "version": "3.7.11"
  }
 },
 "nbformat": 4,
 "nbformat_minor": 5
}
