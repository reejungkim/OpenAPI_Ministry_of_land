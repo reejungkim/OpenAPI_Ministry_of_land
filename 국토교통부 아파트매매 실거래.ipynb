{
 "cells": [
  {
   "cell_type": "markdown",
   "id": "a277478f",
   "metadata": {},
   "source": [
    "https://www.data.go.kr/data/15058747/openapi.do\n",
    "\n",
    "https://www.code.go.kr/stdcode/regCodeL.do\n",
    "\n",
    "https://shiningyouandme.tistory.com/11"
   ]
  },
  {
   "cell_type": "code",
   "execution_count": 1,
   "id": "a10e2665",
   "metadata": {},
   "outputs": [],
   "source": [
    "filename = 'ServiceKey 국토교통부 아파트매매 실거래.txt'\n",
    "def get_file_contents(filename):\n",
    "    \"\"\" Given a filename,\n",
    "        return the contents of that file\n",
    "    \"\"\"\n",
    "    try:\n",
    "        with open(filename, 'r') as f:\n",
    "            # It's assumed our file contains a single line,\n",
    "            # with our API key\n",
    "            return f.read().strip()\n",
    "    except FileNotFoundError:\n",
    "        print(\"'%s' file not found\" % filename)\n",
    "api_key = get_file_contents(filename)\n",
    "#print(\"Our API key is: %s\" % (api_key))"
   ]
  },
  {
   "cell_type": "markdown",
   "id": "899ef5f5",
   "metadata": {},
   "source": [
    "from urllib.parse import urlencode, quote_plus\n",
    "import requests\n",
    "import pandas as pd\n",
    "from bs4 import BeautifulSoup\n",
    "import bs4\n",
    "\n",
    "url =\"http://openapi.molit.go.kr:8081/OpenAPI_ToolInstallPackage/service/rest/RTMSOBJSvc/getRTMSDataSvcAptRent?\"\n",
    "service_key = api_key\n",
    "\n",
    "\n",
    "base_date = [\"202007\",\"202008\",\"202009\"]\n"
   ]
  },
  {
   "cell_type": "code",
   "execution_count": 5,
   "id": "8c9ef8e7",
   "metadata": {},
   "outputs": [],
   "source": [
    "\n",
    "import requests\n",
    "\n",
    "url = 'http://openapi.molit.go.kr:8081/OpenAPI_ToolInstallPackage/service/rest/RTMSOBJSvc/getRTMSDataSvcAptTrade'\n",
    "params ={'serviceKey' : api_key, 'LAWD_CD' : '11110', 'DEAL_YMD' : '20201212' }\n",
    "\n",
    "response = requests.get(url, params=params).text.encode('utf-8')\n",
    "#print(response.content)"
   ]
  },
  {
   "cell_type": "code",
   "execution_count": 6,
   "id": "9b8603ca",
   "metadata": {},
   "outputs": [],
   "source": [
    "import bs4 as bs\n",
    "import urllib.request\n",
    "import pandas as pd \n",
    "\n",
    "soup = bs.BeautifulSoup(response,'xml')\n"
   ]
  },
  {
   "cell_type": "code",
   "execution_count": 7,
   "id": "98f5229d",
   "metadata": {},
   "outputs": [
    {
     "data": {
      "text/plain": [
       "<?xml version=\"1.0\" encoding=\"utf-8\"?>\n",
       "<response><header><resultCode>00</resultCode><resultMsg>NORMAL SERVICE.</resultMsg></header><body><items/><numOfRows>10</numOfRows><pageNo>1</pageNo><totalCount>0</totalCount></body></response>"
      ]
     },
     "execution_count": 7,
     "metadata": {},
     "output_type": "execute_result"
    }
   ],
   "source": [
    "soup"
   ]
  },
  {
   "cell_type": "markdown",
   "id": "50435f39",
   "metadata": {},
   "source": [
    "for i in range(len(base_date)):\n",
    "\n",
    "    gu_code = '11545' ##구 단위로 데이터를 확보하는 것. ex)11545 = 금천구\n",
    "    payload = \"serviceKey=\" + service_key + \"&\"+\"LAWD_CD=\" + gu_code + \"&\"+\"DEAL_YMD=\" + base_date[i]+ \"&\" \n",
    "\n",
    "    res = requests.get(url + payload).text\n",
    "    xmlobj = bs4.BeautifulSoup(res, 'lxml-xml')\n",
    "    rows = xmlobj.findAll('item')\n",
    "\n",
    "    rowList = []\n",
    "    nameList = []\n",
    "    columnList = []\n",
    "\n",
    "    rowsLen = len(rows)\n",
    "    for i in range(0, rowsLen):\n",
    "        columns = rows[i].find_all()\n",
    "\n",
    "        columnsLen = len(columns)\n",
    "        for j in range(0, columnsLen):\n",
    "            if i == 0:\n",
    "                nameList.append(columns[j].nmame)\n",
    "            eachColumn = columns[j].text\n",
    "            columnList.append(eachColumn)\n",
    "        rowList.append(columnList)\n",
    "        columnList = []    \n",
    "result = pd.DataFrame(rowList, columns=nameList)"
   ]
  },
  {
   "cell_type": "markdown",
   "id": "518670ec",
   "metadata": {},
   "source": [
    "result"
   ]
  },
  {
   "cell_type": "markdown",
   "id": "c6291925",
   "metadata": {},
   "source": [
    "http://www.code.go.kr/stdcode/regCodeL.do"
   ]
  }
 ],
 "metadata": {
  "kernelspec": {
   "display_name": "Python 3 (ipykernel)",
   "language": "python",
   "name": "python3"
  },
  "language_info": {
   "codemirror_mode": {
    "name": "ipython",
    "version": 3
   },
   "file_extension": ".py",
   "mimetype": "text/x-python",
   "name": "python",
   "nbconvert_exporter": "python",
   "pygments_lexer": "ipython3",
   "version": "3.7.11"
  }
 },
 "nbformat": 4,
 "nbformat_minor": 5
}
