{
 "cells": [
  {
   "cell_type": "markdown",
   "id": "317ede98",
   "metadata": {},
   "source": [
    "https://www.data.go.kr/iim/api/selectAPIAcountView.do\n",
    "\n",
    "\n",
    "https://www.data.go.kr/tcs/dss/selectApiDataDetailView.do?publicDataPk=15057988"
   ]
  },
  {
   "cell_type": "code",
   "execution_count": 1,
   "id": "7af91110",
   "metadata": {},
   "outputs": [],
   "source": [
    "import pandas as pd \n"
   ]
  },
  {
   "cell_type": "markdown",
   "id": "59f5b6dc",
   "metadata": {},
   "source": [
    "#### 요청변수(Request Parameter)\n",
    "\n",
    "| 항목명(국문) | 항목명(영문)   | 항목크기 | 항목구분 | 샘플데이터               | 항목설명                 |\n",
    "|---------|-----------|------|------|---------------------|----------------------|\n",
    "| 고유번호    | pnu       | 19   | 필수   | 1111010100100040007 | 고유번호(8자리 이상)         |\n",
    "| 기준년도    | stdrYear  | 4    | 옵션   | 2012                | 기준년도(YYYY: 4자리)      |\n",
    "| 응답결과 형식 | format    | 5    | 옵션   | xml                 | 응답결과 형식(xml 또는 json) |\n",
    "| 검색건수    | numOfRows | 4    | 옵션   | 10                  | 검색건수                 |\n",
    "| 페이지 번호  | pageNo    | 4    | 옵션   | 1                   | 페이지 번호               |\n"
   ]
  },
  {
   "cell_type": "markdown",
   "id": "efec5e8e",
   "metadata": {},
   "source": [
    "#### 출력결과(Response Element)\n",
    "\n",
    "| 항목명(국문)  | 항목명(영문)        | 항목크기 | 항목구분 | 샘플데이터               | 항목설명     |\n",
    "|----------|----------------|------|------|---------------------|----------|\n",
    "| 고유번호     | pnu            | 19   | 필수   | 1111010100100040007 | 고유번호     |\n",
    "| 법정동코드    | ldCode         | 10   | 옵션   | 1111010100          | 법정동코드    |\n",
    "| 법정동명     | ldCodeNm       | 300  | 옵션   | 서울특별시 종로구 청운동       | 법정동명     |\n",
    "| 특수지구분코드  | regstrSeCode   | 1    | 옵션   | 1                   | 특수지구분코드  |\n",
    "| 특수지구분명   | regstrSeCodeNm | 300  | 옵션   | 일반                  | 특수지구분명   |\n",
    "| 지번       | mnnmSlno       | 9    | 옵션   | 1-1                 | 지번       |\n",
    "| 기준년도     | stdrYear       | 4    | 필수   | 2012                | 기준년도     |\n",
    "| 기준월      | stdrMt         | 2    | 필수   | 09                  | 기준월      |\n",
    "| 공동주택코드   | aphusCode      | 10   | 옵션   | 1                   | 공동주택코드   |\n",
    "| 공동주택구분코드 | aphusSeCode    | 1    | 옵션   | 5                   | 공동주택구분코드 |\n",
    "| 공동주택구분명  | aphusSeCodeNm  | 300  | 옵션   | 다세대                 | 공동주택구분명  |\n",
    "| 특수지명     | spclLandNm     | 150  | 옵션   | 상암택지개발사업지구 3-7블럭    | 특수지명     |\n",
    "| 공동주택명    | aphusNm        | 300  | 옵션   | 상암월드컵7단지            | 공동주택명    |\n",
    "| 전용면적(㎡)  | prvuseAr       | 20   | 옵션   | 84.45               | 전용면적(㎡)  |\n",
    "| 공시가격(원)  | pblntfPc       | 13   | 옵션   | 480000000           | 공시가격(원)  |\n",
    "| 데이터기준일자  | lastUpdtDt     | 10   | 옵션   | 2016-09-26          | 데이터기준일자  |\n"
   ]
  },
  {
   "cell_type": "code",
   "execution_count": 2,
   "id": "42e6bb84",
   "metadata": {},
   "outputs": [],
   "source": [
    "filename = 'ServiceKey.txt'\n",
    "def get_file_contents(filename):\n",
    "    \"\"\" Given a filename,\n",
    "        return the contents of that file\n",
    "    \"\"\"\n",
    "    try:\n",
    "        with open(filename, 'r') as f:\n",
    "            # It's assumed our file contains a single line,\n",
    "            # with our API key\n",
    "            return f.read().strip()\n",
    "    except FileNotFoundError:\n",
    "        print(\"'%s' file not found\" % filename)\n",
    "        \n",
    "api_key = get_file_contents(filename)\n",
    "#print(\"Our API key is: %s\" % (api_key))"
   ]
  },
  {
   "cell_type": "code",
   "execution_count": 3,
   "id": "24ead850",
   "metadata": {},
   "outputs": [],
   "source": [
    "import requests\n",
    "\n",
    "url = 'http://apis.data.go.kr/1611000/nsdi/ApartHousingPriceService/attr/getApartHousingPriceAttr'"
   ]
  },
  {
   "cell_type": "code",
   "execution_count": 4,
   "id": "5c27a3fe",
   "metadata": {
    "scrolled": true
   },
   "outputs": [],
   "source": [
    "#xml\n",
    "params ={'serviceKey' : api_key,\n",
    "         'pnu' : '1111010100100040007', \n",
    "         'stdrYear' : '2012', \n",
    "         'format' : 'xml', \n",
    "         'numOfRows' : '10', \n",
    "         'pageNo' : '1' }\n",
    "\n",
    "response_xml = requests.get(url, params=params).text.encode('utf-8')\n",
    "#response\n",
    "#print(response.content)"
   ]
  },
  {
   "cell_type": "code",
   "execution_count": 5,
   "id": "9b50874d",
   "metadata": {},
   "outputs": [],
   "source": [
    "#json\n",
    "params ={'serviceKey' : api_key,\n",
    "         'pnu' : '1111010100100040007', \n",
    "         'stdrYear' : '2012', \n",
    "         'format' : 'json', \n",
    "         'numOfRows' : '10', \n",
    "         'pageNo' : '1' }\n",
    "\n",
    "response_json = requests.get(url, params=params).text.encode('utf-8')"
   ]
  },
  {
   "cell_type": "code",
   "execution_count": 6,
   "id": "45d4bc20",
   "metadata": {
    "scrolled": true
   },
   "outputs": [
    {
     "data": {
      "text/plain": [
       "OrderedDict([('response',\n",
       "              OrderedDict([('numOfRows', '10'),\n",
       "                           ('pageNo', '1'),\n",
       "                           ('totalCount', '8'),\n",
       "                           ('fields',\n",
       "                            OrderedDict([('field',\n",
       "                                          [OrderedDict([('pnu',\n",
       "                                                         '1111010100100040007'),\n",
       "                                                        ('ldCode',\n",
       "                                                         '1111010100'),\n",
       "                                                        ('ldCodeNm',\n",
       "                                                         '서울특별시 종로구 청운동'),\n",
       "                                                        ('regstrSeCode', '1'),\n",
       "                                                        ('regstrSeCodeNm',\n",
       "                                                         '일반'),\n",
       "                                                        ('mnnmSlno', '4-7'),\n",
       "                                                        ('stdrYear', '2012'),\n",
       "                                                        ('stdrMt', '01'),\n",
       "                                                        ('aphusCode', '1'),\n",
       "                                                        ('aphusSeCode', '5'),\n",
       "                                                        ('aphusSeCodeNm',\n",
       "                                                         '다세대'),\n",
       "                                                        ('aphusNm', '신구파인힐'),\n",
       "                                                        ('floorNm', '1'),\n",
       "                                                        ('hoNm', '101'),\n",
       "                                                        ('prvuseAr', '211.13'),\n",
       "                                                        ('pblntfPc',\n",
       "                                                         '700000000'),\n",
       "                                                        ('lastUpdtDt',\n",
       "                                                         '2016-11-09')]),\n",
       "                                           OrderedDict([('pnu',\n",
       "                                                         '1111010100100040007'),\n",
       "                                                        ('ldCode',\n",
       "                                                         '1111010100'),\n",
       "                                                        ('ldCodeNm',\n",
       "                                                         '서울특별시 종로구 청운동'),\n",
       "                                                        ('regstrSeCode', '1'),\n",
       "                                                        ('regstrSeCodeNm',\n",
       "                                                         '일반'),\n",
       "                                                        ('mnnmSlno', '4-7'),\n",
       "                                                        ('stdrYear', '2012'),\n",
       "                                                        ('stdrMt', '01'),\n",
       "                                                        ('aphusCode', '1'),\n",
       "                                                        ('aphusSeCode', '5'),\n",
       "                                                        ('aphusSeCodeNm',\n",
       "                                                         '다세대'),\n",
       "                                                        ('aphusNm', '신구파인힐'),\n",
       "                                                        ('floorNm', '1'),\n",
       "                                                        ('hoNm', '102'),\n",
       "                                                        ('prvuseAr', '209.21'),\n",
       "                                                        ('pblntfPc',\n",
       "                                                         '691000000'),\n",
       "                                                        ('lastUpdtDt',\n",
       "                                                         '2016-11-09')]),\n",
       "                                           OrderedDict([('pnu',\n",
       "                                                         '1111010100100040007'),\n",
       "                                                        ('ldCode',\n",
       "                                                         '1111010100'),\n",
       "                                                        ('ldCodeNm',\n",
       "                                                         '서울특별시 종로구 청운동'),\n",
       "                                                        ('regstrSeCode', '1'),\n",
       "                                                        ('regstrSeCodeNm',\n",
       "                                                         '일반'),\n",
       "                                                        ('mnnmSlno', '4-7'),\n",
       "                                                        ('stdrYear', '2012'),\n",
       "                                                        ('stdrMt', '01'),\n",
       "                                                        ('aphusCode', '1'),\n",
       "                                                        ('aphusSeCode', '5'),\n",
       "                                                        ('aphusSeCodeNm',\n",
       "                                                         '다세대'),\n",
       "                                                        ('aphusNm', '신구파인힐'),\n",
       "                                                        ('floorNm', '2'),\n",
       "                                                        ('hoNm', '201'),\n",
       "                                                        ('prvuseAr', '207.89'),\n",
       "                                                        ('pblntfPc',\n",
       "                                                         '691000000'),\n",
       "                                                        ('lastUpdtDt',\n",
       "                                                         '2016-11-09')]),\n",
       "                                           OrderedDict([('pnu',\n",
       "                                                         '1111010100100040007'),\n",
       "                                                        ('ldCode',\n",
       "                                                         '1111010100'),\n",
       "                                                        ('ldCodeNm',\n",
       "                                                         '서울특별시 종로구 청운동'),\n",
       "                                                        ('regstrSeCode', '1'),\n",
       "                                                        ('regstrSeCodeNm',\n",
       "                                                         '일반'),\n",
       "                                                        ('mnnmSlno', '4-7'),\n",
       "                                                        ('stdrYear', '2012'),\n",
       "                                                        ('stdrMt', '01'),\n",
       "                                                        ('aphusCode', '1'),\n",
       "                                                        ('aphusSeCode', '5'),\n",
       "                                                        ('aphusSeCodeNm',\n",
       "                                                         '다세대'),\n",
       "                                                        ('aphusNm', '신구파인힐'),\n",
       "                                                        ('floorNm', '2'),\n",
       "                                                        ('hoNm', '202'),\n",
       "                                                        ('prvuseAr', '215.09'),\n",
       "                                                        ('pblntfPc',\n",
       "                                                         '700000000'),\n",
       "                                                        ('lastUpdtDt',\n",
       "                                                         '2016-11-09')]),\n",
       "                                           OrderedDict([('pnu',\n",
       "                                                         '1111010100100040007'),\n",
       "                                                        ('ldCode',\n",
       "                                                         '1111010100'),\n",
       "                                                        ('ldCodeNm',\n",
       "                                                         '서울특별시 종로구 청운동'),\n",
       "                                                        ('regstrSeCode', '1'),\n",
       "                                                        ('regstrSeCodeNm',\n",
       "                                                         '일반'),\n",
       "                                                        ('mnnmSlno', '4-7'),\n",
       "                                                        ('stdrYear', '2012'),\n",
       "                                                        ('stdrMt', '01'),\n",
       "                                                        ('aphusCode', '1'),\n",
       "                                                        ('aphusSeCode', '5'),\n",
       "                                                        ('aphusSeCodeNm',\n",
       "                                                         '다세대'),\n",
       "                                                        ('aphusNm', '신구파인힐'),\n",
       "                                                        ('floorNm', '3'),\n",
       "                                                        ('hoNm', '301'),\n",
       "                                                        ('prvuseAr', '219.33'),\n",
       "                                                        ('pblntfPc',\n",
       "                                                         '729000000'),\n",
       "                                                        ('lastUpdtDt',\n",
       "                                                         '2016-11-09')]),\n",
       "                                           OrderedDict([('pnu',\n",
       "                                                         '1111010100100040007'),\n",
       "                                                        ('ldCode',\n",
       "                                                         '1111010100'),\n",
       "                                                        ('ldCodeNm',\n",
       "                                                         '서울특별시 종로구 청운동'),\n",
       "                                                        ('regstrSeCode', '1'),\n",
       "                                                        ('regstrSeCodeNm',\n",
       "                                                         '일반'),\n",
       "                                                        ('mnnmSlno', '4-7'),\n",
       "                                                        ('stdrYear', '2012'),\n",
       "                                                        ('stdrMt', '01'),\n",
       "                                                        ('aphusCode', '1'),\n",
       "                                                        ('aphusSeCode', '5'),\n",
       "                                                        ('aphusSeCodeNm',\n",
       "                                                         '다세대'),\n",
       "                                                        ('aphusNm', '신구파인힐'),\n",
       "                                                        ('floorNm', '3'),\n",
       "                                                        ('hoNm', '302'),\n",
       "                                                        ('prvuseAr', '212.57'),\n",
       "                                                        ('pblntfPc',\n",
       "                                                         '700000000'),\n",
       "                                                        ('lastUpdtDt',\n",
       "                                                         '2016-11-09')]),\n",
       "                                           OrderedDict([('pnu',\n",
       "                                                         '1111010100100040007'),\n",
       "                                                        ('ldCode',\n",
       "                                                         '1111010100'),\n",
       "                                                        ('ldCodeNm',\n",
       "                                                         '서울특별시 종로구 청운동'),\n",
       "                                                        ('regstrSeCode', '1'),\n",
       "                                                        ('regstrSeCodeNm',\n",
       "                                                         '일반'),\n",
       "                                                        ('mnnmSlno', '4-7'),\n",
       "                                                        ('stdrYear', '2012'),\n",
       "                                                        ('stdrMt', '01'),\n",
       "                                                        ('aphusCode', '1'),\n",
       "                                                        ('aphusSeCode', '5'),\n",
       "                                                        ('aphusSeCodeNm',\n",
       "                                                         '다세대'),\n",
       "                                                        ('aphusNm', '신구파인힐'),\n",
       "                                                        ('floorNm', '-1'),\n",
       "                                                        ('hoNm', 'B02'),\n",
       "                                                        ('prvuseAr', '90.72'),\n",
       "                                                        ('pblntfPc',\n",
       "                                                         '264000000'),\n",
       "                                                        ('lastUpdtDt',\n",
       "                                                         '2016-11-09')]),\n",
       "                                           OrderedDict([('pnu',\n",
       "                                                         '1111010100100040007'),\n",
       "                                                        ('ldCode',\n",
       "                                                         '1111010100'),\n",
       "                                                        ('ldCodeNm',\n",
       "                                                         '서울특별시 종로구 청운동'),\n",
       "                                                        ('regstrSeCode', '1'),\n",
       "                                                        ('regstrSeCodeNm',\n",
       "                                                         '일반'),\n",
       "                                                        ('mnnmSlno', '4-7'),\n",
       "                                                        ('stdrYear', '2012'),\n",
       "                                                        ('stdrMt', '01'),\n",
       "                                                        ('aphusCode', '1'),\n",
       "                                                        ('aphusSeCode', '5'),\n",
       "                                                        ('aphusSeCodeNm',\n",
       "                                                         '다세대'),\n",
       "                                                        ('aphusNm', '신구파인힐'),\n",
       "                                                        ('floorNm', '-1'),\n",
       "                                                        ('hoNm', 'B01'),\n",
       "                                                        ('prvuseAr', '118.77'),\n",
       "                                                        ('pblntfPc',\n",
       "                                                         '360000000'),\n",
       "                                                        ('lastUpdtDt',\n",
       "                                                         '2016-11-09')])])]))]))])"
      ]
     },
     "execution_count": 6,
     "metadata": {},
     "output_type": "execute_result"
    }
   ],
   "source": [
    "import xmltodict\n",
    "xmltodict.parse(response_xml)"
   ]
  },
  {
   "cell_type": "code",
   "execution_count": 7,
   "id": "e90c7d1a",
   "metadata": {},
   "outputs": [],
   "source": [
    "def load_xml_to_dataframe(response, keyword):\n",
    "    import bs4 as bs\n",
    "    import urllib.request\n",
    "    soup = bs.BeautifulSoup(response_xml,'xml')\n",
    "    \n",
    "    rows = soup.find_all(keyword)\n",
    "    columns = rows[0].find_all()\n",
    "    \n",
    "    rowList = []\n",
    "    nameList = []\n",
    "    columnList = []\n",
    "\n",
    "    rowsLen = len(rows)\n",
    "    columnsLen = len(columns)\n",
    "\n",
    "    for i in range(0, rowsLen):\n",
    "        columns = rows[i].find_all()\n",
    "\n",
    "        for j in range(0, columnsLen):\n",
    "            if i == 0:\n",
    "                nameList.append(columns[j].name) #header\n",
    "            eachColumn = columns[j].text #value\n",
    "            columnList.append(eachColumn)\n",
    "        rowList.append(columnList)\n",
    "        columnList = []    # 다음 row의 값을 넣기 위해 비워준다\n",
    "\n",
    "    result = pd.DataFrame(rowList, columns=nameList)\n",
    "    return result"
   ]
  },
  {
   "cell_type": "code",
   "execution_count": 8,
   "id": "1dad5b2a",
   "metadata": {},
   "outputs": [],
   "source": [
    "result = load_xml_to_dataframe(response_xml, 'field')"
   ]
  },
  {
   "cell_type": "code",
   "execution_count": 9,
   "id": "a8ae276d",
   "metadata": {},
   "outputs": [
    {
     "name": "stdout",
     "output_type": "stream",
     "text": [
      "<class 'pandas.core.frame.DataFrame'>\n",
      "RangeIndex: 8 entries, 0 to 7\n",
      "Data columns (total 17 columns):\n",
      " #   Column          Non-Null Count  Dtype \n",
      "---  ------          --------------  ----- \n",
      " 0   pnu             8 non-null      object\n",
      " 1   ldCode          8 non-null      object\n",
      " 2   ldCodeNm        8 non-null      object\n",
      " 3   regstrSeCode    8 non-null      object\n",
      " 4   regstrSeCodeNm  8 non-null      object\n",
      " 5   mnnmSlno        8 non-null      object\n",
      " 6   stdrYear        8 non-null      object\n",
      " 7   stdrMt          8 non-null      object\n",
      " 8   aphusCode       8 non-null      object\n",
      " 9   aphusSeCode     8 non-null      object\n",
      " 10  aphusSeCodeNm   8 non-null      object\n",
      " 11  aphusNm         8 non-null      object\n",
      " 12  floorNm         8 non-null      object\n",
      " 13  hoNm            8 non-null      object\n",
      " 14  prvuseAr        8 non-null      object\n",
      " 15  pblntfPc        8 non-null      object\n",
      " 16  lastUpdtDt      8 non-null      object\n",
      "dtypes: object(17)\n",
      "memory usage: 1.2+ KB\n"
     ]
    }
   ],
   "source": [
    "result.info()"
   ]
  },
  {
   "cell_type": "code",
   "execution_count": 10,
   "id": "f8f37ae5",
   "metadata": {},
   "outputs": [],
   "source": [
    "result['pblntfPc'] = pd.to_numeric(result['pblntfPc'],errors = 'coerce')"
   ]
  },
  {
   "cell_type": "code",
   "execution_count": 11,
   "id": "36aa3beb",
   "metadata": {},
   "outputs": [
    {
     "data": {
      "text/plain": [
       "(4835000000, 604375000.0)"
      ]
     },
     "execution_count": 11,
     "metadata": {},
     "output_type": "execute_result"
    }
   ],
   "source": [
    "result['pblntfPc'].sum(), result['pblntfPc'].mean()"
   ]
  },
  {
   "cell_type": "code",
   "execution_count": 12,
   "id": "3d10da49",
   "metadata": {},
   "outputs": [
    {
     "data": {
      "text/plain": [
       "(8, 17)"
      ]
     },
     "execution_count": 12,
     "metadata": {},
     "output_type": "execute_result"
    }
   ],
   "source": [
    "result.shape"
   ]
  },
  {
   "cell_type": "markdown",
   "id": "9941f270",
   "metadata": {},
   "source": [
    "result.columns"
   ]
  },
  {
   "cell_type": "markdown",
   "id": "e7cd34bd",
   "metadata": {},
   "source": [
    "cols = pd.read_excel('/Users/reejungkim/Documents/Git/OpenAPI_Ministry_of_land/출력결과(Response Element).xlsx',\n",
    "             header=1)[['항목명(영문)', '항목명(국문)']]\n",
    "\n",
    "cols"
   ]
  },
  {
   "cell_type": "markdown",
   "id": "c6194c5d",
   "metadata": {},
   "source": [
    "cols.shape[0]\n",
    "\n",
    "cols.loc[0]\n",
    "\n",
    "cols.loc[0][0]\n",
    "\n",
    "for i in range(0, cols.shape[0]):\n",
    "    result.rename(columns={cols.loc[i][0]: cols.loc[i][1]}, inplace=True)"
   ]
  },
  {
   "cell_type": "code",
   "execution_count": 13,
   "id": "d1e9ddb9",
   "metadata": {},
   "outputs": [],
   "source": [
    "result['lng']=126.969069\n",
    "result['lat']=37.587111"
   ]
  },
  {
   "cell_type": "code",
   "execution_count": 14,
   "id": "5232eb26",
   "metadata": {},
   "outputs": [],
   "source": [
    "\n",
    "import pydeck as pdk\n",
    "import streamlit as st\n"
   ]
  },
  {
   "cell_type": "code",
   "execution_count": 15,
   "id": "0f377955",
   "metadata": {},
   "outputs": [],
   "source": [
    "import os\n",
    "from dotenv import load_dotenv\n",
    "#.env file to environment\n",
    "#load_dotenv()\n",
    "load_dotenv(verbose=True)\n",
    "token = os.getenv('MAPBOX_API_KEY')\n"
   ]
  },
  {
   "cell_type": "code",
   "execution_count": 16,
   "id": "a48e7b42",
   "metadata": {},
   "outputs": [],
   "source": [
    "result = result.groupby('ldCode').mean()"
   ]
  },
  {
   "cell_type": "code",
   "execution_count": 17,
   "id": "6a6f3e18",
   "metadata": {},
   "outputs": [
    {
     "data": {
      "application/vnd.jupyter.widget-view+json": {
       "model_id": "16d5186fa92b440692784783b692fd7b",
       "version_major": 2,
       "version_minor": 0
      },
      "text/plain": [
       "DeckGLWidget(google_maps_key=None, json_input='{\"initialViewState\": {\"bearing\": -27, \"latitude\": 37.587111, \"l…"
      ]
     },
     "metadata": {},
     "output_type": "display_data"
    }
   ],
   "source": [
    "#view = pdk.data_utils.compute_view(result[[\"lng\", \"lat\"]])\n",
    "#view.pitch = 75\n",
    "#view.bearing = 60\n",
    "\n",
    "column_layer = pdk.Layer(\n",
    "    \"ColumnLayer\",\n",
    "    data=result,\n",
    "    get_position=[\"lng\", \"lat\"],\n",
    "    get_elevation=result.pblntfPc.mean(), #\"pblntfPc\", \n",
    "    elevation_scale=10,\n",
    "    extrude=True,\n",
    "    radius=100,\n",
    "   get_fill_color=[\"pbIntfPc\"],\n",
    "    pickable=True, # 지도와 interactive 한 동작 on\n",
    "    auto_highlight=True,\n",
    ")\n",
    "\n",
    "\n",
    "tooltip = {\n",
    "    \"html\": \"<b>{pblntfPc} 원 </b> \",\n",
    "    \"style\": {\"background\": \"grey\", \"color\": \"white\", \"font-family\": '\"Helvetica Neue\", Arial', \"z-index\": \"10000\"},\n",
    "}\n",
    "\n",
    "# Set the viewport location\n",
    "view_state = pdk.ViewState(\n",
    "    longitude=126.969069,\n",
    "    latitude=37.587111,\n",
    "    zoom=15,\n",
    "    min_zoom=5,\n",
    "    max_zoom=20,\n",
    "    pitch=40,\n",
    "    bearing=-27)\n",
    "\n",
    "\n",
    "r = pdk.Deck(\n",
    "    column_layer,\n",
    "    initial_view_state=view_state,\n",
    "    tooltip=tooltip,\n",
    "    map_provider=\"mapbox\",\n",
    "   # map_style=pdk.map_styles.SATELLITE,\n",
    ")\n",
    "\n",
    "r.to_html(\"column_layer.html\")\n",
    "r.show()"
   ]
  },
  {
   "cell_type": "code",
   "execution_count": null,
   "id": "5e28b6ac",
   "metadata": {},
   "outputs": [],
   "source": []
  },
  {
   "cell_type": "code",
   "execution_count": null,
   "id": "7b98738e",
   "metadata": {},
   "outputs": [],
   "source": []
  },
  {
   "cell_type": "code",
   "execution_count": null,
   "id": "c6a6eb1d",
   "metadata": {},
   "outputs": [],
   "source": []
  }
 ],
 "metadata": {
  "kernelspec": {
   "display_name": "Python 3 (ipykernel)",
   "language": "python",
   "name": "python3"
  },
  "language_info": {
   "codemirror_mode": {
    "name": "ipython",
    "version": 3
   },
   "file_extension": ".py",
   "mimetype": "text/x-python",
   "name": "python",
   "nbconvert_exporter": "python",
   "pygments_lexer": "ipython3",
   "version": "3.7.11"
  }
 },
 "nbformat": 4,
 "nbformat_minor": 5
}
