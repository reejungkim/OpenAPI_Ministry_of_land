{
 "cells": [
  {
   "cell_type": "markdown",
   "id": "ce27ba03",
   "metadata": {},
   "source": [
    "https://www.data.go.kr/iim/api/selectAPIAcountView.do\n",
    "\n",
    "\n",
    "https://www.data.go.kr/tcs/dss/selectApiDataDetailView.do?publicDataPk=15057988"
   ]
  },
  {
   "cell_type": "markdown",
   "id": "719575bc",
   "metadata": {},
   "source": [
    "#### 요청변수(Request Parameter)\n",
    "\n",
    "| 항목명(국문) | 항목명(영문)   | 항목크기 | 항목구분 | 샘플데이터               | 항목설명                 |\n",
    "|---------|-----------|------|------|---------------------|----------------------|\n",
    "| 고유번호    | pnu       | 19   | 필수   | 1111010100100040007 | 고유번호(8자리 이상)         |\n",
    "| 기준년도    | stdrYear  | 4    | 옵션   | 2012                | 기준년도(YYYY: 4자리)      |\n",
    "| 응답결과 형식 | format    | 5    | 옵션   | xml                 | 응답결과 형식(xml 또는 json) |\n",
    "| 검색건수    | numOfRows | 4    | 옵션   | 10                  | 검색건수                 |\n",
    "| 페이지 번호  | pageNo    | 4    | 옵션   | 1                   | 페이지 번호               |\n"
   ]
  },
  {
   "cell_type": "markdown",
   "id": "296f1bea",
   "metadata": {},
   "source": [
    "#### 출력결과(Response Element)\n",
    "\n",
    "| 항목명(국문)  | 항목명(영문)        | 항목크기 | 항목구분 | 샘플데이터               | 항목설명     |\n",
    "|----------|----------------|------|------|---------------------|----------|\n",
    "| 고유번호     | pnu            | 19   | 필수   | 1111010100100040007 | 고유번호     |\n",
    "| 법정동코드    | ldCode         | 10   | 옵션   | 1111010100          | 법정동코드    |\n",
    "| 법정동명     | ldCodeNm       | 300  | 옵션   | 서울특별시 종로구 청운동       | 법정동명     |\n",
    "| 특수지구분코드  | regstrSeCode   | 1    | 옵션   | 1                   | 특수지구분코드  |\n",
    "| 특수지구분명   | regstrSeCodeNm | 300  | 옵션   | 일반                  | 특수지구분명   |\n",
    "| 지번       | mnnmSlno       | 9    | 옵션   | 1-1                 | 지번       |\n",
    "| 기준년도     | stdrYear       | 4    | 필수   | 2012                | 기준년도     |\n",
    "| 기준월      | stdrMt         | 2    | 필수   | 09                  | 기준월      |\n",
    "| 공동주택코드   | aphusCode      | 10   | 옵션   | 1                   | 공동주택코드   |\n",
    "| 공동주택구분코드 | aphusSeCode    | 1    | 옵션   | 5                   | 공동주택구분코드 |\n",
    "| 공동주택구분명  | aphusSeCodeNm  | 300  | 옵션   | 다세대                 | 공동주택구분명  |\n",
    "| 특수지명     | spclLandNm     | 150  | 옵션   | 상암택지개발사업지구 3-7블럭    | 특수지명     |\n",
    "| 공동주택명    | aphusNm        | 300  | 옵션   | 상암월드컵7단지            | 공동주택명    |\n",
    "| 전용면적(㎡)  | prvuseAr       | 20   | 옵션   | 84.45               | 전용면적(㎡)  |\n",
    "| 공시가격(원)  | pblntfPc       | 13   | 옵션   | 480000000           | 공시가격(원)  |\n",
    "| 데이터기준일자  | lastUpdtDt     | 10   | 옵션   | 2016-09-26          | 데이터기준일자  |\n"
   ]
  },
  {
   "cell_type": "code",
   "execution_count": 1,
   "id": "6c7625ff",
   "metadata": {},
   "outputs": [],
   "source": [
    "filename = 'ServiceKey.txt'\n",
    "def get_file_contents(filename):\n",
    "    \"\"\" Given a filename,\n",
    "        return the contents of that file\n",
    "    \"\"\"\n",
    "    try:\n",
    "        with open(filename, 'r') as f:\n",
    "            # It's assumed our file contains a single line,\n",
    "            # with our API key\n",
    "            return f.read().strip()\n",
    "    except FileNotFoundError:\n",
    "        print(\"'%s' file not found\" % filename)\n",
    "        \n",
    "api_key = get_file_contents(filename)\n",
    "#print(\"Our API key is: %s\" % (api_key))"
   ]
  },
  {
   "cell_type": "code",
   "execution_count": 2,
   "id": "f1c6d6f0",
   "metadata": {
    "scrolled": true
   },
   "outputs": [],
   "source": [
    "import requests\n",
    "\n",
    "\n",
    "url = 'http://apis.data.go.kr/1611000/nsdi/ApartHousingPriceService/attr/getApartHousingPriceAttr'\n",
    "\n",
    "\n",
    "params ={'serviceKey' : api_key,\n",
    "         'pnu' : '1111010100100040007', \n",
    "         'stdrYear' : '2012', \n",
    "         'format' : 'xml', \n",
    "         'numOfRows' : '10', \n",
    "         'pageNo' : '1' }\n",
    "\n",
    "response = requests.get(url, params=params).text.encode('utf-8')\n",
    "#response\n",
    "#print(response.content)\n"
   ]
  },
  {
   "cell_type": "code",
   "execution_count": 3,
   "id": "a50ae71b",
   "metadata": {},
   "outputs": [],
   "source": [
    "import bs4 as bs\n",
    "import urllib.request\n",
    "import pandas as pd \n",
    "\n",
    "soup = bs.BeautifulSoup(response,'xml')\n"
   ]
  },
  {
   "cell_type": "markdown",
   "id": "5c4f5e28",
   "metadata": {},
   "source": [
    "soup.find_all()"
   ]
  },
  {
   "cell_type": "code",
   "execution_count": 4,
   "id": "02df7c0b",
   "metadata": {},
   "outputs": [],
   "source": [
    "import xmltodict\n",
    " \n",
    "data = xmltodict.parse(response)"
   ]
  },
  {
   "cell_type": "code",
   "execution_count": 5,
   "id": "8ccfe954",
   "metadata": {},
   "outputs": [
    {
     "data": {
      "text/plain": [
       "[<field><pnu>1111010100100040007</pnu><ldCode>1111010100</ldCode><ldCodeNm>서울특별시 종로구 청운동</ldCodeNm><regstrSeCode>1</regstrSeCode><regstrSeCodeNm>일반</regstrSeCodeNm><mnnmSlno>4-7</mnnmSlno><stdrYear>2012</stdrYear><stdrMt>01</stdrMt><aphusCode>1</aphusCode><aphusSeCode>5</aphusSeCode><aphusSeCodeNm>다세대</aphusSeCodeNm><aphusNm>신구파인힐</aphusNm><floorNm>1</floorNm><hoNm>101</hoNm><prvuseAr>211.13</prvuseAr><pblntfPc>700000000</pblntfPc><lastUpdtDt>2016-11-09</lastUpdtDt></field>,\n",
       " <field><pnu>1111010100100040007</pnu><ldCode>1111010100</ldCode><ldCodeNm>서울특별시 종로구 청운동</ldCodeNm><regstrSeCode>1</regstrSeCode><regstrSeCodeNm>일반</regstrSeCodeNm><mnnmSlno>4-7</mnnmSlno><stdrYear>2012</stdrYear><stdrMt>01</stdrMt><aphusCode>1</aphusCode><aphusSeCode>5</aphusSeCode><aphusSeCodeNm>다세대</aphusSeCodeNm><aphusNm>신구파인힐</aphusNm><floorNm>1</floorNm><hoNm>102</hoNm><prvuseAr>209.21</prvuseAr><pblntfPc>691000000</pblntfPc><lastUpdtDt>2016-11-09</lastUpdtDt></field>,\n",
       " <field><pnu>1111010100100040007</pnu><ldCode>1111010100</ldCode><ldCodeNm>서울특별시 종로구 청운동</ldCodeNm><regstrSeCode>1</regstrSeCode><regstrSeCodeNm>일반</regstrSeCodeNm><mnnmSlno>4-7</mnnmSlno><stdrYear>2012</stdrYear><stdrMt>01</stdrMt><aphusCode>1</aphusCode><aphusSeCode>5</aphusSeCode><aphusSeCodeNm>다세대</aphusSeCodeNm><aphusNm>신구파인힐</aphusNm><floorNm>2</floorNm><hoNm>201</hoNm><prvuseAr>207.89</prvuseAr><pblntfPc>691000000</pblntfPc><lastUpdtDt>2016-11-09</lastUpdtDt></field>,\n",
       " <field><pnu>1111010100100040007</pnu><ldCode>1111010100</ldCode><ldCodeNm>서울특별시 종로구 청운동</ldCodeNm><regstrSeCode>1</regstrSeCode><regstrSeCodeNm>일반</regstrSeCodeNm><mnnmSlno>4-7</mnnmSlno><stdrYear>2012</stdrYear><stdrMt>01</stdrMt><aphusCode>1</aphusCode><aphusSeCode>5</aphusSeCode><aphusSeCodeNm>다세대</aphusSeCodeNm><aphusNm>신구파인힐</aphusNm><floorNm>2</floorNm><hoNm>202</hoNm><prvuseAr>215.09</prvuseAr><pblntfPc>700000000</pblntfPc><lastUpdtDt>2016-11-09</lastUpdtDt></field>,\n",
       " <field><pnu>1111010100100040007</pnu><ldCode>1111010100</ldCode><ldCodeNm>서울특별시 종로구 청운동</ldCodeNm><regstrSeCode>1</regstrSeCode><regstrSeCodeNm>일반</regstrSeCodeNm><mnnmSlno>4-7</mnnmSlno><stdrYear>2012</stdrYear><stdrMt>01</stdrMt><aphusCode>1</aphusCode><aphusSeCode>5</aphusSeCode><aphusSeCodeNm>다세대</aphusSeCodeNm><aphusNm>신구파인힐</aphusNm><floorNm>3</floorNm><hoNm>301</hoNm><prvuseAr>219.33</prvuseAr><pblntfPc>729000000</pblntfPc><lastUpdtDt>2016-11-09</lastUpdtDt></field>,\n",
       " <field><pnu>1111010100100040007</pnu><ldCode>1111010100</ldCode><ldCodeNm>서울특별시 종로구 청운동</ldCodeNm><regstrSeCode>1</regstrSeCode><regstrSeCodeNm>일반</regstrSeCodeNm><mnnmSlno>4-7</mnnmSlno><stdrYear>2012</stdrYear><stdrMt>01</stdrMt><aphusCode>1</aphusCode><aphusSeCode>5</aphusSeCode><aphusSeCodeNm>다세대</aphusSeCodeNm><aphusNm>신구파인힐</aphusNm><floorNm>3</floorNm><hoNm>302</hoNm><prvuseAr>212.57</prvuseAr><pblntfPc>700000000</pblntfPc><lastUpdtDt>2016-11-09</lastUpdtDt></field>,\n",
       " <field><pnu>1111010100100040007</pnu><ldCode>1111010100</ldCode><ldCodeNm>서울특별시 종로구 청운동</ldCodeNm><regstrSeCode>1</regstrSeCode><regstrSeCodeNm>일반</regstrSeCodeNm><mnnmSlno>4-7</mnnmSlno><stdrYear>2012</stdrYear><stdrMt>01</stdrMt><aphusCode>1</aphusCode><aphusSeCode>5</aphusSeCode><aphusSeCodeNm>다세대</aphusSeCodeNm><aphusNm>신구파인힐</aphusNm><floorNm>-1</floorNm><hoNm>B02</hoNm><prvuseAr>90.72</prvuseAr><pblntfPc>264000000</pblntfPc><lastUpdtDt>2016-11-09</lastUpdtDt></field>,\n",
       " <field><pnu>1111010100100040007</pnu><ldCode>1111010100</ldCode><ldCodeNm>서울특별시 종로구 청운동</ldCodeNm><regstrSeCode>1</regstrSeCode><regstrSeCodeNm>일반</regstrSeCodeNm><mnnmSlno>4-7</mnnmSlno><stdrYear>2012</stdrYear><stdrMt>01</stdrMt><aphusCode>1</aphusCode><aphusSeCode>5</aphusSeCode><aphusSeCodeNm>다세대</aphusSeCodeNm><aphusNm>신구파인힐</aphusNm><floorNm>-1</floorNm><hoNm>B01</hoNm><prvuseAr>118.77</prvuseAr><pblntfPc>360000000</pblntfPc><lastUpdtDt>2016-11-09</lastUpdtDt></field>]"
      ]
     },
     "execution_count": 5,
     "metadata": {},
     "output_type": "execute_result"
    }
   ],
   "source": [
    "rows = soup.find_all('field')\n",
    "rows"
   ]
  },
  {
   "cell_type": "code",
   "execution_count": 6,
   "id": "c90c9a0b",
   "metadata": {},
   "outputs": [
    {
     "data": {
      "text/plain": [
       "[<pnu>1111010100100040007</pnu>,\n",
       " <ldCode>1111010100</ldCode>,\n",
       " <ldCodeNm>서울특별시 종로구 청운동</ldCodeNm>,\n",
       " <regstrSeCode>1</regstrSeCode>,\n",
       " <regstrSeCodeNm>일반</regstrSeCodeNm>,\n",
       " <mnnmSlno>4-7</mnnmSlno>,\n",
       " <stdrYear>2012</stdrYear>,\n",
       " <stdrMt>01</stdrMt>,\n",
       " <aphusCode>1</aphusCode>,\n",
       " <aphusSeCode>5</aphusSeCode>,\n",
       " <aphusSeCodeNm>다세대</aphusSeCodeNm>,\n",
       " <aphusNm>신구파인힐</aphusNm>,\n",
       " <floorNm>1</floorNm>,\n",
       " <hoNm>101</hoNm>,\n",
       " <prvuseAr>211.13</prvuseAr>,\n",
       " <pblntfPc>700000000</pblntfPc>,\n",
       " <lastUpdtDt>2016-11-09</lastUpdtDt>]"
      ]
     },
     "execution_count": 6,
     "metadata": {},
     "output_type": "execute_result"
    }
   ],
   "source": [
    "columns = rows[0].find_all()\n",
    "columns"
   ]
  },
  {
   "cell_type": "code",
   "execution_count": 7,
   "id": "335e1a33",
   "metadata": {},
   "outputs": [
    {
     "data": {
      "text/plain": [
       "('pnu', '1111010100100040007')"
      ]
     },
     "execution_count": 7,
     "metadata": {},
     "output_type": "execute_result"
    }
   ],
   "source": [
    "columns[0].name, columns[0].text"
   ]
  },
  {
   "cell_type": "code",
   "execution_count": 8,
   "id": "e7e51ded",
   "metadata": {},
   "outputs": [],
   "source": [
    "rowList = []\n",
    "nameList = []\n",
    "columnList = []\n",
    "\n",
    "columnsLen = len(columns)\n",
    "for j in range(0, columnsLen):\n",
    "    eachColumn = columns[j].text\n",
    "    columnList.append(eachColumn)\n",
    "rowList.append(columnList)"
   ]
  },
  {
   "cell_type": "markdown",
   "id": "88952872",
   "metadata": {},
   "source": [
    "rowList"
   ]
  },
  {
   "cell_type": "code",
   "execution_count": 9,
   "id": "9d979e93",
   "metadata": {},
   "outputs": [
    {
     "data": {
      "text/html": [
       "<div>\n",
       "<style scoped>\n",
       "    .dataframe tbody tr th:only-of-type {\n",
       "        vertical-align: middle;\n",
       "    }\n",
       "\n",
       "    .dataframe tbody tr th {\n",
       "        vertical-align: top;\n",
       "    }\n",
       "\n",
       "    .dataframe thead th {\n",
       "        text-align: right;\n",
       "    }\n",
       "</style>\n",
       "<table border=\"1\" class=\"dataframe\">\n",
       "  <thead>\n",
       "    <tr style=\"text-align: right;\">\n",
       "      <th></th>\n",
       "      <th>pnu</th>\n",
       "      <th>ldCode</th>\n",
       "      <th>ldCodeNm</th>\n",
       "      <th>regstrSeCode</th>\n",
       "      <th>regstrSeCodeNm</th>\n",
       "      <th>mnnmSlno</th>\n",
       "      <th>stdrYear</th>\n",
       "      <th>stdrMt</th>\n",
       "      <th>aphusCode</th>\n",
       "      <th>aphusSeCode</th>\n",
       "      <th>aphusSeCodeNm</th>\n",
       "      <th>aphusNm</th>\n",
       "      <th>floorNm</th>\n",
       "      <th>hoNm</th>\n",
       "      <th>prvuseAr</th>\n",
       "      <th>pblntfPc</th>\n",
       "      <th>lastUpdtDt</th>\n",
       "    </tr>\n",
       "  </thead>\n",
       "  <tbody>\n",
       "    <tr>\n",
       "      <th>0</th>\n",
       "      <td>1111010100100040007</td>\n",
       "      <td>1111010100</td>\n",
       "      <td>서울특별시 종로구 청운동</td>\n",
       "      <td>1</td>\n",
       "      <td>일반</td>\n",
       "      <td>4-7</td>\n",
       "      <td>2012</td>\n",
       "      <td>01</td>\n",
       "      <td>1</td>\n",
       "      <td>5</td>\n",
       "      <td>다세대</td>\n",
       "      <td>신구파인힐</td>\n",
       "      <td>1</td>\n",
       "      <td>101</td>\n",
       "      <td>211.13</td>\n",
       "      <td>700000000</td>\n",
       "      <td>2016-11-09</td>\n",
       "    </tr>\n",
       "    <tr>\n",
       "      <th>1</th>\n",
       "      <td>1111010100100040007</td>\n",
       "      <td>1111010100</td>\n",
       "      <td>서울특별시 종로구 청운동</td>\n",
       "      <td>1</td>\n",
       "      <td>일반</td>\n",
       "      <td>4-7</td>\n",
       "      <td>2012</td>\n",
       "      <td>01</td>\n",
       "      <td>1</td>\n",
       "      <td>5</td>\n",
       "      <td>다세대</td>\n",
       "      <td>신구파인힐</td>\n",
       "      <td>1</td>\n",
       "      <td>102</td>\n",
       "      <td>209.21</td>\n",
       "      <td>691000000</td>\n",
       "      <td>2016-11-09</td>\n",
       "    </tr>\n",
       "    <tr>\n",
       "      <th>2</th>\n",
       "      <td>1111010100100040007</td>\n",
       "      <td>1111010100</td>\n",
       "      <td>서울특별시 종로구 청운동</td>\n",
       "      <td>1</td>\n",
       "      <td>일반</td>\n",
       "      <td>4-7</td>\n",
       "      <td>2012</td>\n",
       "      <td>01</td>\n",
       "      <td>1</td>\n",
       "      <td>5</td>\n",
       "      <td>다세대</td>\n",
       "      <td>신구파인힐</td>\n",
       "      <td>2</td>\n",
       "      <td>201</td>\n",
       "      <td>207.89</td>\n",
       "      <td>691000000</td>\n",
       "      <td>2016-11-09</td>\n",
       "    </tr>\n",
       "    <tr>\n",
       "      <th>3</th>\n",
       "      <td>1111010100100040007</td>\n",
       "      <td>1111010100</td>\n",
       "      <td>서울특별시 종로구 청운동</td>\n",
       "      <td>1</td>\n",
       "      <td>일반</td>\n",
       "      <td>4-7</td>\n",
       "      <td>2012</td>\n",
       "      <td>01</td>\n",
       "      <td>1</td>\n",
       "      <td>5</td>\n",
       "      <td>다세대</td>\n",
       "      <td>신구파인힐</td>\n",
       "      <td>2</td>\n",
       "      <td>202</td>\n",
       "      <td>215.09</td>\n",
       "      <td>700000000</td>\n",
       "      <td>2016-11-09</td>\n",
       "    </tr>\n",
       "    <tr>\n",
       "      <th>4</th>\n",
       "      <td>1111010100100040007</td>\n",
       "      <td>1111010100</td>\n",
       "      <td>서울특별시 종로구 청운동</td>\n",
       "      <td>1</td>\n",
       "      <td>일반</td>\n",
       "      <td>4-7</td>\n",
       "      <td>2012</td>\n",
       "      <td>01</td>\n",
       "      <td>1</td>\n",
       "      <td>5</td>\n",
       "      <td>다세대</td>\n",
       "      <td>신구파인힐</td>\n",
       "      <td>3</td>\n",
       "      <td>301</td>\n",
       "      <td>219.33</td>\n",
       "      <td>729000000</td>\n",
       "      <td>2016-11-09</td>\n",
       "    </tr>\n",
       "  </tbody>\n",
       "</table>\n",
       "</div>"
      ],
      "text/plain": [
       "                   pnu      ldCode       ldCodeNm regstrSeCode regstrSeCodeNm  \\\n",
       "0  1111010100100040007  1111010100  서울특별시 종로구 청운동            1             일반   \n",
       "1  1111010100100040007  1111010100  서울특별시 종로구 청운동            1             일반   \n",
       "2  1111010100100040007  1111010100  서울특별시 종로구 청운동            1             일반   \n",
       "3  1111010100100040007  1111010100  서울특별시 종로구 청운동            1             일반   \n",
       "4  1111010100100040007  1111010100  서울특별시 종로구 청운동            1             일반   \n",
       "\n",
       "  mnnmSlno stdrYear stdrMt aphusCode aphusSeCode aphusSeCodeNm aphusNm  \\\n",
       "0      4-7     2012     01         1           5           다세대   신구파인힐   \n",
       "1      4-7     2012     01         1           5           다세대   신구파인힐   \n",
       "2      4-7     2012     01         1           5           다세대   신구파인힐   \n",
       "3      4-7     2012     01         1           5           다세대   신구파인힐   \n",
       "4      4-7     2012     01         1           5           다세대   신구파인힐   \n",
       "\n",
       "  floorNm hoNm prvuseAr   pblntfPc  lastUpdtDt  \n",
       "0       1  101   211.13  700000000  2016-11-09  \n",
       "1       1  102   209.21  691000000  2016-11-09  \n",
       "2       2  201   207.89  691000000  2016-11-09  \n",
       "3       2  202   215.09  700000000  2016-11-09  \n",
       "4       3  301   219.33  729000000  2016-11-09  "
      ]
     },
     "execution_count": 9,
     "metadata": {},
     "output_type": "execute_result"
    }
   ],
   "source": [
    "\n",
    "rowList = []\n",
    "nameList = []\n",
    "columnList = []\n",
    "\n",
    "rowsLen = len(rows)\n",
    "columnsLen = len(columns)\n",
    "\n",
    "for i in range(0, rowsLen):\n",
    "    columns = rows[i].find_all()\n",
    "    \n",
    "    for j in range(0, columnsLen):\n",
    "        if i == 0:\n",
    "            nameList.append(columns[j].name) #header\n",
    "        eachColumn = columns[j].text #value\n",
    "        columnList.append(eachColumn)\n",
    "    rowList.append(columnList)\n",
    "    columnList = []    # 다음 row의 값을 넣기 위해 비워준다. (매우 중요!!)\n",
    "    \n",
    "result = pd.DataFrame(rowList, columns=nameList)\n",
    "result.head()\n"
   ]
  },
  {
   "cell_type": "code",
   "execution_count": 70,
   "id": "1f583eeb",
   "metadata": {},
   "outputs": [
    {
     "name": "stdout",
     "output_type": "stream",
     "text": [
      "<class 'pandas.core.frame.DataFrame'>\n",
      "RangeIndex: 8 entries, 0 to 7\n",
      "Data columns (total 19 columns):\n",
      " #   Column          Non-Null Count  Dtype  \n",
      "---  ------          --------------  -----  \n",
      " 0   pnu             8 non-null      object \n",
      " 1   ldCode          8 non-null      object \n",
      " 2   ldCodeNm        8 non-null      object \n",
      " 3   regstrSeCode    8 non-null      object \n",
      " 4   regstrSeCodeNm  8 non-null      object \n",
      " 5   mnnmSlno        8 non-null      object \n",
      " 6   stdrYear        8 non-null      object \n",
      " 7   stdrMt          8 non-null      object \n",
      " 8   aphusCode       8 non-null      object \n",
      " 9   aphusSeCode     8 non-null      object \n",
      " 10  aphusSeCodeNm   8 non-null      object \n",
      " 11  aphusNm         8 non-null      object \n",
      " 12  floorNm         8 non-null      object \n",
      " 13  hoNm            8 non-null      object \n",
      " 14  prvuseAr        8 non-null      object \n",
      " 15  pblntfPc        8 non-null      object \n",
      " 16  lastUpdtDt      8 non-null      object \n",
      " 17  lng             8 non-null      float64\n",
      " 18  lat             8 non-null      float64\n",
      "dtypes: float64(2), object(17)\n",
      "memory usage: 1.3+ KB\n"
     ]
    }
   ],
   "source": [
    "result.info()"
   ]
  },
  {
   "cell_type": "code",
   "execution_count": 72,
   "id": "075570d8",
   "metadata": {},
   "outputs": [],
   "source": [
    "result['pblntfPc'] = pd.to_numeric(result['pblntfPc'],errors = 'coerce')"
   ]
  },
  {
   "cell_type": "code",
   "execution_count": 89,
   "id": "28f491bd",
   "metadata": {},
   "outputs": [
    {
     "data": {
      "text/plain": [
       "(4835000000, 604375000.0)"
      ]
     },
     "execution_count": 89,
     "metadata": {},
     "output_type": "execute_result"
    }
   ],
   "source": [
    "result['pblntfPc'].sum(), result['pblntfPc'].mean()"
   ]
  },
  {
   "cell_type": "code",
   "execution_count": 90,
   "id": "3b9ca8bc",
   "metadata": {},
   "outputs": [
    {
     "data": {
      "text/plain": [
       "(8, 19)"
      ]
     },
     "execution_count": 90,
     "metadata": {},
     "output_type": "execute_result"
    }
   ],
   "source": [
    "result.shape"
   ]
  },
  {
   "cell_type": "markdown",
   "id": "f31cd223",
   "metadata": {},
   "source": [
    "result.columns"
   ]
  },
  {
   "cell_type": "markdown",
   "id": "a7daf481",
   "metadata": {},
   "source": [
    "cols = pd.read_excel('/Users/reejungkim/Documents/Git/OpenAPI_Ministry_of_land/출력결과(Response Element).xlsx',\n",
    "             header=1)[['항목명(영문)', '항목명(국문)']]\n",
    "\n",
    "cols"
   ]
  },
  {
   "cell_type": "markdown",
   "id": "14b18f64",
   "metadata": {},
   "source": [
    "cols.shape[0]\n",
    "\n",
    "cols.loc[0]\n",
    "\n",
    "cols.loc[0][0]\n",
    "\n",
    "for i in range(0, cols.shape[0]):\n",
    "    result.rename(columns={cols.loc[i][0]: cols.loc[i][1]}, inplace=True)"
   ]
  },
  {
   "cell_type": "code",
   "execution_count": 91,
   "id": "34c75d3b",
   "metadata": {},
   "outputs": [],
   "source": [
    "result['lng']=126.969069\n",
    "result['lat']=37.587111"
   ]
  },
  {
   "cell_type": "code",
   "execution_count": 92,
   "id": "f701edd0",
   "metadata": {},
   "outputs": [],
   "source": [
    "\n",
    "import pydeck as pdk\n",
    "import streamlit as st\n"
   ]
  },
  {
   "cell_type": "markdown",
   "id": "dd174e1c",
   "metadata": {},
   "source": [
    "     \n",
    "mapbox_api_key = get_file_contents('ServiceKey MapBox.txt')"
   ]
  },
  {
   "cell_type": "code",
   "execution_count": 93,
   "id": "9a702ab9",
   "metadata": {},
   "outputs": [],
   "source": [
    "import os\n",
    "from dotenv import load_dotenv\n",
    "#.env file to environment\n",
    "#load_dotenv()\n",
    "load_dotenv(verbose=True)\n",
    "token = os.getenv('MAPBOX_API_KEY')\n"
   ]
  },
  {
   "cell_type": "markdown",
   "id": "2e34de18",
   "metadata": {},
   "source": [
    "#Define a layer to display on a map\n",
    "layer = pdk.Layer(\n",
    "    'HexagonLayer',\n",
    "    result,\n",
    "    get_position='[lng, lat]',\n",
    "    auto_highlight=True,\n",
    "    elevation_scale=50,\n",
    "    pickable=True,\n",
    "    elevation_range=[0, 30],\n",
    "    extruded=True,                 \n",
    "    coverage=1)\n",
    "\n",
    "#Set the viewport location\n",
    "view_state = pdk.ViewState(\n",
    "    longitude=126.969069,\n",
    "    latitude=37.587111,\n",
    "    zoom=10,\n",
    "    min_zoom=5,\n",
    "    max_zoom=15,\n",
    "    pitch=40.5,\n",
    "    bearing=-27.36)\n",
    "\n",
    "#Render\n",
    "r = pdk.Deck(layers=[layer], initial_view_state=view_state)\n",
    "r.to_html('demo.html')\n",
    "r.show()"
   ]
  },
  {
   "cell_type": "code",
   "execution_count": 96,
   "id": "021855a9",
   "metadata": {},
   "outputs": [
    {
     "data": {
      "text/html": [
       "<div>\n",
       "<style scoped>\n",
       "    .dataframe tbody tr th:only-of-type {\n",
       "        vertical-align: middle;\n",
       "    }\n",
       "\n",
       "    .dataframe tbody tr th {\n",
       "        vertical-align: top;\n",
       "    }\n",
       "\n",
       "    .dataframe thead th {\n",
       "        text-align: right;\n",
       "    }\n",
       "</style>\n",
       "<table border=\"1\" class=\"dataframe\">\n",
       "  <thead>\n",
       "    <tr style=\"text-align: right;\">\n",
       "      <th></th>\n",
       "      <th>pnu</th>\n",
       "      <th>ldCode</th>\n",
       "      <th>ldCodeNm</th>\n",
       "      <th>regstrSeCode</th>\n",
       "      <th>regstrSeCodeNm</th>\n",
       "      <th>mnnmSlno</th>\n",
       "      <th>stdrYear</th>\n",
       "      <th>stdrMt</th>\n",
       "      <th>aphusCode</th>\n",
       "      <th>aphusSeCode</th>\n",
       "      <th>aphusSeCodeNm</th>\n",
       "      <th>aphusNm</th>\n",
       "      <th>floorNm</th>\n",
       "      <th>hoNm</th>\n",
       "      <th>prvuseAr</th>\n",
       "      <th>pblntfPc</th>\n",
       "      <th>lastUpdtDt</th>\n",
       "      <th>lng</th>\n",
       "      <th>lat</th>\n",
       "    </tr>\n",
       "  </thead>\n",
       "  <tbody>\n",
       "    <tr>\n",
       "      <th>3</th>\n",
       "      <td>1111010100100040007</td>\n",
       "      <td>1111010100</td>\n",
       "      <td>서울특별시 종로구 청운동</td>\n",
       "      <td>1</td>\n",
       "      <td>일반</td>\n",
       "      <td>4-7</td>\n",
       "      <td>2012</td>\n",
       "      <td>01</td>\n",
       "      <td>1</td>\n",
       "      <td>5</td>\n",
       "      <td>다세대</td>\n",
       "      <td>신구파인힐</td>\n",
       "      <td>2</td>\n",
       "      <td>202</td>\n",
       "      <td>215.09</td>\n",
       "      <td>700000000</td>\n",
       "      <td>2016-11-09</td>\n",
       "      <td>126.969069</td>\n",
       "      <td>37.587111</td>\n",
       "    </tr>\n",
       "    <tr>\n",
       "      <th>4</th>\n",
       "      <td>1111010100100040007</td>\n",
       "      <td>1111010100</td>\n",
       "      <td>서울특별시 종로구 청운동</td>\n",
       "      <td>1</td>\n",
       "      <td>일반</td>\n",
       "      <td>4-7</td>\n",
       "      <td>2012</td>\n",
       "      <td>01</td>\n",
       "      <td>1</td>\n",
       "      <td>5</td>\n",
       "      <td>다세대</td>\n",
       "      <td>신구파인힐</td>\n",
       "      <td>3</td>\n",
       "      <td>301</td>\n",
       "      <td>219.33</td>\n",
       "      <td>729000000</td>\n",
       "      <td>2016-11-09</td>\n",
       "      <td>126.969069</td>\n",
       "      <td>37.587111</td>\n",
       "    </tr>\n",
       "    <tr>\n",
       "      <th>5</th>\n",
       "      <td>1111010100100040007</td>\n",
       "      <td>1111010100</td>\n",
       "      <td>서울특별시 종로구 청운동</td>\n",
       "      <td>1</td>\n",
       "      <td>일반</td>\n",
       "      <td>4-7</td>\n",
       "      <td>2012</td>\n",
       "      <td>01</td>\n",
       "      <td>1</td>\n",
       "      <td>5</td>\n",
       "      <td>다세대</td>\n",
       "      <td>신구파인힐</td>\n",
       "      <td>3</td>\n",
       "      <td>302</td>\n",
       "      <td>212.57</td>\n",
       "      <td>700000000</td>\n",
       "      <td>2016-11-09</td>\n",
       "      <td>126.969069</td>\n",
       "      <td>37.587111</td>\n",
       "    </tr>\n",
       "    <tr>\n",
       "      <th>6</th>\n",
       "      <td>1111010100100040007</td>\n",
       "      <td>1111010100</td>\n",
       "      <td>서울특별시 종로구 청운동</td>\n",
       "      <td>1</td>\n",
       "      <td>일반</td>\n",
       "      <td>4-7</td>\n",
       "      <td>2012</td>\n",
       "      <td>01</td>\n",
       "      <td>1</td>\n",
       "      <td>5</td>\n",
       "      <td>다세대</td>\n",
       "      <td>신구파인힐</td>\n",
       "      <td>-1</td>\n",
       "      <td>B02</td>\n",
       "      <td>90.72</td>\n",
       "      <td>264000000</td>\n",
       "      <td>2016-11-09</td>\n",
       "      <td>126.969069</td>\n",
       "      <td>37.587111</td>\n",
       "    </tr>\n",
       "    <tr>\n",
       "      <th>7</th>\n",
       "      <td>1111010100100040007</td>\n",
       "      <td>1111010100</td>\n",
       "      <td>서울특별시 종로구 청운동</td>\n",
       "      <td>1</td>\n",
       "      <td>일반</td>\n",
       "      <td>4-7</td>\n",
       "      <td>2012</td>\n",
       "      <td>01</td>\n",
       "      <td>1</td>\n",
       "      <td>5</td>\n",
       "      <td>다세대</td>\n",
       "      <td>신구파인힐</td>\n",
       "      <td>-1</td>\n",
       "      <td>B01</td>\n",
       "      <td>118.77</td>\n",
       "      <td>360000000</td>\n",
       "      <td>2016-11-09</td>\n",
       "      <td>126.969069</td>\n",
       "      <td>37.587111</td>\n",
       "    </tr>\n",
       "  </tbody>\n",
       "</table>\n",
       "</div>"
      ],
      "text/plain": [
       "                   pnu      ldCode       ldCodeNm regstrSeCode regstrSeCodeNm  \\\n",
       "3  1111010100100040007  1111010100  서울특별시 종로구 청운동            1             일반   \n",
       "4  1111010100100040007  1111010100  서울특별시 종로구 청운동            1             일반   \n",
       "5  1111010100100040007  1111010100  서울특별시 종로구 청운동            1             일반   \n",
       "6  1111010100100040007  1111010100  서울특별시 종로구 청운동            1             일반   \n",
       "7  1111010100100040007  1111010100  서울특별시 종로구 청운동            1             일반   \n",
       "\n",
       "  mnnmSlno stdrYear stdrMt aphusCode aphusSeCode aphusSeCodeNm aphusNm  \\\n",
       "3      4-7     2012     01         1           5           다세대   신구파인힐   \n",
       "4      4-7     2012     01         1           5           다세대   신구파인힐   \n",
       "5      4-7     2012     01         1           5           다세대   신구파인힐   \n",
       "6      4-7     2012     01         1           5           다세대   신구파인힐   \n",
       "7      4-7     2012     01         1           5           다세대   신구파인힐   \n",
       "\n",
       "  floorNm hoNm prvuseAr   pblntfPc  lastUpdtDt         lng        lat  \n",
       "3       2  202   215.09  700000000  2016-11-09  126.969069  37.587111  \n",
       "4       3  301   219.33  729000000  2016-11-09  126.969069  37.587111  \n",
       "5       3  302   212.57  700000000  2016-11-09  126.969069  37.587111  \n",
       "6      -1  B02    90.72  264000000  2016-11-09  126.969069  37.587111  \n",
       "7      -1  B01   118.77  360000000  2016-11-09  126.969069  37.587111  "
      ]
     },
     "execution_count": 96,
     "metadata": {},
     "output_type": "execute_result"
    }
   ],
   "source": [
    "result.tail()"
   ]
  },
  {
   "cell_type": "code",
   "execution_count": 104,
   "id": "1cbe3c4d",
   "metadata": {},
   "outputs": [],
   "source": [
    "result = result.groupby('ldCode').mean()"
   ]
  },
  {
   "cell_type": "code",
   "execution_count": 105,
   "id": "c912b63f",
   "metadata": {},
   "outputs": [
    {
     "data": {
      "application/vnd.jupyter.widget-view+json": {
       "model_id": "695c47bb4f3d45528653ce84269cbd2b",
       "version_major": 2,
       "version_minor": 0
      },
      "text/plain": [
       "DeckGLWidget(google_maps_key=None, json_input='{\"initialViewState\": {\"bearing\": -27, \"latitude\": 37.587111, \"l…"
      ]
     },
     "metadata": {},
     "output_type": "display_data"
    }
   ],
   "source": [
    "#view = pdk.data_utils.compute_view(result[[\"lng\", \"lat\"]])\n",
    "#view.pitch = 75\n",
    "#view.bearing = 60\n",
    "\n",
    "column_layer = pdk.Layer(\n",
    "    \"ColumnLayer\",\n",
    "    data=result,\n",
    "    get_position=[\"lng\", \"lat\"],\n",
    "    get_elevation=result.pblntfPc.mean(), #\"pblntfPc\", \n",
    "    elevation_scale=10,\n",
    "    extrude=True,\n",
    "    radius=100,\n",
    "   get_fill_color=[\"pbIntfPc\"],\n",
    "    pickable=True, # 지도와 interactive 한 동작 on\n",
    "    auto_highlight=True,\n",
    ")\n",
    "\n",
    "\n",
    "tooltip = {\n",
    "    \"html\": \"<b>{pblntfPc} 원 </b> \",\n",
    "    \"style\": {\"background\": \"grey\", \"color\": \"white\", \"font-family\": '\"Helvetica Neue\", Arial', \"z-index\": \"10000\"},\n",
    "}\n",
    "\n",
    "# Set the viewport location\n",
    "view_state = pdk.ViewState(\n",
    "    longitude=126.969069,\n",
    "    latitude=37.587111,\n",
    "    zoom=15,\n",
    "    min_zoom=5,\n",
    "    max_zoom=20,\n",
    "    pitch=40,\n",
    "    bearing=-27)\n",
    "\n",
    "\n",
    "r = pdk.Deck(\n",
    "    column_layer,\n",
    "    initial_view_state=view_state,\n",
    "    tooltip=tooltip,\n",
    "    map_provider=\"mapbox\",\n",
    "   # map_style=pdk.map_styles.SATELLITE,\n",
    ")\n",
    "\n",
    "r.to_html(\"column_layer.html\")\n",
    "r.show()"
   ]
  },
  {
   "cell_type": "code",
   "execution_count": null,
   "id": "ea127068",
   "metadata": {},
   "outputs": [],
   "source": []
  }
 ],
 "metadata": {
  "kernelspec": {
   "display_name": "Python 3 (ipykernel)",
   "language": "python",
   "name": "python3"
  },
  "language_info": {
   "codemirror_mode": {
    "name": "ipython",
    "version": 3
   },
   "file_extension": ".py",
   "mimetype": "text/x-python",
   "name": "python",
   "nbconvert_exporter": "python",
   "pygments_lexer": "ipython3",
   "version": "3.7.11"
  }
 },
 "nbformat": 4,
 "nbformat_minor": 5
}
